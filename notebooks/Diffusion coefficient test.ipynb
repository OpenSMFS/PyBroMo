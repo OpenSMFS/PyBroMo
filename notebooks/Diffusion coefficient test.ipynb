{
 "metadata": {
  "name": "",
  "signature": "sha256:a813335a254cea3b86c9418d2392bd86fb42ce150b8c14c4ea16bd65d909826d"
 },
 "nbformat": 3,
 "nbformat_minor": 0,
 "worksheets": [
  {
   "cells": [
    {
     "cell_type": "heading",
     "level": 1,
     "metadata": {},
     "source": [
      "[PyBroMo](http://tritemio.github.io/PyBroMo/) - Diffusion coefficient test"
     ]
    },
    {
     "cell_type": "markdown",
     "metadata": {},
     "source": [
      "> *This notebook is part of [PyBroMo](http://tritemio.github.io/PyBroMo/) a \n",
      "> python-based single-molecule Brownian motion diffusion simulator \n",
      "> that simulates confocal [smFRET](http://en.wikipedia.org/wiki/Single-molecule_FRET)\n",
      "> experiments. You can find the full list of notebooks in \n",
      "> [Usage Examples](http://tritemio.github.io/PyBroMo/#usage-examples).*"
     ]
    },
    {
     "cell_type": "markdown",
     "metadata": {},
     "source": [
      "> *In this notebook we test that the diffusion coefficient of the simulated data matches with the\n",
      "> value used as input. \n",
      "> See also [Theory - On Browniam motion and Diffusion cofficient](Theory - On Browniam motion and Diffusion cofficient.ipynb)*"
     ]
    },
    {
     "cell_type": "heading",
     "level": 2,
     "metadata": {},
     "source": [
      "Brownian Motion simulation on a single host"
     ]
    },
    {
     "cell_type": "markdown",
     "metadata": {},
     "source": [
      "Here we will see a simple example usage of the **PyBroMo** software.\n",
      "\n",
      "The main file is `brownian.py`: it contains the simulator code, \n",
      "helper functions and the default simulation parameters.\n",
      "\n",
      "For convenience, here we use an initialization script that will enter into the **PyBroMo** folder, \n",
      "load `brownian.py` and also import some useful IPython functions:"
     ]
    },
    {
     "cell_type": "code",
     "collapsed": false,
     "input": [
      "%run -i load_bromo.py"
     ],
     "language": "python",
     "metadata": {},
     "outputs": [
      {
       "output_type": "stream",
       "stream": "stdout",
       "text": [
        "C:\\Data\\Antonio\\software\\src\\pybromo\n"
       ]
      }
     ],
     "prompt_number": 1
    },
    {
     "cell_type": "markdown",
     "metadata": {},
     "source": [
      "The default simulation parameters are defined in `brownian.py`. \n",
      "Let take a look at them:\n",
      "    \n",
      "    # Simulation time step\n",
      "    t_step = 0.5e-6   # seconds\n",
      "\n",
      "    # Diffusion coefficient\n",
      "    Du = 12.0        # um^2 / s\n",
      "    D = Du*(1e-6)**2\n",
      "\n",
      "    # Time duration of the simulation\n",
      "    t_max = 0.1 # seconds\n",
      "    N_samples = int(t_max/t_step)\n",
      "\n",
      "    # PSF definition\n",
      "    psf = NumericPSF()\n",
      "\n",
      "    # Box definition\n",
      "    box = Box(x1=-4.e-6,x2=4.e-6,y1=-4.e-6,y2=4.e-6,z1=-6e-6,z2=6e-6)\n",
      "\n",
      "    # Particles definition\n",
      "    P = gen_particles(1, box)\n",
      "\n",
      "    # Particle simulation definition\n",
      "    S = ParticlesSimulation(D=D, t_step=t_step, particles=P, box=box, psf=psf)\n",
      "    \n",
      "After running `brownian.py` we can define some custom parameters:"
     ]
    },
    {
     "cell_type": "code",
     "collapsed": false,
     "input": [
      "%run brownian.py"
     ],
     "language": "python",
     "metadata": {},
     "outputs": [],
     "prompt_number": 2
    },
    {
     "cell_type": "code",
     "collapsed": false,
     "input": [
      "# Initialize the random seed to a fixed value (for notebook reproducibility)\n",
      "np.random.seed(6)\n",
      "\n",
      "# Diffusion coefficient\n",
      "Du = 12.0        # um^2 / s\n",
      "D = Du*(1e-6)**2\n",
      "\n",
      "# Simulation time step\n",
      "t_step = 0.5e-6   # seconds\n",
      "\n",
      "# Time duration of the simulation\n",
      "t_max = .2 # seconds\n",
      "\n",
      "# All the particle starts in the origin for this test\n",
      "num_part = 20\n",
      "P = [Particle(x0=0, y0=0, z0=0) for _ in xrange(num_part)]\n",
      "\n",
      "# Particle simulation definition\n",
      "S = ParticlesSimulation(D=D, t_step=t_step, t_max=t_max, particles=P, box=box, psf=psf)"
     ],
     "language": "python",
     "metadata": {},
     "outputs": [],
     "prompt_number": 3
    },
    {
     "cell_type": "markdown",
     "metadata": {},
     "source": [
      "The most important line is the last line which creates an object `S` \n",
      "that contains all the simulation parameters (it also contains methods to run \n",
      "the simulation). You can print `S` and check the current parameters:"
     ]
    },
    {
     "cell_type": "code",
     "collapsed": false,
     "input": [
      "S"
     ],
     "language": "python",
     "metadata": {},
     "outputs": [
      {
       "metadata": {},
       "output_type": "pyout",
       "prompt_number": 4,
       "text": [
        "Box: X 8.0um, Y 8.0um, Z 12.0um\n",
        "D 1.2e-11, #Particles 20, t_step 0.5us, t_max 0.2s EID_ID 0 0"
       ]
      }
     ],
     "prompt_number": 4
    },
    {
     "cell_type": "markdown",
     "metadata": {},
     "source": [
      "or check the required RAM for the current parameters:"
     ]
    },
    {
     "cell_type": "code",
     "collapsed": false,
     "input": [
      "S.print_RAM()"
     ],
     "language": "python",
     "metadata": {},
     "outputs": [
      {
       "output_type": "stream",
       "stream": "stdout",
       "text": [
        "  Number of particles: 20\n",
        "  Number of time steps: 400000\n",
        "  Emission array size: 3.0 MB (total_emission=True) \n",
        "  Emission array size: 60.0 MB (total_emission=False)\n",
        "  Position array size: 180.0 MB \n"
       ]
      }
     ],
     "prompt_number": 5
    },
    {
     "cell_type": "markdown",
     "metadata": {},
     "source": [
      "Now we launch the simulation with the previous parameters (2 particles, 0.2s total time). \n",
      "We simulate the brownian motion trajectories and the emission at the same time.\n",
      "The trajectories are saved in the array `S.pos`, the emission in the array `S.em`. \n",
      "The emission represents the emission rate in each time step (0.5us)."
     ]
    },
    {
     "cell_type": "code",
     "collapsed": false,
     "input": [
      "S.sim_motion_em(total_emission=True, delete_pos=False, wrap=False)"
     ],
     "language": "python",
     "metadata": {},
     "outputs": [
      {
       "output_type": "stream",
       "stream": "stdout",
       "text": [
        "[3968] Simulating particle 0 \n",
        "[3968] Simulating particle 1 "
       ]
      },
      {
       "output_type": "stream",
       "stream": "stdout",
       "text": [
        "\n",
        "[3968] Simulating particle 2 "
       ]
      },
      {
       "output_type": "stream",
       "stream": "stdout",
       "text": [
        "\n",
        "[3968] Simulating particle 3 "
       ]
      },
      {
       "output_type": "stream",
       "stream": "stdout",
       "text": [
        "\n",
        "[3968] Simulating particle 4 "
       ]
      },
      {
       "output_type": "stream",
       "stream": "stdout",
       "text": [
        "\n",
        "[3968] Simulating particle 5 "
       ]
      },
      {
       "output_type": "stream",
       "stream": "stdout",
       "text": [
        "\n",
        "[3968] Simulating particle 6 "
       ]
      },
      {
       "output_type": "stream",
       "stream": "stdout",
       "text": [
        "\n",
        "[3968] Simulating particle 7 "
       ]
      },
      {
       "output_type": "stream",
       "stream": "stdout",
       "text": [
        "\n",
        "[3968] Simulating particle 8 "
       ]
      },
      {
       "output_type": "stream",
       "stream": "stdout",
       "text": [
        "\n",
        "[3968] Simulating particle 9 "
       ]
      },
      {
       "output_type": "stream",
       "stream": "stdout",
       "text": [
        "\n",
        "[3968] Simulating particle 10 "
       ]
      },
      {
       "output_type": "stream",
       "stream": "stdout",
       "text": [
        "\n",
        "[3968] Simulating particle 11 "
       ]
      },
      {
       "output_type": "stream",
       "stream": "stdout",
       "text": [
        "\n",
        "[3968] Simulating particle 12 "
       ]
      },
      {
       "output_type": "stream",
       "stream": "stdout",
       "text": [
        "\n",
        "[3968] Simulating particle 13 "
       ]
      },
      {
       "output_type": "stream",
       "stream": "stdout",
       "text": [
        "\n",
        "[3968] Simulating particle 14 "
       ]
      },
      {
       "output_type": "stream",
       "stream": "stdout",
       "text": [
        "\n",
        "[3968] Simulating particle 15 "
       ]
      },
      {
       "output_type": "stream",
       "stream": "stdout",
       "text": [
        "\n",
        "[3968] Simulating particle 16 "
       ]
      },
      {
       "output_type": "stream",
       "stream": "stdout",
       "text": [
        "\n",
        "[3968] Simulating particle 17 "
       ]
      },
      {
       "output_type": "stream",
       "stream": "stdout",
       "text": [
        "\n",
        "[3968] Simulating particle 18 "
       ]
      },
      {
       "output_type": "stream",
       "stream": "stdout",
       "text": [
        "\n",
        "[3968] Simulating particle 19 "
       ]
      },
      {
       "output_type": "stream",
       "stream": "stdout",
       "text": [
        "\n"
       ]
      }
     ],
     "prompt_number": 6
    },
    {
     "cell_type": "code",
     "collapsed": false,
     "input": [
      "x, y, z = S.pos[:, 0, :], S.pos[:, 1, :], S.pos[:, 2, :]"
     ],
     "language": "python",
     "metadata": {},
     "outputs": [],
     "prompt_number": 7
    },
    {
     "cell_type": "code",
     "collapsed": false,
     "input": [
      "dx, dy, dz = np.diff(x), np.diff(y), np.diff(z)"
     ],
     "language": "python",
     "metadata": {},
     "outputs": [],
     "prompt_number": 8
    },
    {
     "cell_type": "code",
     "collapsed": false,
     "input": [
      "r_squared = x**2 + y**2 + z**2"
     ],
     "language": "python",
     "metadata": {},
     "outputs": [],
     "prompt_number": 9
    },
    {
     "cell_type": "code",
     "collapsed": false,
     "input": [
      "dr_squared = dx**2 + dy**2 + dz**2"
     ],
     "language": "python",
     "metadata": {},
     "outputs": [],
     "prompt_number": 10
    },
    {
     "cell_type": "code",
     "collapsed": false,
     "input": [
      "dr_squared.mean()/(2*3*t_step), D"
     ],
     "language": "python",
     "metadata": {},
     "outputs": [
      {
       "metadata": {},
       "output_type": "pyout",
       "prompt_number": 11,
       "text": [
        "(1.1995038121250671e-11, 1.2e-11)"
       ]
      }
     ],
     "prompt_number": 11
    },
    {
     "cell_type": "code",
     "collapsed": false,
     "input": [
      "time = S.time()"
     ],
     "language": "python",
     "metadata": {},
     "outputs": [],
     "prompt_number": 12
    },
    {
     "cell_type": "code",
     "collapsed": false,
     "input": [
      "time[1] - time[0]"
     ],
     "language": "python",
     "metadata": {},
     "outputs": [
      {
       "metadata": {},
       "output_type": "pyout",
       "prompt_number": 13,
       "text": [
        "4.9999999999999998e-07"
       ]
      }
     ],
     "prompt_number": 13
    },
    {
     "cell_type": "code",
     "collapsed": false,
     "input": [
      "t_step"
     ],
     "language": "python",
     "metadata": {},
     "outputs": [
      {
       "metadata": {},
       "output_type": "pyout",
       "prompt_number": 14,
       "text": [
        "5e-07"
       ]
      }
     ],
     "prompt_number": 14
    },
    {
     "cell_type": "code",
     "collapsed": false,
     "input": [
      "plt.plot(time, r_squared.T, alpha=0.1);\n",
      "plt.plot(time, r_squared.mean(0), 'r', lw=3, alpha=0.8);\n",
      "plt.plot(time, (2*3*D)*time, '--k', lw=3, alpha=0.5)"
     ],
     "language": "python",
     "metadata": {},
     "outputs": [
      {
       "metadata": {},
       "output_type": "pyout",
       "prompt_number": 15,
       "text": [
        "[<matplotlib.lines.Line2D at 0x1334e908>]"
       ]
      },
      {
       "metadata": {},
       "output_type": "display_data",
       "png": "[encoded data removed]",
       "text": [
        "<matplotlib.figure.Figure at 0x131f02b0>"
       ]
      }
     ],
     "prompt_number": 15
    },
    {
     "cell_type": "code",
     "collapsed": false,
     "input": [],
     "language": "python",
     "metadata": {},
     "outputs": [],
     "prompt_number": 15
    },
    {
     "cell_type": "code",
     "collapsed": false,
     "input": [],
     "language": "python",
     "metadata": {},
     "outputs": [],
     "prompt_number": 15
    },
    {
     "cell_type": "code",
     "collapsed": false,
     "input": [],
     "language": "python",
     "metadata": {},
     "outputs": [],
     "prompt_number": 15
    }
   ],
   "metadata": {}
  }
 ]
}