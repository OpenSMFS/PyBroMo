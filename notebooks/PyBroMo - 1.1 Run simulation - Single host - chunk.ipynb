{
 "metadata": {
  "name": ""
 },
 "nbformat": 3,
 "nbformat_minor": 0,
 "worksheets": [
  {
   "cells": [
    {
     "cell_type": "heading",
     "level": 1,
     "metadata": {},
     "source": [
      "[PyBroMo](http://tritemio.github.io/PyBroMo/) - 1.1 Run the simulation - Single host - chunk"
     ]
    },
    {
     "cell_type": "markdown",
     "metadata": {},
     "source": [
      "> *This notebook is part of [PyBroMo](http://tritemio.github.io/PyBroMo/) a \n",
      "> python-based single-molecule Brownian motion diffusion simulator \n",
      "> that simulates confocal [smFRET](http://en.wikipedia.org/wiki/Single-molecule_FRET)\n",
      "> experiments. You can find the full list of notebooks in \n",
      "> [Usage Examples](http://tritemio.github.io/PyBroMo/#usage-examples).*"
     ]
    },
    {
     "cell_type": "heading",
     "level": 2,
     "metadata": {},
     "source": [
      "Brownian Motion simulation on a single host"
     ]
    },
    {
     "cell_type": "markdown",
     "metadata": {},
     "source": [
      "Here we will see a simple example usage of the **PyBroMo** software.\n",
      "\n",
      "The main file is `brownian.py`: it contains the simulator code, \n",
      "helper functions and the default simulation parameters.\n",
      "\n",
      "For convenience, here we use an initialization script that will enter into the **PyBroMo** folder, \n",
      "load `brownian.py` and also import some useful IPython functions:"
     ]
    },
    {
     "cell_type": "code",
     "collapsed": false,
     "input": [
      "%run -i load_bromo.py"
     ],
     "language": "python",
     "metadata": {},
     "outputs": [
      {
       "output_type": "stream",
       "stream": "stdout",
       "text": [
        "/Users/anto/PyBroMo\n",
        "\n",
        "Software revision unknown (git not found)."
       ]
      },
      {
       "output_type": "stream",
       "stream": "stdout",
       "text": [
        "\n"
       ]
      }
     ],
     "prompt_number": 1
    },
    {
     "cell_type": "markdown",
     "metadata": {},
     "source": [
      "The default simulation parameters are defined in `brownian.py`. \n",
      "Let take a look at them:\n",
      "    \n",
      "    # Simulation time step\n",
      "    t_step = 0.5e-6   # seconds\n",
      "\n",
      "    # Diffusion coefficient\n",
      "    Du = 12.0        # um^2 / s\n",
      "    D = Du*(1e-6)**2\n",
      "\n",
      "    # Time duration of the simulation\n",
      "    t_max = 0.1 # seconds\n",
      "    N_samples = int(t_max/t_step)\n",
      "\n",
      "    # PSF definition\n",
      "    psf = NumericPSF()\n",
      "\n",
      "    # Box definition\n",
      "    box = Box(x1=-4.e-6,x2=4.e-6,y1=-4.e-6,y2=4.e-6,z1=-6e-6,z2=6e-6)\n",
      "\n",
      "    # Particles definition\n",
      "    P = gen_particles(1, box)\n",
      "\n",
      "    # Particle simulation definition\n",
      "    S = ParticlesSimulation(D=D, t_step=t_step, particles=P, box=box, psf=psf)\n",
      "    \n",
      "After running `brownian.py` we can define some custom parameters:"
     ]
    },
    {
     "cell_type": "code",
     "collapsed": false,
     "input": [
      "%run brownian.py"
     ],
     "language": "python",
     "metadata": {},
     "outputs": [],
     "prompt_number": 2
    },
    {
     "cell_type": "code",
     "collapsed": false,
     "input": [
      "# Initialize the random seed to a fixed value (for notebook reproducibility)\n",
      "np.random.seed(6)\n",
      "\n",
      "# Simulation time step\n",
      "t_step = 0.5e-6   # seconds\n",
      "\n",
      "# Time duration of the simulation\n",
      "t_max = .3 # seconds\n",
      "\n",
      "# Particles definition\n",
      "P = gen_particles(15, box)\n",
      "\n",
      "# Particle simulation definition\n",
      "S = ParticlesSimulation(D=D, t_step=t_step, t_max=t_max, particles=P, box=box, psf=psf)"
     ],
     "language": "python",
     "metadata": {},
     "outputs": [],
     "prompt_number": 3
    },
    {
     "cell_type": "markdown",
     "metadata": {},
     "source": [
      "The most important line is the last line which creates an object `S` \n",
      "that contains all the simulation parameters (it also contains methods to run \n",
      "the simulation). You can print `S` and check the current parameters:"
     ]
    },
    {
     "cell_type": "code",
     "collapsed": false,
     "input": [
      "S"
     ],
     "language": "python",
     "metadata": {},
     "outputs": [
      {
       "metadata": {},
       "output_type": "pyout",
       "prompt_number": 4,
       "text": [
        "Box: X 8.0um, Y 8.0um, Z 12.0um\n",
        "D 1.2e-11, #Particles 15, t_step 0.5us, t_max 0.3s EID_ID 0 0"
       ]
      }
     ],
     "prompt_number": 4
    },
    {
     "cell_type": "markdown",
     "metadata": {},
     "source": [
      "or check the required RAM for the current parameters:"
     ]
    },
    {
     "cell_type": "code",
     "collapsed": false,
     "input": [
      "S.print_RAM()"
     ],
     "language": "python",
     "metadata": {},
     "outputs": [
      {
       "output_type": "stream",
       "stream": "stdout",
       "text": [
        "  Number of particles: 15\n",
        "  Number of time steps: 600000\n",
        "  Emission array size: 4.0 MB (total_emission=True) \n",
        "  Emission array size: 60.0 MB (total_emission=False)\n",
        "  Position array size: 180.0 MB \n"
       ]
      }
     ],
     "prompt_number": 5
    },
    {
     "cell_type": "markdown",
     "metadata": {},
     "source": [
      "Now we launch the simulation with the previous parameters (2 particles, 0.2s total time). \n",
      "We simulate the brownian motion trajectories and the emission at the same time.\n",
      "The trajectories are saved in the array `S.pos`, the emission in the array `S.em`. \n",
      "The emission represents the emission rate in each time step (0.5us)."
     ]
    },
    {
     "cell_type": "code",
     "collapsed": false,
     "input": [
      "import tables"
     ],
     "language": "python",
     "metadata": {},
     "outputs": [],
     "prompt_number": 6
    },
    {
     "cell_type": "code",
     "collapsed": false,
     "input": [
      "comp_filter = tables.Filters(complevel=6, complib='blosc')\n",
      "S.open_store(fname='store0_', comp_filter=comp_filter, chunksize=2**18)"
     ],
     "language": "python",
     "metadata": {},
     "outputs": [],
     "prompt_number": 7
    },
    {
     "cell_type": "code",
     "collapsed": false,
     "input": [
      "#S.store.close()"
     ],
     "language": "python",
     "metadata": {},
     "outputs": [],
     "prompt_number": 8
    },
    {
     "cell_type": "code",
     "collapsed": false,
     "input": [
      "S.psf_pytables.attrs._f_list()"
     ],
     "language": "python",
     "metadata": {},
     "outputs": [
      {
       "metadata": {},
       "output_type": "pyout",
       "prompt_number": 9,
       "text": [
        "['dir_', 'fname', 'x_step', 'z_step']"
       ]
      }
     ],
     "prompt_number": 9
    },
    {
     "cell_type": "code",
     "collapsed": false,
     "input": [
      "S.emission.attrs.psf_fname"
     ],
     "language": "python",
     "metadata": {},
     "outputs": [
      {
       "metadata": {},
       "output_type": "pyout",
       "prompt_number": 10,
       "text": [
        "'xz_realistic_z50_150_160_580nm_n1335_HR2'"
       ]
      }
     ],
     "prompt_number": 10
    },
    {
     "cell_type": "code",
     "collapsed": false,
     "input": [
      "S.emission.get_attr('psf_fname')"
     ],
     "language": "python",
     "metadata": {},
     "outputs": [
      {
       "metadata": {},
       "output_type": "pyout",
       "prompt_number": 11,
       "text": [
        "'xz_realistic_z50_150_160_580nm_n1335_HR2'"
       ]
      }
     ],
     "prompt_number": 11
    },
    {
     "cell_type": "code",
     "collapsed": false,
     "input": [
      "[n.name for n in S.store.data_file.root.parameters._f_list_nodes()]"
     ],
     "language": "python",
     "metadata": {},
     "outputs": [
      {
       "metadata": {},
       "output_type": "pyout",
       "prompt_number": 12,
       "text": [
        "['D', 'EID', 'ID', 'chunksize', 'np', 'pico_mol', 't_max', 't_step']"
       ]
      }
     ],
     "prompt_number": 12
    },
    {
     "cell_type": "code",
     "collapsed": false,
     "input": [
      "box = S.store.data_file.get_node_attr('/parameters', 'box')\n",
      "S.box, box"
     ],
     "language": "python",
     "metadata": {},
     "outputs": [
      {
       "metadata": {},
       "output_type": "pyout",
       "prompt_number": 13,
       "text": [
        "(Box: X 8.0um, Y 8.0um, Z 12.0um, Box: X 8.0um, Y 8.0um, Z 12.0um)"
       ]
      }
     ],
     "prompt_number": 13
    },
    {
     "cell_type": "code",
     "collapsed": false,
     "input": [
      "particles = S.store.data_file.get_node_attr('/parameters', 'particles')\n",
      "S.particles, particles"
     ],
     "language": "python",
     "metadata": {},
     "outputs": [
      {
       "metadata": {},
       "output_type": "pyout",
       "prompt_number": 14,
       "text": [
        "([<__main__.Particle instance at 0x102441f38>,\n",
        "  <__main__.Particle instance at 0x10a399e60>,\n",
        "  <__main__.Particle instance at 0x10a399ef0>,\n",
        "  <__main__.Particle instance at 0x10a399f80>,\n",
        "  <__main__.Particle instance at 0x10a399fc8>,\n",
        "  <__main__.Particle instance at 0x10a399998>,\n",
        "  <__main__.Particle instance at 0x10a3999e0>,\n",
        "  <__main__.Particle instance at 0x10a399a28>,\n",
        "  <__main__.Particle instance at 0x10a399a70>,\n",
        "  <__main__.Particle instance at 0x10a399ab8>,\n",
        "  <__main__.Particle instance at 0x10a399b00>,\n",
        "  <__main__.Particle instance at 0x10a399b48>,\n",
        "  <__main__.Particle instance at 0x10a399b90>,\n",
        "  <__main__.Particle instance at 0x10a399bd8>,\n",
        "  <__main__.Particle instance at 0x10a399c20>],\n",
        " [<__main__.Particle instance at 0x102441f38>,\n",
        "  <__main__.Particle instance at 0x10a399e60>,\n",
        "  <__main__.Particle instance at 0x10a399ef0>,\n",
        "  <__main__.Particle instance at 0x10a399f80>,\n",
        "  <__main__.Particle instance at 0x10a399fc8>,\n",
        "  <__main__.Particle instance at 0x10a399998>,\n",
        "  <__main__.Particle instance at 0x10a3999e0>,\n",
        "  <__main__.Particle instance at 0x10a399a28>,\n",
        "  <__main__.Particle instance at 0x10a399a70>,\n",
        "  <__main__.Particle instance at 0x10a399ab8>,\n",
        "  <__main__.Particle instance at 0x10a399b00>,\n",
        "  <__main__.Particle instance at 0x10a399b48>,\n",
        "  <__main__.Particle instance at 0x10a399b90>,\n",
        "  <__main__.Particle instance at 0x10a399bd8>,\n",
        "  <__main__.Particle instance at 0x10a399c20>])"
       ]
      }
     ],
     "prompt_number": 14
    },
    {
     "cell_type": "code",
     "collapsed": false,
     "input": [
      "%%timeit -n1 -r1\n",
      "S.sim_motion_em_chunk(total_emission=False, delete_pos=True)"
     ],
     "language": "python",
     "metadata": {},
     "outputs": [
      {
       "output_type": "stream",
       "stream": "stdout",
       "text": [
        "[1339] Simulating particle 0 \n",
        "[1339] Simulating particle 1 "
       ]
      },
      {
       "output_type": "stream",
       "stream": "stdout",
       "text": [
        "\n",
        "[1339] Simulating particle 2 "
       ]
      },
      {
       "output_type": "stream",
       "stream": "stdout",
       "text": [
        "\n",
        "[1339] Simulating particle 3 "
       ]
      },
      {
       "output_type": "stream",
       "stream": "stdout",
       "text": [
        "\n",
        "[1339] Simulating particle 4 "
       ]
      },
      {
       "output_type": "stream",
       "stream": "stdout",
       "text": [
        "\n",
        "[1339] Simulating particle 5 "
       ]
      },
      {
       "output_type": "stream",
       "stream": "stdout",
       "text": [
        "\n",
        "[1339] Simulating particle 6 "
       ]
      },
      {
       "output_type": "stream",
       "stream": "stdout",
       "text": [
        "\n",
        "[1339] Simulating particle 7 "
       ]
      },
      {
       "output_type": "stream",
       "stream": "stdout",
       "text": [
        "\n",
        "[1339] Simulating particle 8 "
       ]
      },
      {
       "output_type": "stream",
       "stream": "stdout",
       "text": [
        "\n",
        "[1339] Simulating particle 9 "
       ]
      },
      {
       "output_type": "stream",
       "stream": "stdout",
       "text": [
        "\n",
        "[1339] Simulating particle 10 "
       ]
      },
      {
       "output_type": "stream",
       "stream": "stdout",
       "text": [
        "\n",
        "[1339] Simulating particle 11 "
       ]
      },
      {
       "output_type": "stream",
       "stream": "stdout",
       "text": [
        "\n",
        "[1339] Simulating particle 12 "
       ]
      },
      {
       "output_type": "stream",
       "stream": "stdout",
       "text": [
        "\n",
        "[1339] Simulating particle 13 "
       ]
      },
      {
       "output_type": "stream",
       "stream": "stdout",
       "text": [
        "\n",
        "[1339] Simulating particle 14 "
       ]
      },
      {
       "output_type": "stream",
       "stream": "stdout",
       "text": [
        "\n",
        "[1339] Simulating particle 0 "
       ]
      },
      {
       "output_type": "stream",
       "stream": "stdout",
       "text": [
        "\n",
        "[1339] Simulating particle 1 "
       ]
      },
      {
       "output_type": "stream",
       "stream": "stdout",
       "text": [
        "\n",
        "[1339] Simulating particle 2 "
       ]
      },
      {
       "output_type": "stream",
       "stream": "stdout",
       "text": [
        "\n",
        "[1339] Simulating particle 3 "
       ]
      },
      {
       "output_type": "stream",
       "stream": "stdout",
       "text": [
        "\n",
        "[1339] Simulating particle 4 "
       ]
      },
      {
       "output_type": "stream",
       "stream": "stdout",
       "text": [
        "\n",
        "[1339] Simulating particle 5 "
       ]
      },
      {
       "output_type": "stream",
       "stream": "stdout",
       "text": [
        "\n",
        "[1339] Simulating particle 6 "
       ]
      },
      {
       "output_type": "stream",
       "stream": "stdout",
       "text": [
        "\n",
        "[1339] Simulating particle 7 "
       ]
      },
      {
       "output_type": "stream",
       "stream": "stdout",
       "text": [
        "\n",
        "[1339] Simulating particle 8 "
       ]
      },
      {
       "output_type": "stream",
       "stream": "stdout",
       "text": [
        "\n",
        "[1339] Simulating particle 9 "
       ]
      },
      {
       "output_type": "stream",
       "stream": "stdout",
       "text": [
        "\n",
        "[1339] Simulating particle 10 "
       ]
      },
      {
       "output_type": "stream",
       "stream": "stdout",
       "text": [
        "\n",
        "[1339] Simulating particle 11 "
       ]
      },
      {
       "output_type": "stream",
       "stream": "stdout",
       "text": [
        "\n",
        "[1339] Simulating particle 12 "
       ]
      },
      {
       "output_type": "stream",
       "stream": "stdout",
       "text": [
        "\n",
        "[1339] Simulating particle 13 "
       ]
      },
      {
       "output_type": "stream",
       "stream": "stdout",
       "text": [
        "\n",
        "[1339] Simulating particle 14 "
       ]
      },
      {
       "output_type": "stream",
       "stream": "stdout",
       "text": [
        "\n",
        "[1339] Simulating particle 0 "
       ]
      },
      {
       "output_type": "stream",
       "stream": "stdout",
       "text": [
        "\n",
        "[1339] Simulating particle 1 \n",
        "[1339] Simulating particle 2 "
       ]
      },
      {
       "output_type": "stream",
       "stream": "stdout",
       "text": [
        "\n",
        "[1339] Simulating particle 3 \n",
        "[1339] Simulating particle 4 "
       ]
      },
      {
       "output_type": "stream",
       "stream": "stdout",
       "text": [
        "\n",
        "[1339] Simulating particle 5 \n",
        "[1339] Simulating particle 6 "
       ]
      },
      {
       "output_type": "stream",
       "stream": "stdout",
       "text": [
        "\n",
        "[1339] Simulating particle 7 "
       ]
      },
      {
       "output_type": "stream",
       "stream": "stdout",
       "text": [
        "\n",
        "[1339] Simulating particle 8 \n",
        "[1339] Simulating particle 9 "
       ]
      },
      {
       "output_type": "stream",
       "stream": "stdout",
       "text": [
        "\n",
        "[1339] Simulating particle 10 \n",
        "[1339] Simulating particle 11 "
       ]
      },
      {
       "output_type": "stream",
       "stream": "stdout",
       "text": [
        "\n",
        "[1339] Simulating particle 12 \n",
        "[1339] Simulating particle 13 "
       ]
      },
      {
       "output_type": "stream",
       "stream": "stdout",
       "text": [
        "\n",
        "[1339] Simulating particle 14 \n",
        "1 loops, best of 1: 5.52 s per loop"
       ]
      },
      {
       "output_type": "stream",
       "stream": "stdout",
       "text": [
        "\n"
       ]
      }
     ],
     "prompt_number": 15
    },
    {
     "cell_type": "code",
     "collapsed": false,
     "input": [
      "S.store.data_file.flush()"
     ],
     "language": "python",
     "metadata": {},
     "outputs": [],
     "prompt_number": 16
    },
    {
     "cell_type": "code",
     "collapsed": false,
     "input": [
      "%timeit S.get_timestamps_em_list(max_rate=3e5, bg_rate=2e3, seed=1)"
     ],
     "language": "python",
     "metadata": {},
     "outputs": [
      {
       "output_type": "stream",
       "stream": "stdout",
       "text": [
        "1 loops, best of 3: 615 ms per loop\n"
       ]
      }
     ],
     "prompt_number": 30
    },
    {
     "cell_type": "code",
     "collapsed": false,
     "input": [
      "print [p.size for p in S.all_times_chunks_list]\n",
      "print [p.size for p in S.all_par_chunks_list]"
     ],
     "language": "python",
     "metadata": {},
     "outputs": [
      {
       "output_type": "stream",
       "stream": "stdout",
       "text": [
        "[14, 17, 19, 18, 22, 14, 12, 20, 23, 17, 15, 23, 17, 24, 37, 11, 18, 14, 15, 10, 20, 19, 18, 13, 24, 30, 26, 31, 29, 20, 20, 22, 12, 21, 5]\n",
        "[14, 17, 19, 18, 22, 14, 12, 20, 23, 17, 15, 23, 17, 24, 37, 11, 18, 14, 15, 10, 20, 19, 18, 13, 24, 30, 26, 31, 29, 20, 20, 22, 12, 21, 5]\n"
       ]
      }
     ],
     "prompt_number": 18
    },
    {
     "cell_type": "code",
     "collapsed": false,
     "input": [
      "ph_times0 = [ph.copy() for ph in S.all_times_chunks_list]\n",
      "par0 = [p.copy() for p in S.all_par_chunks_list]"
     ],
     "language": "python",
     "metadata": {},
     "outputs": [],
     "prompt_number": 19
    },
    {
     "cell_type": "code",
     "collapsed": false,
     "input": [
      "%timeit S.get_timestamps_em_list1(max_rate=3e5, bg_rate=2e3, seed=1)"
     ],
     "language": "python",
     "metadata": {},
     "outputs": [
      {
       "output_type": "stream",
       "stream": "stdout",
       "text": [
        "1 loops, best of 3: 563 ms per loop\n"
       ]
      }
     ],
     "prompt_number": 31
    },
    {
     "cell_type": "code",
     "collapsed": false,
     "input": [
      "print [p.size for p in S.all_times_chunks_list]\n",
      "print [p.size for p in S.all_par_chunks_list]"
     ],
     "language": "python",
     "metadata": {},
     "outputs": [
      {
       "output_type": "stream",
       "stream": "stdout",
       "text": [
        "[14, 17, 19, 18, 22, 14, 12, 20, 23, 17, 15, 23, 17, 24, 37, 11, 18, 14, 15, 10, 20, 19, 18, 13, 24, 30, 26, 31, 29, 20, 20, 22, 12, 21, 5]\n",
        "[14, 17, 19, 18, 22, 14, 12, 20, 23, 17, 15, 23, 17, 24, 37, 11, 18, 14, 15, 10, 20, 19, 18, 13, 24, 30, 26, 31, 29, 20, 20, 22, 12, 21, 5]\n"
       ]
      }
     ],
     "prompt_number": 21
    },
    {
     "cell_type": "code",
     "collapsed": false,
     "input": [
      "ph_times1 = [ph.copy() for ph in S.all_times_chunks_list]\n",
      "par1 = [p.copy() for p in S.all_par_chunks_list]"
     ],
     "language": "python",
     "metadata": {},
     "outputs": [],
     "prompt_number": 22
    },
    {
     "cell_type": "code",
     "collapsed": false,
     "input": [
      "%timeit S.get_timestamps_em_list2(max_rate=3e5, bg_rate=2e3, seed=1)"
     ],
     "language": "python",
     "metadata": {},
     "outputs": [
      {
       "output_type": "stream",
       "stream": "stdout",
       "text": [
        "1 loops, best of 3: 674 ms per loop\n"
       ]
      }
     ],
     "prompt_number": 32
    },
    {
     "cell_type": "code",
     "collapsed": false,
     "input": [
      "print [p.size for p in S.all_times_chunks_list]\n",
      "print [p.size for p in S.all_par_chunks_list]"
     ],
     "language": "python",
     "metadata": {},
     "outputs": [
      {
       "output_type": "stream",
       "stream": "stdout",
       "text": [
        "[14, 17, 19, 18, 22, 14, 12, 20, 23, 17, 15, 23, 17, 24, 37, 11, 18, 14, 15, 10, 20, 19, 18, 13, 24, 30, 26, 31, 29, 20, 20, 22, 12, 21, 5]\n",
        "[14, 17, 19, 18, 22, 14, 12, 20, 23, 17, 15, 23, 17, 24, 37, 11, 18, 14, 15, 10, 20, 19, 18, 13, 24, 30, 26, 31, 29, 20, 20, 22, 12, 21, 5]\n"
       ]
      }
     ],
     "prompt_number": 24
    },
    {
     "cell_type": "code",
     "collapsed": false,
     "input": [
      "ph_times2 = [ph.copy() for ph in S.all_times_chunks_list]\n",
      "par2 = [p.copy() for p in S.all_par_chunks_list]"
     ],
     "language": "python",
     "metadata": {},
     "outputs": [],
     "prompt_number": 25
    },
    {
     "cell_type": "code",
     "collapsed": false,
     "input": [
      "print [np.allclose(p1, p2) for p1, p2 in zip(ph_times0, ph_times2)]\n",
      "print [np.allclose(p1, p2) for p1, p2 in zip(par0, par2)]"
     ],
     "language": "python",
     "metadata": {},
     "outputs": [
      {
       "output_type": "stream",
       "stream": "stdout",
       "text": [
        "[True, True, True, True, True, True, True, True, True, True, True, True, True, True, True, True, True, True, True, True, True, True, True, True, True, True, True, True, True, True, True, True, True, True, True]\n",
        "[True, True, True, True, True, True, True, True, True, True, True, True, True, True, True, True, True, True, True, True, True, True, True, True, True, True, True, True, True, True, True, True, True, True, True]\n"
       ]
      }
     ],
     "prompt_number": 26
    },
    {
     "cell_type": "code",
     "collapsed": false,
     "input": [
      "print [np.allclose(p1, p2) for p1, p2 in zip(ph_times0, ph_times1)]\n",
      "print [np.allclose(p1, p2) for p1, p2 in zip(par0, par1)]"
     ],
     "language": "python",
     "metadata": {},
     "outputs": [
      {
       "output_type": "stream",
       "stream": "stdout",
       "text": [
        "[True, True, True, True, True, True, True, True, True, True, True, True, True, True, True, True, True, True, True, True, True, True, True, True, True, True, True, True, True, True, True, True, True, True, True]\n",
        "[True, True, True, True, True, True, True, True, True, True, True, True, True, True, True, True, True, True, True, True, True, True, True, True, True, True, True, True, True, True, True, True, True, True, True]\n"
       ]
      }
     ],
     "prompt_number": 27
    },
    {
     "cell_type": "code",
     "collapsed": false,
     "input": [
      "emi"
     ],
     "language": "python",
     "metadata": {},
     "outputs": [
      {
       "metadata": {},
       "output_type": "pyout",
       "prompt_number": 44,
       "text": [
        "array([ 0.015 ,  0.0375,  0.135 ])"
       ]
      }
     ],
     "prompt_number": 44
    },
    {
     "cell_type": "code",
     "collapsed": false,
     "input": [],
     "language": "python",
     "metadata": {},
     "outputs": []
    },
    {
     "cell_type": "code",
     "collapsed": false,
     "input": [],
     "language": "python",
     "metadata": {},
     "outputs": []
    },
    {
     "cell_type": "code",
     "collapsed": false,
     "input": [
      "S.emission[:10].dtype"
     ],
     "language": "python",
     "metadata": {},
     "outputs": [
      {
       "metadata": {},
       "output_type": "pyout",
       "prompt_number": 37,
       "text": [
        "dtype('float64')"
       ]
      }
     ],
     "prompt_number": 37
    },
    {
     "cell_type": "code",
     "collapsed": false,
     "input": [],
     "language": "python",
     "metadata": {},
     "outputs": []
    },
    {
     "cell_type": "code",
     "collapsed": false,
     "input": [],
     "language": "python",
     "metadata": {},
     "outputs": []
    },
    {
     "cell_type": "code",
     "collapsed": false,
     "input": [],
     "language": "python",
     "metadata": {},
     "outputs": []
    },
    {
     "cell_type": "code",
     "collapsed": false,
     "input": [],
     "language": "python",
     "metadata": {},
     "outputs": []
    },
    {
     "cell_type": "code",
     "collapsed": false,
     "input": [
      "S2 = load_simulation(S.store_fname)"
     ],
     "language": "python",
     "metadata": {},
     "outputs": [],
     "prompt_number": 21
    },
    {
     "cell_type": "code",
     "collapsed": false,
     "input": [
      "S2.store_fname"
     ],
     "language": "python",
     "metadata": {},
     "outputs": [
      {
       "metadata": {},
       "output_type": "pyout",
       "prompt_number": 22,
       "text": [
        "'store0_D1.2e-11_15P_32pM_step0.5us_t_max0.3s_ID0-0.hdf5'"
       ]
      }
     ],
     "prompt_number": 22
    },
    {
     "cell_type": "code",
     "collapsed": false,
     "input": [
      "S2.store"
     ],
     "language": "python",
     "metadata": {},
     "outputs": [
      {
       "metadata": {},
       "output_type": "pyout",
       "prompt_number": 23,
       "text": [
        "<storage.Storage at 0x12be8a58>"
       ]
      }
     ],
     "prompt_number": 23
    },
    {
     "cell_type": "code",
     "collapsed": false,
     "input": [],
     "language": "python",
     "metadata": {},
     "outputs": []
    },
    {
     "cell_type": "code",
     "collapsed": false,
     "input": [
      "S.store.open()"
     ],
     "language": "python",
     "metadata": {},
     "outputs": [],
     "prompt_number": 18
    },
    {
     "cell_type": "code",
     "collapsed": false,
     "input": [
      "S2.emission.shape"
     ],
     "language": "python",
     "metadata": {},
     "outputs": [
      {
       "metadata": {},
       "output_type": "pyout",
       "prompt_number": 25,
       "text": [
        "(15, 600000)"
       ]
      }
     ],
     "prompt_number": 25
    },
    {
     "cell_type": "code",
     "collapsed": false,
     "input": [
      "S.store.data_file.get_filesize()/1024./1024."
     ],
     "language": "python",
     "metadata": {},
     "outputs": [
      {
       "metadata": {},
       "output_type": "pyout",
       "prompt_number": 26,
       "text": [
        "56.07601356506348"
       ]
      }
     ],
     "prompt_number": 26
    },
    {
     "cell_type": "code",
     "collapsed": false,
     "input": [
      "S2.sim_timetrace_chunk(max_em_rate=3e5, bg_rate=10e3)"
     ],
     "language": "python",
     "metadata": {},
     "outputs": [],
     "prompt_number": 27
    },
    {
     "cell_type": "code",
     "collapsed": false,
     "input": [
      "S.store.data_file.get_filesize()/1024./1024."
     ],
     "language": "python",
     "metadata": {},
     "outputs": [
      {
       "metadata": {},
       "output_type": "pyout",
       "prompt_number": 29,
       "text": [
        "71.11551094055176"
       ]
      }
     ],
     "prompt_number": 29
    },
    {
     "cell_type": "code",
     "collapsed": false,
     "input": [
      "S2.store_fname"
     ],
     "language": "python",
     "metadata": {},
     "outputs": [
      {
       "metadata": {},
       "output_type": "pyout",
       "prompt_number": 28,
       "text": [
        "'store0_D1.2e-11_15P_32pM_step0.5us_t_max0.3s_ID0-0.hdf5'"
       ]
      }
     ],
     "prompt_number": 28
    },
    {
     "cell_type": "code",
     "collapsed": false,
     "input": [
      "S.store.data_file.get_filesize()/1024./1024."
     ],
     "language": "python",
     "metadata": {},
     "outputs": [
      {
       "metadata": {},
       "output_type": "pyout",
       "prompt_number": 23,
       "text": [
        "46.07402992248535"
       ]
      }
     ],
     "prompt_number": 23
    },
    {
     "cell_type": "code",
     "collapsed": false,
     "input": [
      "S.store.close()"
     ],
     "language": "python",
     "metadata": {},
     "outputs": [],
     "prompt_number": 25
    },
    {
     "cell_type": "code",
     "collapsed": false,
     "input": [
      "del S"
     ],
     "language": "python",
     "metadata": {},
     "outputs": [],
     "prompt_number": 26
    },
    {
     "cell_type": "code",
     "collapsed": false,
     "input": [
      "ls store*"
     ],
     "language": "python",
     "metadata": {},
     "outputs": [
      {
       "output_type": "stream",
       "stream": "stdout",
       "text": [
        "store0_D1.2e-11_10P_21pM_step0.5us_t_max0.1s_ID0-0\r\n",
        "store0_D1.2e-11_10P_21pM_step0.5us_t_max0.3s_ID0-0\r\n",
        "store0_D1.2e-11_15P_32pM_step0.5us_t_max0.3s_ID0-0\r\n",
        "store0_D1.2e-11_20P_43pM_step0.5us_t_max0.3s_ID0-0\r\n",
        "store0_D1.2e-11_40P_86pM_step0.5us_t_max0.1s_ID0-0\r\n",
        "store0_D1.2e-11_40P_86pM_step0.5us_t_max1.0s_ID0-0\r\n",
        "store0_D1.2e-11_5P_10pM_step0.5us_t_max0.3s_ID0-0\r\n"
       ]
      }
     ],
     "prompt_number": 27
    },
    {
     "cell_type": "code",
     "collapsed": false,
     "input": [
      "t_max"
     ],
     "language": "python",
     "metadata": {},
     "outputs": [
      {
       "metadata": {},
       "output_type": "pyout",
       "prompt_number": 28,
       "text": [
        "0.3"
       ]
      }
     ],
     "prompt_number": 28
    },
    {
     "cell_type": "code",
     "collapsed": false,
     "input": [
      "run -i brownian.py"
     ],
     "language": "python",
     "metadata": {},
     "outputs": [],
     "prompt_number": 2
    },
    {
     "cell_type": "code",
     "collapsed": false,
     "input": [
      "fname = 'store0_D1.2e-11_10P_21pM_step0.5us_t_max0.3s_ID0-0'"
     ],
     "language": "python",
     "metadata": {},
     "outputs": [],
     "prompt_number": 3
    },
    {
     "cell_type": "code",
     "collapsed": false,
     "input": [
      "S = load_simulation(fname)"
     ],
     "language": "python",
     "metadata": {},
     "outputs": [],
     "prompt_number": 4
    },
    {
     "cell_type": "code",
     "collapsed": false,
     "input": [
      "S.emission"
     ],
     "language": "python",
     "metadata": {},
     "outputs": [
      {
       "metadata": {},
       "output_type": "pyout",
       "prompt_number": 5,
       "text": [
        "/trajectories/emission (EArray(10, 3600000), shuffle, zlib(5)) 'Emission trace of each particle'\n",
        "  atom := Float64Atom(shape=(), dflt=0.0)\n",
        "  maindim := 1\n",
        "  flavor := 'numpy'\n",
        "  byteorder := 'little'\n",
        "  chunkshape := (10, 52428)"
       ]
      }
     ],
     "prompt_number": 5
    },
    {
     "cell_type": "code",
     "collapsed": false,
     "input": [
      "2**19/S.np"
     ],
     "language": "python",
     "metadata": {},
     "outputs": [
      {
       "metadata": {},
       "output_type": "pyout",
       "prompt_number": 18,
       "text": [
        "52428"
       ]
      }
     ],
     "prompt_number": 18
    },
    {
     "cell_type": "code",
     "collapsed": false,
     "input": [
      "%%timeit\n",
      "S.sim_timetrace_chunk(max_em_rate=3e5, bg_rate=10e3, chunk_size=2**19/S.np)"
     ],
     "language": "python",
     "metadata": {},
     "outputs": [
      {
       "output_type": "stream",
       "stream": "stdout",
       "text": [
        "timetrace_p0 already exists ...  deleted.\n",
        "timetrace_p1 already exists ...  deleted.\n",
        "timetrace_p2 already exists ...  deleted.\n",
        "timetrace_p3 already exists ...  deleted.\n",
        "timetrace_p4 already exists ...  deleted.\n",
        "timetrace_p5 already exists ...  deleted.\n",
        "timetrace_p6 already exists ...  deleted.\n",
        "timetrace_p7 already exists ...  deleted.\n",
        "timetrace_p8 already exists ...  deleted.\n",
        "timetrace_p9 already exists ...  deleted.\n",
        "timetrace_p0 already exists ..."
       ]
      },
      {
       "output_type": "stream",
       "stream": "stdout",
       "text": [
        "  deleted.\n",
        "timetrace_p1 already exists ...  deleted.\n",
        "timetrace_p2 already exists ...  deleted.\n",
        "timetrace_p3 already exists ...  deleted.\n",
        "timetrace_p4 already exists ...  deleted.\n",
        "timetrace_p5 already exists ...  deleted.\n",
        "timetrace_p6 already exists ...  deleted.\n",
        "timetrace_p7 already exists ...  deleted.\n",
        "timetrace_p8 already exists ...  deleted.\n",
        "timetrace_p9 already exists ...  deleted.\n",
        "timetrace_p0 already exists ..."
       ]
      },
      {
       "output_type": "stream",
       "stream": "stdout",
       "text": [
        "  deleted.\n",
        "timetrace_p1 already exists ...  deleted.\n",
        "timetrace_p2 already exists ...  deleted.\n",
        "timetrace_p3 already exists ...  deleted.\n",
        "timetrace_p4 already exists ...  deleted.\n",
        "timetrace_p5 already exists ...  deleted.\n",
        "timetrace_p6 already exists ...  deleted.\n",
        "timetrace_p7 already exists ...  deleted.\n",
        "timetrace_p8 already exists ...  deleted.\n",
        "timetrace_p9 already exists ...  deleted.\n",
        "timetrace_p0 already exists ..."
       ]
      },
      {
       "output_type": "stream",
       "stream": "stdout",
       "text": [
        "  deleted.\n",
        "timetrace_p1 already exists ...  deleted.\n",
        "timetrace_p2 already exists ...  deleted.\n",
        "timetrace_p3 already exists ...  deleted.\n",
        "timetrace_p4 already exists ...  deleted.\n",
        "timetrace_p5 already exists ...  deleted.\n",
        "timetrace_p6 already exists ...  deleted.\n",
        "timetrace_p7 already exists ...  deleted.\n",
        "timetrace_p8 already exists ...  deleted.\n",
        "timetrace_p9 already exists ...  deleted.\n",
        "1 loops, best of 3: 1.26 s per loop"
       ]
      },
      {
       "output_type": "stream",
       "stream": "stdout",
       "text": [
        "\n"
       ]
      }
     ],
     "prompt_number": 17
    },
    {
     "cell_type": "code",
     "collapsed": false,
     "input": [
      "%%timeit\n",
      "timestamps = S.gen_ph_times_chunk()"
     ],
     "language": "python",
     "metadata": {},
     "outputs": [
      {
       "output_type": "stream",
       "stream": "stdout",
       "text": [
        "1 loops, best of 3: 398 ms per loop\n"
       ]
      }
     ],
     "prompt_number": 59
    },
    {
     "cell_type": "code",
     "collapsed": false,
     "input": [
      "%%timeit\n",
      "t_tot = merge_timestamps(timestamps, kind='mergesort')"
     ],
     "language": "python",
     "metadata": {},
     "outputs": [
      {
       "output_type": "stream",
       "stream": "stdout",
       "text": [
        "100 loops, best of 3: 2.33 ms per loop\n"
       ]
      }
     ],
     "prompt_number": 58
    },
    {
     "cell_type": "code",
     "collapsed": false,
     "input": [],
     "language": "python",
     "metadata": {},
     "outputs": []
    },
    {
     "cell_type": "code",
     "collapsed": false,
     "input": [],
     "language": "python",
     "metadata": {},
     "outputs": []
    },
    {
     "cell_type": "code",
     "collapsed": false,
     "input": [
      "S.timetrace_p"
     ],
     "language": "python",
     "metadata": {},
     "outputs": [],
     "prompt_number": 24
    },
    {
     "cell_type": "code",
     "collapsed": false,
     "input": [
      "t = S.timetrace_p[0]"
     ],
     "language": "python",
     "metadata": {},
     "outputs": [],
     "prompt_number": 17
    },
    {
     "cell_type": "code",
     "collapsed": false,
     "input": [
      "t[:].astype('u1').max()"
     ],
     "language": "python",
     "metadata": {},
     "outputs": [
      {
       "metadata": {},
       "output_type": "pyout",
       "prompt_number": 18,
       "text": [
        "2"
       ]
      }
     ],
     "prompt_number": 18
    },
    {
     "cell_type": "code",
     "collapsed": false,
     "input": [
      "idx = t.get_where_list('counts >=1')\n",
      "idx.dtype"
     ],
     "language": "python",
     "metadata": {},
     "outputs": [
      {
       "metadata": {},
       "output_type": "pyout",
       "prompt_number": 19,
       "text": [
        "dtype('int64')"
       ]
      }
     ],
     "prompt_number": 19
    },
    {
     "cell_type": "code",
     "collapsed": false,
     "input": [
      "t[idx].astype('u1').shape"
     ],
     "language": "python",
     "metadata": {},
     "outputs": [
      {
       "metadata": {},
       "output_type": "pyout",
       "prompt_number": 20,
       "text": [
        "(3014,)"
       ]
      }
     ],
     "prompt_number": 20
    },
    {
     "cell_type": "code",
     "collapsed": false,
     "input": [
      "timestamps_p = S.gen_ph_times_chunk()"
     ],
     "language": "python",
     "metadata": {},
     "outputs": [],
     "prompt_number": 23
    },
    {
     "cell_type": "code",
     "collapsed": false,
     "input": [
      "timestamps_p"
     ],
     "language": "python",
     "metadata": {},
     "outputs": [
      {
       "metadata": {},
       "output_type": "pyout",
       "prompt_number": 24,
       "text": [
        "[array([    240,    1260,    2000, ..., 4624835, 5180925, 5981435]),\n",
        " array([   1930,    2320,    3930, ..., 2559645, 4570305, 5564365]),\n",
        " array([    280,    6880,    9350, ..., 4726105, 4761635, 5024955]),\n",
        " array([   1180,    1320,    1390, ..., 4083745, 4558665, 5985685]),\n",
        " array([   2200,    4310,    5590, ..., 4309545, 4660045, 5950185])]"
       ]
      }
     ],
     "prompt_number": 24
    },
    {
     "cell_type": "code",
     "collapsed": false,
     "input": [
      "[len(t) for t in timestamps_p]"
     ],
     "language": "python",
     "metadata": {},
     "outputs": [
      {
       "metadata": {},
       "output_type": "pyout",
       "prompt_number": 25,
       "text": [
        "[3021, 3013, 2973, 3052, 3023]"
       ]
      }
     ],
     "prompt_number": 25
    },
    {
     "cell_type": "code",
     "collapsed": false,
     "input": [
      "def merge_timestamps(timestamps_list, kind='quicksort'):\n",
      "    timestamps = np.hstack(timestamps_list)\n",
      "    particle = np.hstack([np.ones(ts.size, dtype='uint8') \n",
      "                            for ts in timestamps_list])\n",
      "    argsort = timestamps_p.argsort(kind=kind)\n",
      "    return timestamps[argsort], particle[argsort]"
     ],
     "language": "python",
     "metadata": {},
     "outputs": [],
     "prompt_number": 30
    },
    {
     "cell_type": "code",
     "collapsed": false,
     "input": [
      "np.hstack([arange(3), arange(2)])"
     ],
     "language": "python",
     "metadata": {},
     "outputs": [
      {
       "metadata": {},
       "output_type": "pyout",
       "prompt_number": 26,
       "text": [
        "array([0, 1, 2, 0, 1])"
       ]
      }
     ],
     "prompt_number": 26
    },
    {
     "cell_type": "code",
     "collapsed": false,
     "input": [
      "a = np.random.rand(10)"
     ],
     "language": "python",
     "metadata": {},
     "outputs": [],
     "prompt_number": 28
    },
    {
     "cell_type": "code",
     "collapsed": false,
     "input": [],
     "language": "python",
     "metadata": {},
     "outputs": []
    },
    {
     "cell_type": "code",
     "collapsed": false,
     "input": [],
     "language": "python",
     "metadata": {},
     "outputs": []
    },
    {
     "cell_type": "code",
     "collapsed": false,
     "input": [],
     "language": "python",
     "metadata": {},
     "outputs": []
    },
    {
     "cell_type": "code",
     "collapsed": false,
     "input": [
      "for i in range(5):\n",
      "    S.store.data_file.create_table('/', 'p%d'%i, obj=tt[i],\n",
      "                                   chunkshape=S.timetrace.chunkshape[-1], \n",
      "                                   expectedrows=S.timetrace.nrows)"
     ],
     "language": "python",
     "metadata": {},
     "outputs": [],
     "prompt_number": 222
    },
    {
     "cell_type": "code",
     "collapsed": false,
     "input": [
      "dt = np.dtype([('counts', 'u1')])"
     ],
     "language": "python",
     "metadata": {},
     "outputs": [],
     "prompt_number": 7
    },
    {
     "cell_type": "code",
     "collapsed": false,
     "input": [
      "class Counts(tables.IsDescription):\n",
      "    name = tables.UInt8Col()"
     ],
     "language": "python",
     "metadata": {},
     "outputs": [],
     "prompt_number": 36
    },
    {
     "cell_type": "code",
     "collapsed": false,
     "input": [
      "for i in range(5):\n",
      "    S.store.data_file.create_table('/', 'p%d'%i, description=Counts)"
     ],
     "language": "python",
     "metadata": {},
     "outputs": [],
     "prompt_number": 58
    },
    {
     "cell_type": "code",
     "collapsed": false,
     "input": [
      "for i in range(5):\n",
      "    p = S.store.data_file.get_node('/p%d' %i)\n",
      "    print p"
     ],
     "language": "python",
     "metadata": {},
     "outputs": [
      {
       "output_type": "stream",
       "stream": "stdout",
       "text": [
        "/p0 (Table(0,)) ''\n",
        "/p1 (Table(0,)) ''\n",
        "/p2 (Table(0,)) ''\n",
        "/p3 (Table(0,)) ''\n",
        "/p4 (Table(0,)) ''\n"
       ]
      }
     ],
     "prompt_number": 59
    },
    {
     "cell_type": "code",
     "collapsed": false,
     "input": [
      "p"
     ],
     "language": "python",
     "metadata": {},
     "outputs": [
      {
       "metadata": {},
       "output_type": "pyout",
       "prompt_number": 60,
       "text": [
        "/p4 (Table(0,)) ''\n",
        "  description := {\n",
        "  \"name\": UInt8Col(shape=(), dflt=0, pos=0)}\n",
        "  byteorder := 'little'\n",
        "  chunkshape := (65536,)"
       ]
      }
     ],
     "prompt_number": 60
    },
    {
     "cell_type": "code",
     "collapsed": false,
     "input": [
      "p.append(np.arange(10, dtype=np.uint8))"
     ],
     "language": "python",
     "metadata": {},
     "outputs": [],
     "prompt_number": 61
    },
    {
     "cell_type": "code",
     "collapsed": false,
     "input": [
      "p"
     ],
     "language": "python",
     "metadata": {},
     "outputs": [
      {
       "metadata": {},
       "output_type": "pyout",
       "prompt_number": 62,
       "text": [
        "/p4 (Table(10,)) ''\n",
        "  description := {\n",
        "  \"name\": UInt8Col(shape=(), dflt=0, pos=0)}\n",
        "  byteorder := 'little'\n",
        "  chunkshape := (65536,)"
       ]
      }
     ],
     "prompt_number": 62
    },
    {
     "cell_type": "code",
     "collapsed": false,
     "input": [
      "p[:].astype('u1')"
     ],
     "language": "python",
     "metadata": {},
     "outputs": [
      {
       "metadata": {},
       "output_type": "pyout",
       "prompt_number": 64,
       "text": [
        "array([0, 1, 2, 3, 4, 5, 6, 7, 8, 9], dtype=uint8)"
       ]
      }
     ],
     "prompt_number": 64
    },
    {
     "cell_type": "code",
     "collapsed": false,
     "input": [],
     "language": "python",
     "metadata": {},
     "outputs": []
    },
    {
     "cell_type": "code",
     "collapsed": false,
     "input": [
      "P = [S.store.data_file.get_node('/p%d' %i) for i in range(5)]"
     ],
     "language": "python",
     "metadata": {},
     "outputs": [],
     "prompt_number": 224
    },
    {
     "cell_type": "code",
     "collapsed": false,
     "input": [
      "for i in range(5):\n",
      "    p = S.store.data_file.remove_node('/p%d' %i)"
     ],
     "language": "python",
     "metadata": {},
     "outputs": [],
     "prompt_number": 57
    },
    {
     "cell_type": "markdown",
     "metadata": {},
     "source": [
      "Not need to create an index it's fast anyway:"
     ]
    },
    {
     "cell_type": "code",
     "collapsed": false,
     "input": [
      "[p.indexed for p in P]"
     ],
     "language": "python",
     "metadata": {},
     "outputs": [
      {
       "metadata": {},
       "output_type": "pyout",
       "prompt_number": 227,
       "text": [
        "[False, False, False, False, False]"
       ]
      }
     ],
     "prompt_number": 227
    },
    {
     "cell_type": "code",
     "collapsed": false,
     "input": [
      "%%timeit\n",
      "[p.get_where_list('counts >= 1') for p in P]"
     ],
     "language": "python",
     "metadata": {},
     "outputs": [
      {
       "output_type": "stream",
       "stream": "stdout",
       "text": [
        "10 loops, best of 3: 45 ms per loop\n"
       ]
      }
     ],
     "prompt_number": 228
    },
    {
     "cell_type": "code",
     "collapsed": false,
     "input": [
      "[p.cols.counts.create_csindex() for p in P]"
     ],
     "language": "python",
     "metadata": {},
     "outputs": [
      {
       "metadata": {},
       "output_type": "pyout",
       "prompt_number": 229,
       "text": [
        "[600000, 600000, 600000, 600000, 600000]"
       ]
      }
     ],
     "prompt_number": 229
    },
    {
     "cell_type": "code",
     "collapsed": false,
     "input": [
      "[p.indexed for p in P]"
     ],
     "language": "python",
     "metadata": {},
     "outputs": [
      {
       "metadata": {},
       "output_type": "pyout",
       "prompt_number": 230,
       "text": [
        "[True, True, True, True, True]"
       ]
      }
     ],
     "prompt_number": 230
    },
    {
     "cell_type": "code",
     "collapsed": false,
     "input": [
      "%%timeit\n",
      "[p.get_where_list('counts >= 1') for p in P]"
     ],
     "language": "python",
     "metadata": {},
     "outputs": [
      {
       "output_type": "stream",
       "stream": "stdout",
       "text": [
        "10 loops, best of 3: 73.3 ms per loop\n"
       ]
      }
     ],
     "prompt_number": 231
    },
    {
     "cell_type": "code",
     "collapsed": false,
     "input": [
      "p.col(p.colnames[0])"
     ],
     "language": "python",
     "metadata": {},
     "outputs": [
      {
       "metadata": {},
       "output_type": "pyout",
       "prompt_number": 245,
       "text": [
        "array([0, 0, 0, ..., 0, 0, 0], dtype=uint8)"
       ]
      }
     ],
     "prompt_number": 245
    },
    {
     "cell_type": "code",
     "collapsed": false,
     "input": [
      "p.cols.counts"
     ],
     "language": "python",
     "metadata": {},
     "outputs": [
      {
       "metadata": {},
       "output_type": "pyout",
       "prompt_number": 248,
       "text": [
        "/p4.cols.counts (Column(600000,), uint8, idx=Index(9, full, shuffle, zlib(1)).is_csi=True)"
       ]
      }
     ],
     "prompt_number": 248
    },
    {
     "cell_type": "code",
     "collapsed": false,
     "input": [],
     "language": "python",
     "metadata": {},
     "outputs": []
    },
    {
     "cell_type": "markdown",
     "metadata": {},
     "source": [
      "Compute expressions:"
     ]
    },
    {
     "cell_type": "code",
     "collapsed": false,
     "input": [
      "expr = tables.Expr('x + 2', uservars=dict(x=S.timetrace))\n",
      "expr.set_output(t2)\n",
      "expr.append_mode = True\n",
      "expr.out"
     ],
     "language": "python",
     "metadata": {},
     "outputs": [
      {
       "metadata": {},
       "output_type": "pyout",
       "prompt_number": 53,
       "text": [
        "/trajectories/t2 (EArray(5, 0)) ''\n",
        "  atom := UInt8Atom(shape=(), dflt=0)\n",
        "  maindim := 1\n",
        "  flavor := 'numpy'\n",
        "  byteorder := 'irrelevant'\n",
        "  chunkshape := (5, 104857)"
       ]
      }
     ],
     "prompt_number": 53
    },
    {
     "cell_type": "code",
     "collapsed": false,
     "input": [
      "expr.eval()"
     ],
     "language": "python",
     "metadata": {},
     "outputs": [
      {
       "metadata": {},
       "output_type": "pyout",
       "prompt_number": 54,
       "text": [
        "/trajectories/t2 (EArray(5, 600000)) ''\n",
        "  atom := UInt8Atom(shape=(), dflt=0)\n",
        "  maindim := 1\n",
        "  flavor := 'numpy'\n",
        "  byteorder := 'irrelevant'\n",
        "  chunkshape := (5, 104857)"
       ]
      }
     ],
     "prompt_number": 54
    },
    {
     "cell_type": "code",
     "collapsed": false,
     "input": [
      "S.timetrace"
     ],
     "language": "python",
     "metadata": {},
     "outputs": [
      {
       "metadata": {},
       "output_type": "pyout",
       "prompt_number": 45,
       "text": [
        "/trajectories/timetrace (EArray(5, 600000)) 'Timetrace of emitted photons with bin = t_step'\n",
        "  atom := UInt8Atom(shape=(), dflt=0)\n",
        "  maindim := 1\n",
        "  flavor := 'numpy'\n",
        "  byteorder := 'irrelevant'\n",
        "  chunkshape := (5, 104857)"
       ]
      }
     ],
     "prompt_number": 45
    },
    {
     "cell_type": "code",
     "collapsed": false,
     "input": [
      "t2.flush()"
     ],
     "language": "python",
     "metadata": {},
     "outputs": [],
     "prompt_number": 38
    },
    {
     "cell_type": "code",
     "collapsed": false,
     "input": [
      "t2"
     ],
     "language": "python",
     "metadata": {},
     "outputs": [
      {
       "metadata": {},
       "output_type": "pyout",
       "prompt_number": 39,
       "text": [
        "/trajectories/t2 (EArray(5, 0)) ''\n",
        "  atom := UInt8Atom(shape=(), dflt=0)\n",
        "  maindim := 1\n",
        "  flavor := 'numpy'\n",
        "  byteorder := 'irrelevant'\n",
        "  chunkshape := (5, 104857)"
       ]
      }
     ],
     "prompt_number": 39
    },
    {
     "cell_type": "code",
     "collapsed": false,
     "input": [],
     "language": "python",
     "metadata": {},
     "outputs": [],
     "prompt_number": 32
    },
    {
     "cell_type": "code",
     "collapsed": false,
     "input": [
      "S.store.data_file.create_table("
     ],
     "language": "python",
     "metadata": {},
     "outputs": []
    },
    {
     "cell_type": "code",
     "collapsed": false,
     "input": [],
     "language": "python",
     "metadata": {},
     "outputs": []
    },
    {
     "cell_type": "code",
     "collapsed": false,
     "input": [],
     "language": "python",
     "metadata": {},
     "outputs": []
    },
    {
     "cell_type": "code",
     "collapsed": false,
     "input": [],
     "language": "python",
     "metadata": {},
     "outputs": []
    },
    {
     "cell_type": "code",
     "collapsed": false,
     "input": [],
     "language": "python",
     "metadata": {},
     "outputs": []
    },
    {
     "cell_type": "code",
     "collapsed": false,
     "input": [
      "from IPython.core.display import HTML\n",
      "HTML(open(\"./styles/custom2.css\", \"r\").read())"
     ],
     "language": "python",
     "metadata": {},
     "outputs": [
      {
       "html": [
        "<style>\n",
        "    @font-face {\n",
        "        font-family: \"Computer Modern\";\n",
        "        src: url('http://mirrors.ctan.org/fonts/cm-unicode/fonts/otf/cmunss.otf');\n",
        "    }\n",
        "    div.cell{\n",
        "        width:900px;\n",
        "        margin-left:8% !important;\n",
        "        margin-right:auto;\n",
        "    }\n",
        "    div.text_cell_render{\n",
        "        font-family: Computer Modern, \"Helvetica Neue\", Arial, Helvetica, Geneva, sans-serif;\n",
        "        line-height: 145%;\n",
        "        font-size: 110%;\n",
        "        width:800px;\n",
        "        margin-left:auto;\n",
        "        margin-right:auto;\n",
        "    }\n",
        "    blockquote  p {\n",
        "\t/*margin: 1em 2em;*/\n",
        "\tline-height: 140%;\n",
        "    }\n",
        "\n",
        "    .rendered_html code {\n",
        "\tbackground-color: #f7f7f7;\n",
        "\tborder: 1px solid #dddddd;\n",
        "\tcolor: black;\n",
        "\tline-height: 1.1em;\n",
        "    \tpadding: 0.15em;\n",
        "\tfont-size: 85%;\n",
        "    }\n",
        "\n",
        "    .CodeMirror{\n",
        "            font-family: \"Source Code Pro\", source-code-pro,Consolas, monospace;\n",
        "    }\n",
        "    /*.prompt{\n",
        "        display: None;\n",
        "    }*/\n",
        "    \n",
        "</style>\n"
       ],
       "metadata": {},
       "output_type": "pyout",
       "prompt_number": 3,
       "text": [
        "<IPython.core.display.HTML at 0x2a3e650>"
       ]
      }
     ],
     "prompt_number": 3
    }
   ],
   "metadata": {}
  }
 ]
}