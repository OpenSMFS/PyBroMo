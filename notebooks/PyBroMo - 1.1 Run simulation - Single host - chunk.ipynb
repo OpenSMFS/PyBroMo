{
 "cells": [
  {
   "cell_type": "markdown",
   "metadata": {},
   "source": [
    "# [PyBroMo](http://tritemio.github.io/PyBroMo/) - 1.1 Run the simulation - Single host - chunk"
   ]
  },
  {
   "cell_type": "markdown",
   "metadata": {},
   "source": [
    "<small>\n",
    "*This notebook is part of [PyBroMo](http://tritemio.github.io/PyBroMo/) a \n",
    "python-based single-molecule Brownian motion diffusion simulator \n",
    "that simulates confocal [smFRET](http://en.wikipedia.org/wiki/Single-molecule_FRET)\n",
    "experiments. You can find the full list of notebooks in \n",
    "[Usage Examples](http://tritemio.github.io/PyBroMo/#usage-examples).*\n",
    "</small>"
   ]
  },
  {
   "cell_type": "markdown",
   "metadata": {},
   "source": [
    "## Brownian Motion simulation on a single host"
   ]
  },
  {
   "cell_type": "markdown",
   "metadata": {},
   "source": [
    "Here we will see a simple example usage of the **PyBroMo** software.\n",
    "\n",
    "The main file is `brownian.py`: it contains the simulator code, \n",
    "helper functions and the default simulation parameters.\n",
    "\n",
    "For convenience, here we use an initialization script that will enter into the **PyBroMo** folder, \n",
    "load `brownian.py` and also import some useful IPython functions:"
   ]
  },
  {
   "cell_type": "code",
   "execution_count": null,
   "metadata": {
    "collapsed": false
   },
   "outputs": [],
   "source": [
    "import pybromo as pbm"
   ]
  },
  {
   "cell_type": "code",
   "execution_count": null,
   "metadata": {
    "collapsed": true
   },
   "outputs": [],
   "source": [
    "# Simulation time step\n",
    "t_step = 0.5e-6     # seconds\n",
    "\n",
    "# Diffusion coefficient\n",
    "Du = 12.0           # um^2 / s\n",
    "D = Du*(1e-6)**2\n",
    "\n",
    "# Time duration of the simulation\n",
    "t_max = 0.3        # seconds\n",
    "n_samples = int(t_max/t_step)\n",
    "\n",
    "# PSF definition\n",
    "ss = 0.2*1e-6      # lateral dimension (sigma)\n",
    "psf = pbm.GaussianPSF(xc=0, yc=0, zc=0, sx=ss, sy=ss, sz=3*ss)\n",
    "psf = pbm.NumericPSF()\n",
    "\n",
    "# Box definition\n",
    "box = pbm.Box(x1=-4.e-6, x2=4.e-6, y1=-4.e-6, y2=4.e-6, z1=-6e-6, z2=6e-6)\n",
    "\n",
    "# Particles definition\n",
    "p1 = pbm.Particle(x0=-3e-6)\n",
    "p2 = pbm.Particle(x0=3e-6)\n",
    "p3 = pbm.Particle(y0=-3e-6)\n",
    "p4 = pbm.Particle(y0=3e-6)\n",
    "P = [p1,p2,p3,p4]\n",
    "P = pbm.gen_particles(15, box)\n",
    "\n",
    "# Brownian motion and emission simulation\n",
    "S = pbm.ParticlesSimulation(D=D, t_step=t_step, t_max=t_max,\n",
    "                       particles=P, box=box, psf=psf)\n",
    "S.sim_brownian_motion(save_pos=True, total_emission=False)"
   ]
  },
  {
   "cell_type": "code",
   "execution_count": null,
   "metadata": {
    "collapsed": false
   },
   "outputs": [],
   "source": [
    "pbm.bpl.plot_tracks(S)\n",
    "pbm.bpl.plot_emission(S)"
   ]
  },
  {
   "cell_type": "code",
   "execution_count": null,
   "metadata": {
    "collapsed": false
   },
   "outputs": [],
   "source": [
    "# Simulation time step\n",
    "t_step = 0.5e-6   # seconds\n",
    "\n",
    "# Time duration of the simulation\n",
    "t_max = .3 # seconds\n",
    "\n",
    "# Particles definition\n",
    "P = pbm.brownian.gen_particles(15, box)\n",
    "\n",
    "# Particle simulation definition\n",
    "S = pbm.brownian.ParticlesSimulation(D=D, t_step=t_step, t_max=t_max, particles=P, box=box, psf=psf)"
   ]
  },
  {
   "cell_type": "markdown",
   "metadata": {},
   "source": [
    "The most important line is the last line which creates an object `S` \n",
    "that contains all the simulation parameters (it also contains methods to run \n",
    "the simulation). You can print `S` and check the current parameters:"
   ]
  },
  {
   "cell_type": "code",
   "execution_count": null,
   "metadata": {
    "collapsed": false
   },
   "outputs": [],
   "source": [
    "S"
   ]
  },
  {
   "cell_type": "markdown",
   "metadata": {},
   "source": [
    "or check the required RAM for the current parameters:"
   ]
  },
  {
   "cell_type": "code",
   "execution_count": null,
   "metadata": {
    "collapsed": false
   },
   "outputs": [],
   "source": [
    "S.print_RAM()"
   ]
  },
  {
   "cell_type": "code",
   "execution_count": null,
   "metadata": {
    "collapsed": false
   },
   "outputs": [],
   "source": [
    "S.open_store(chunksize=2**18)"
   ]
  },
  {
   "cell_type": "code",
   "execution_count": null,
   "metadata": {
    "collapsed": false
   },
   "outputs": [],
   "source": [
    "#S.store.close()"
   ]
  },
  {
   "cell_type": "code",
   "execution_count": null,
   "metadata": {
    "collapsed": false
   },
   "outputs": [],
   "source": [
    "%%timeit -n1 -r1\n",
    "S.sim_motion_em_chunk(total_emission=False, delete_pos=True)"
   ]
  },
  {
   "cell_type": "code",
   "execution_count": null,
   "metadata": {
    "collapsed": false
   },
   "outputs": [],
   "source": [
    "%timeit S.sim_timestamps_em_list(max_rate=3e5, bg_rate=2e3, seed=1)"
   ]
  },
  {
   "cell_type": "code",
   "execution_count": null,
   "metadata": {
    "collapsed": false
   },
   "outputs": [],
   "source": [
    "print [p.size for p in S.all_times_chunks_list]\n",
    "print [p.size for p in S.all_par_chunks_list]"
   ]
  },
  {
   "cell_type": "code",
   "execution_count": null,
   "metadata": {
    "collapsed": false
   },
   "outputs": [],
   "source": [
    "ph_times0 = [ph.copy() for ph in S.all_times_chunks_list]\n",
    "par0 = [p.copy() for p in S.all_par_chunks_list]"
   ]
  },
  {
   "cell_type": "code",
   "execution_count": null,
   "metadata": {
    "collapsed": false
   },
   "outputs": [],
   "source": [
    "%timeit S.sim_timestamps_em_list1(max_rate=3e5, bg_rate=2e3, seed=1)"
   ]
  },
  {
   "cell_type": "code",
   "execution_count": null,
   "metadata": {
    "collapsed": false
   },
   "outputs": [],
   "source": [
    "print [p.size for p in S.all_times_chunks_list]\n",
    "print [p.size for p in S.all_par_chunks_list]"
   ]
  },
  {
   "cell_type": "code",
   "execution_count": null,
   "metadata": {
    "collapsed": false
   },
   "outputs": [],
   "source": [
    "ph_times1 = [ph.copy() for ph in S.all_times_chunks_list]\n",
    "par1 = [p.copy() for p in S.all_par_chunks_list]"
   ]
  },
  {
   "cell_type": "code",
   "execution_count": null,
   "metadata": {
    "collapsed": false
   },
   "outputs": [],
   "source": [
    "%timeit S.sim_timestamps_em_list2(max_rate=3e5, bg_rate=2e3, seed=1)"
   ]
  },
  {
   "cell_type": "code",
   "execution_count": null,
   "metadata": {
    "collapsed": false
   },
   "outputs": [],
   "source": [
    "print [p.size for p in S.all_times_chunks_list]\n",
    "print [p.size for p in S.all_par_chunks_list]"
   ]
  },
  {
   "cell_type": "code",
   "execution_count": null,
   "metadata": {
    "collapsed": false
   },
   "outputs": [],
   "source": [
    "ph_times2 = [ph.copy() for ph in S.all_times_chunks_list]\n",
    "par2 = [p.copy() for p in S.all_par_chunks_list]"
   ]
  },
  {
   "cell_type": "code",
   "execution_count": null,
   "metadata": {
    "collapsed": false
   },
   "outputs": [],
   "source": [
    "print [np.allclose(p1, p2) for p1, p2 in zip(ph_times0, ph_times2)]\n",
    "print [np.allclose(p1, p2) for p1, p2 in zip(par0, par2)]"
   ]
  },
  {
   "cell_type": "code",
   "execution_count": null,
   "metadata": {
    "collapsed": false
   },
   "outputs": [],
   "source": [
    "print [np.allclose(p1, p2) for p1, p2 in zip(ph_times0, ph_times1)]\n",
    "print [np.allclose(p1, p2) for p1, p2 in zip(par0, par1)]"
   ]
  },
  {
   "cell_type": "code",
   "execution_count": null,
   "metadata": {
    "collapsed": false
   },
   "outputs": [],
   "source": []
  },
  {
   "cell_type": "code",
   "execution_count": null,
   "metadata": {
    "collapsed": false
   },
   "outputs": [],
   "source": [
    "%timeit -r1 -n1 S.sim_timestamps_em_store(max_rate=3e5, bg_rate=2e3, seed=1, overwrite=True)"
   ]
  },
  {
   "cell_type": "code",
   "execution_count": null,
   "metadata": {
    "collapsed": false
   },
   "outputs": [],
   "source": [
    "%timeit S.sim_timestamps_em_store(max_rate=3e5, bg_rate=2e3, seed=1, overwrite=True)"
   ]
  },
  {
   "cell_type": "code",
   "execution_count": null,
   "metadata": {
    "collapsed": false
   },
   "outputs": [],
   "source": [
    "S.timestamps.shape, sum([p.size for p in S.all_times_chunks_list])"
   ]
  },
  {
   "cell_type": "code",
   "execution_count": null,
   "metadata": {
    "collapsed": false
   },
   "outputs": [],
   "source": [
    "i = 0       \n",
    "for p in S.all_times_chunks_list:\n",
    "    print (S.timestamps[i:i+p.size] == p).all(),\n",
    "    i += p.size"
   ]
  },
  {
   "cell_type": "code",
   "execution_count": null,
   "metadata": {
    "collapsed": false
   },
   "outputs": [],
   "source": []
  },
  {
   "cell_type": "code",
   "execution_count": null,
   "metadata": {
    "collapsed": false
   },
   "outputs": [],
   "source": []
  },
  {
   "cell_type": "code",
   "execution_count": null,
   "metadata": {
    "collapsed": false
   },
   "outputs": [],
   "source": []
  },
  {
   "cell_type": "code",
   "execution_count": null,
   "metadata": {
    "collapsed": false
   },
   "outputs": [],
   "source": []
  },
  {
   "cell_type": "code",
   "execution_count": null,
   "metadata": {
    "collapsed": false
   },
   "outputs": [],
   "source": [
    "S2 = load_simulation(S.store_fname)"
   ]
  },
  {
   "cell_type": "code",
   "execution_count": null,
   "metadata": {
    "collapsed": false
   },
   "outputs": [],
   "source": [
    "S2.store_fname"
   ]
  },
  {
   "cell_type": "code",
   "execution_count": null,
   "metadata": {
    "collapsed": false
   },
   "outputs": [],
   "source": [
    "S2.store"
   ]
  },
  {
   "cell_type": "code",
   "execution_count": null,
   "metadata": {
    "collapsed": false
   },
   "outputs": [],
   "source": []
  },
  {
   "cell_type": "code",
   "execution_count": null,
   "metadata": {
    "collapsed": false
   },
   "outputs": [],
   "source": [
    "S.store.data_file.get_filesize()/1024./1024."
   ]
  },
  {
   "cell_type": "code",
   "execution_count": null,
   "metadata": {
    "collapsed": false
   },
   "outputs": [],
   "source": [
    "def merge_timestamps(timestamps_list, kind='quicksort'):\n",
    "    timestamps = np.hstack(timestamps_list)\n",
    "    particle = np.hstack([np.ones(ts.size, dtype='uint8') \n",
    "                            for ts in timestamps_list])\n",
    "    argsort = timestamps_p.argsort(kind=kind)\n",
    "    return timestamps[argsort], particle[argsort]"
   ]
  },
  {
   "cell_type": "code",
   "execution_count": null,
   "metadata": {
    "collapsed": false
   },
   "outputs": [],
   "source": []
  },
  {
   "cell_type": "code",
   "execution_count": null,
   "metadata": {
    "collapsed": false
   },
   "outputs": [],
   "source": []
  },
  {
   "cell_type": "code",
   "execution_count": null,
   "metadata": {
    "collapsed": false
   },
   "outputs": [],
   "source": []
  },
  {
   "cell_type": "code",
   "execution_count": null,
   "metadata": {
    "collapsed": false
   },
   "outputs": [],
   "source": []
  },
  {
   "cell_type": "code",
   "execution_count": null,
   "metadata": {
    "collapsed": false
   },
   "outputs": [],
   "source": []
  },
  {
   "cell_type": "code",
   "execution_count": null,
   "metadata": {
    "collapsed": false
   },
   "outputs": [],
   "source": []
  },
  {
   "cell_type": "code",
   "execution_count": null,
   "metadata": {
    "collapsed": false
   },
   "outputs": [],
   "source": []
  },
  {
   "cell_type": "code",
   "execution_count": null,
   "metadata": {
    "collapsed": false
   },
   "outputs": [],
   "source": [
    "from IPython.core.display import HTML\n",
    "HTML(open(\"./styles/custom2.css\", \"r\").read())"
   ]
  }
 ],
 "metadata": {
  "kernelspec": {
   "display_name": "Python 3",
   "language": "python",
   "name": "python3"
  },
  "language_info": {
   "codemirror_mode": {
    "name": "ipython",
    "version": 3
   },
   "file_extension": ".py",
   "mimetype": "text/x-python",
   "name": "python",
   "nbconvert_exporter": "python",
   "pygments_lexer": "ipython3",
   "version": "3.4.3"
  }
 },
 "nbformat": 4,
 "nbformat_minor": 0
}
