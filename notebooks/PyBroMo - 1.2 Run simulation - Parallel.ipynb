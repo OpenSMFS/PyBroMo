{
 "metadata": {
  "name": ""
 },
 "nbformat": 3,
 "nbformat_minor": 0,
 "worksheets": [
  {
   "cells": [
    {
     "cell_type": "code",
     "collapsed": false,
     "input": [
      "%matplotlib inline"
     ],
     "language": "python",
     "metadata": {},
     "outputs": [],
     "prompt_number": 1
    },
    {
     "cell_type": "heading",
     "level": 1,
     "metadata": {},
     "source": [
      "Start the cluster"
     ]
    },
    {
     "cell_type": "markdown",
     "metadata": {},
     "source": [
      "Run the inizialization script for the simulation. This will \n",
      "just set the correct folder and load brownian motion functions."
     ]
    },
    {
     "cell_type": "code",
     "collapsed": false,
     "input": [
      "%run -i load_bromo.py"
     ],
     "language": "python",
     "metadata": {},
     "outputs": [
      {
       "output_type": "stream",
       "stream": "stdout",
       "text": [
        "/home/anto/Documents/ucla/src/brownian\n"
       ]
      }
     ],
     "prompt_number": 2
    },
    {
     "cell_type": "markdown",
     "metadata": {},
     "source": [
      "Follow the steps in `README_PARALLEL.txt` to configure and start a cluster. \n",
      "\n",
      "After that we can test the cluster"
     ]
    },
    {
     "cell_type": "code",
     "collapsed": false,
     "input": [
      "from IPython.parallel import Client\n",
      "from IPython.utils.path import get_ipython_dir\n",
      "ipython_dir = get_ipython_dir() "
     ],
     "language": "python",
     "metadata": {},
     "outputs": [],
     "prompt_number": 3
    },
    {
     "cell_type": "code",
     "collapsed": false,
     "input": [
      "PROFILE = 'parallel'\n",
      "rc = Client(ipython_dir+'/profile_%s/security/ipcontroller-client.json' % PROFILE)\n",
      "dview = rc[:]\n",
      "dview.block = True"
     ],
     "language": "python",
     "metadata": {},
     "outputs": [],
     "prompt_number": 4
    },
    {
     "cell_type": "code",
     "collapsed": false,
     "input": [
      "rc.ids"
     ],
     "language": "python",
     "metadata": {},
     "outputs": [
      {
       "metadata": {},
       "output_type": "pyout",
       "prompt_number": 5,
       "text": [
        "[0, 1, 2, 3, 4, 5, 6, 7]"
       ]
      }
     ],
     "prompt_number": 5
    },
    {
     "cell_type": "markdown",
     "metadata": {},
     "source": [
      "If the previous cell does not give an error should return a list of integers\n",
      "that are the ID of all the running engines (remote or local).\n",
      "\n",
      "We are ready to run the simulation in parallel."
     ]
    },
    {
     "cell_type": "heading",
     "level": 1,
     "metadata": {},
     "source": [
      "Brownian Motion simulation"
     ]
    },
    {
     "cell_type": "heading",
     "level": 2,
     "metadata": {},
     "source": [
      "Parameters definition"
     ]
    },
    {
     "cell_type": "markdown",
     "metadata": {},
     "source": [
      "To start a simulation we must load the functions and define the problem parameters. Some paramenters are already set in `brownian.py` but can be overwritten:"
     ]
    },
    {
     "cell_type": "code",
     "collapsed": false,
     "input": [
      "%run -i brownian.py"
     ],
     "language": "python",
     "metadata": {},
     "outputs": [],
     "prompt_number": 6
    },
    {
     "cell_type": "code",
     "collapsed": false,
     "input": [
      "# Simulation time step\n",
      "t_step = 0.5e-6   # seconds\n",
      "\n",
      "# Number of samples to simulate\n",
      "t_max = 10 # seconds\n",
      "\n",
      "# Particles definition\n",
      "P = gen_particles(30, box)\n",
      "\n",
      "# Object containing the simulation (parameters, functions, results)\n",
      "S = Particles_in_a_box(D=D, t_step=t_step, t_max=t_max, particles=P, \n",
      "                       box=box, psf=psf, ID=6)"
     ],
     "language": "python",
     "metadata": {},
     "outputs": [],
     "prompt_number": 45
    },
    {
     "cell_type": "markdown",
     "metadata": {},
     "source": [
      "We can check the simulation parameters:"
     ]
    },
    {
     "cell_type": "code",
     "collapsed": false,
     "input": [
      "S"
     ],
     "language": "python",
     "metadata": {},
     "outputs": [
      {
       "metadata": {},
       "output_type": "pyout",
       "prompt_number": 46,
       "text": [
        "Box: X 8.0um, Y 8.0um, Z 12.0um\n",
        "D 1.2e-11, #Particles 30, t_step 0.5us, t_max 10.0s EID_ID 0 6"
       ]
      }
     ],
     "prompt_number": 46
    },
    {
     "cell_type": "markdown",
     "metadata": {},
     "source": [
      "Or have a compact string representation:"
     ]
    },
    {
     "cell_type": "code",
     "collapsed": false,
     "input": [
      "S.compact_name()"
     ],
     "language": "python",
     "metadata": {},
     "outputs": [
      {
       "metadata": {},
       "output_type": "pyout",
       "prompt_number": 47,
       "text": [
        "'D1.2e-11_30P_64pM_step0.5us_t_max10.0s_ID0-6'"
       ]
      }
     ],
     "prompt_number": 47
    },
    {
     "cell_type": "markdown",
     "metadata": {},
     "source": [
      "Before running the simulation check how much RAM is requires with the current parameters:"
     ]
    },
    {
     "cell_type": "code",
     "collapsed": false,
     "input": [
      "S.print_RAM()"
     ],
     "language": "python",
     "metadata": {},
     "outputs": [
      {
       "output_type": "stream",
       "stream": "stdout",
       "text": [
        "  Number of particles: 30\n",
        "  Number of time steps: 20000000\n",
        "  Emission array size: 152.0 MB (total_emission=True) \n",
        "  Emission array size: 4560.0 MB (total_emission=False)\n",
        "  Position array size: 13680.0 MB \n"
       ]
      }
     ],
     "prompt_number": 48
    },
    {
     "cell_type": "heading",
     "level": 2,
     "metadata": {},
     "source": [
      "Running the simulation in parallel"
     ]
    },
    {
     "cell_type": "markdown",
     "metadata": {},
     "source": [
      "Prepare the engines (change folder, define a unique eid, load functions):"
     ]
    },
    {
     "cell_type": "code",
     "collapsed": false,
     "input": [
      "%px %reset"
     ],
     "language": "python",
     "metadata": {},
     "outputs": [],
     "prompt_number": 49
    },
    {
     "cell_type": "code",
     "collapsed": false,
     "input": [
      "# Push a variable with the engine ID to each engine\n",
      "dview.scatter('eid', rc.ids, flatten=True)"
     ],
     "language": "python",
     "metadata": {},
     "outputs": [],
     "prompt_number": 50
    },
    {
     "cell_type": "code",
     "collapsed": false,
     "input": [
      "%px eid"
     ],
     "language": "python",
     "metadata": {},
     "outputs": [
      {
       "metadata": {},
       "output_type": "display_data",
       "text": [
        "\u001b[0;31mOut[0:26]: \u001b[0m0"
       ]
      },
      {
       "metadata": {},
       "output_type": "display_data",
       "text": [
        "\u001b[0;31mOut[1:26]: \u001b[0m1"
       ]
      },
      {
       "metadata": {},
       "output_type": "display_data",
       "text": [
        "\u001b[0;31mOut[2:26]: \u001b[0m2"
       ]
      },
      {
       "metadata": {},
       "output_type": "display_data",
       "text": [
        "\u001b[0;31mOut[3:26]: \u001b[0m3"
       ]
      },
      {
       "metadata": {},
       "output_type": "display_data",
       "text": [
        "\u001b[0;31mOut[4:26]: \u001b[0m4"
       ]
      },
      {
       "metadata": {},
       "output_type": "display_data",
       "text": [
        "\u001b[0;31mOut[5:26]: \u001b[0m5"
       ]
      },
      {
       "metadata": {},
       "output_type": "display_data",
       "text": [
        "\u001b[0;31mOut[6:26]: \u001b[0m6"
       ]
      },
      {
       "metadata": {},
       "output_type": "display_data",
       "text": [
        "\u001b[0;31mOut[7:26]: \u001b[0m7"
       ]
      }
     ],
     "prompt_number": 51
    },
    {
     "cell_type": "code",
     "collapsed": false,
     "input": [
      "%%px\n",
      "import os\n",
      "if os.name == 'posix':\n",
      "    BROWN_DIR = \"/home/anto/Documents/ucla/src/brownian/\"\n",
      "elif os.name == 'nt':\n",
      "    BROWN_DIR = r\"C:/Data/Antonio/software/Dropbox/brownian/\""
     ],
     "language": "python",
     "metadata": {},
     "outputs": [],
     "prompt_number": 52
    },
    {
     "cell_type": "code",
     "collapsed": false,
     "input": [
      "%%px \n",
      "%cd $BROWN_DIR"
     ],
     "language": "python",
     "metadata": {},
     "outputs": [
      {
       "output_type": "stream",
       "stream": "stdout",
       "text": [
        "[stdout:0] C:\\Data\\Antonio\\software\\Dropbox\\brownian\n",
        "[stdout:1] C:\\Data\\Antonio\\software\\Dropbox\\brownian\n",
        "[stdout:2] C:\\Data\\Antonio\\software\\Dropbox\\brownian\n",
        "[stdout:3] C:\\Data\\Antonio\\software\\Dropbox\\brownian\n",
        "[stdout:4] C:\\Data\\Antonio\\software\\Dropbox\\brownian\n",
        "[stdout:5] C:\\Data\\Antonio\\software\\Dropbox\\brownian\n",
        "[stdout:6] C:\\Data\\Antonio\\software\\Dropbox\\brownian\n",
        "[stdout:7] C:\\Data\\Antonio\\software\\Dropbox\\brownian\n"
       ]
      }
     ],
     "prompt_number": 53
    },
    {
     "cell_type": "code",
     "collapsed": false,
     "input": [
      "%px run -i brownian.py"
     ],
     "language": "python",
     "metadata": {},
     "outputs": [],
     "prompt_number": 54
    },
    {
     "cell_type": "markdown",
     "metadata": {},
     "source": [
      "Now **push** the object `S` to the enignes so they can run the simulation:"
     ]
    },
    {
     "cell_type": "code",
     "collapsed": false,
     "input": [
      "dview.push(dict(S=S))"
     ],
     "language": "python",
     "metadata": {},
     "outputs": [
      {
       "metadata": {},
       "output_type": "pyout",
       "prompt_number": 55,
       "text": [
        "[None, None, None, None, None, None, None, None]"
       ]
      }
     ],
     "prompt_number": 55
    },
    {
     "cell_type": "code",
     "collapsed": false,
     "input": [
      "%px S.EID = eid"
     ],
     "language": "python",
     "metadata": {},
     "outputs": [],
     "prompt_number": 56
    },
    {
     "cell_type": "code",
     "collapsed": false,
     "input": [
      "%px S"
     ],
     "language": "python",
     "metadata": {},
     "outputs": [
      {
       "metadata": {},
       "output_type": "display_data",
       "text": [
        "\u001b[0;31mOut[0:31]: \u001b[0m\n",
        "Box: X 8.0um, Y 8.0um, Z 12.0um\n",
        "D 1.2e-11, #Particles 30, t_step 0.5us, t_max 10.0s EID_ID 0 6"
       ]
      },
      {
       "metadata": {},
       "output_type": "display_data",
       "text": [
        "\u001b[0;31mOut[1:31]: \u001b[0m\n",
        "Box: X 8.0um, Y 8.0um, Z 12.0um\n",
        "D 1.2e-11, #Particles 30, t_step 0.5us, t_max 10.0s EID_ID 1 6"
       ]
      },
      {
       "metadata": {},
       "output_type": "display_data",
       "text": [
        "\u001b[0;31mOut[2:31]: \u001b[0m\n",
        "Box: X 8.0um, Y 8.0um, Z 12.0um\n",
        "D 1.2e-11, #Particles 30, t_step 0.5us, t_max 10.0s EID_ID 2 6"
       ]
      },
      {
       "metadata": {},
       "output_type": "display_data",
       "text": [
        "\u001b[0;31mOut[3:31]: \u001b[0m\n",
        "Box: X 8.0um, Y 8.0um, Z 12.0um\n",
        "D 1.2e-11, #Particles 30, t_step 0.5us, t_max 10.0s EID_ID 3 6"
       ]
      },
      {
       "metadata": {},
       "output_type": "display_data",
       "text": [
        "\u001b[0;31mOut[4:31]: \u001b[0m\n",
        "Box: X 8.0um, Y 8.0um, Z 12.0um\n",
        "D 1.2e-11, #Particles 30, t_step 0.5us, t_max 10.0s EID_ID 4 6"
       ]
      },
      {
       "metadata": {},
       "output_type": "display_data",
       "text": [
        "\u001b[0;31mOut[5:31]: \u001b[0m\n",
        "Box: X 8.0um, Y 8.0um, Z 12.0um\n",
        "D 1.2e-11, #Particles 30, t_step 0.5us, t_max 10.0s EID_ID 5 6"
       ]
      },
      {
       "metadata": {},
       "output_type": "display_data",
       "text": [
        "\u001b[0;31mOut[6:31]: \u001b[0m\n",
        "Box: X 8.0um, Y 8.0um, Z 12.0um\n",
        "D 1.2e-11, #Particles 30, t_step 0.5us, t_max 10.0s EID_ID 6 6"
       ]
      },
      {
       "metadata": {},
       "output_type": "display_data",
       "text": [
        "\u001b[0;31mOut[7:31]: \u001b[0m\n",
        "Box: X 8.0um, Y 8.0um, Z 12.0um\n",
        "D 1.2e-11, #Particles 30, t_step 0.5us, t_max 10.0s EID_ID 7 6"
       ]
      }
     ],
     "prompt_number": 57
    },
    {
     "cell_type": "markdown",
     "metadata": {},
     "source": [
      "Run the brownian motion simulation on all the engines:"
     ]
    },
    {
     "cell_type": "code",
     "collapsed": false,
     "input": [
      "%px S.sim_motion_em()"
     ],
     "language": "python",
     "metadata": {},
     "outputs": [
      {
       "output_type": "stream",
       "stream": "stdout",
       "text": [
        "[stdout:0] \n",
        "[1156] Simulating particle 0 \n",
        "[1156] Simulating particle 1 \n",
        "[1156] Simulating particle 2 \n",
        "[1156] Simulating particle 3 \n",
        "[1156] Simulating particle 4 \n",
        "[1156] Simulating particle 5 \n",
        "[1156] Simulating particle 6 \n",
        "[1156] Simulating particle 7 \n",
        "[1156] Simulating particle 8 \n",
        "[1156] Simulating particle 9 \n",
        "[1156] Simulating particle 10 \n",
        "[1156] Simulating particle 11 \n",
        "[1156] Simulating particle 12 \n",
        "[1156] Simulating particle 13 \n",
        "[1156] Simulating particle 14 \n",
        "[1156] Simulating particle 15 \n",
        "[1156] Simulating particle 16 \n",
        "[1156] Simulating particle 17 \n",
        "[1156] Simulating particle 18 \n",
        "[1156] Simulating particle 19 \n",
        "[1156] Simulating particle 20 \n",
        "[1156] Simulating particle 21 \n",
        "[1156] Simulating particle 22 \n",
        "[1156] Simulating particle 23 \n",
        "[1156] Simulating particle 24 \n",
        "[1156] Simulating particle 25 \n",
        "[1156] Simulating particle 26 \n",
        "[1156] Simulating particle 27 \n",
        "[1156] Simulating particle 28 \n",
        "[1156] Simulating particle 29 \n",
        "[stdout:1] \n",
        "[2568] Simulating particle 0 \n",
        "[2568] Simulating particle 1 \n",
        "[2568] Simulating particle 2 \n",
        "[2568] Simulating particle 3 \n",
        "[2568] Simulating particle 4 \n",
        "[2568] Simulating particle 5 \n",
        "[2568] Simulating particle 6 \n",
        "[2568] Simulating particle 7 \n",
        "[2568] Simulating particle 8 \n",
        "[2568] Simulating particle 9 \n",
        "[2568] Simulating particle 10 \n",
        "[2568] Simulating particle 11 \n",
        "[2568] Simulating particle 12 \n",
        "[2568] Simulating particle 13 \n",
        "[2568] Simulating particle 14 \n",
        "[2568] Simulating particle 15 \n",
        "[2568] Simulating particle 16 \n",
        "[2568] Simulating particle 17 \n",
        "[2568] Simulating particle 18 \n",
        "[2568] Simulating particle 19 \n",
        "[2568] Simulating particle 20 \n",
        "[2568] Simulating particle 21 \n",
        "[2568] Simulating particle 22 \n",
        "[2568] Simulating particle 23 \n",
        "[2568] Simulating particle 24 \n",
        "[2568] Simulating particle 25 \n",
        "[2568] Simulating particle 26 \n",
        "[2568] Simulating particle 27 \n",
        "[2568] Simulating particle 28 \n",
        "[2568] Simulating particle 29 \n",
        "[stdout:2] \n",
        "[4716] Simulating particle 0 \n",
        "[4716] Simulating particle 1 \n",
        "[4716] Simulating particle 2 \n",
        "[4716] Simulating particle 3 \n",
        "[4716] Simulating particle 4 \n",
        "[4716] Simulating particle 5 \n",
        "[4716] Simulating particle 6 \n",
        "[4716] Simulating particle 7 \n",
        "[4716] Simulating particle 8 \n",
        "[4716] Simulating particle 9 \n",
        "[4716] Simulating particle 10 \n",
        "[4716] Simulating particle 11 \n",
        "[4716] Simulating particle 12 \n",
        "[4716] Simulating particle 13 \n",
        "[4716] Simulating particle 14 \n",
        "[4716] Simulating particle 15 \n",
        "[4716] Simulating particle 16 \n",
        "[4716] Simulating particle 17 \n",
        "[4716] Simulating particle 18 \n",
        "[4716] Simulating particle 19 \n",
        "[4716] Simulating particle 20 \n",
        "[4716] Simulating particle 21 \n",
        "[4716] Simulating particle 22 \n",
        "[4716] Simulating particle 23 \n",
        "[4716] Simulating particle 24 \n",
        "[4716] Simulating particle 25 \n",
        "[4716] Simulating particle 26 \n",
        "[4716] Simulating particle 27 \n",
        "[4716] Simulating particle 28 \n",
        "[4716] Simulating particle 29 \n",
        "[stdout:3] \n",
        "[4636] Simulating particle 0 \n",
        "[4636] Simulating particle 1 \n",
        "[4636] Simulating particle 2 \n",
        "[4636] Simulating particle 3 \n",
        "[4636] Simulating particle 4 \n",
        "[4636] Simulating particle 5 \n",
        "[4636] Simulating particle 6 \n",
        "[4636] Simulating particle 7 \n",
        "[4636] Simulating particle 8 \n",
        "[4636] Simulating particle 9 \n",
        "[4636] Simulating particle 10 \n",
        "[4636] Simulating particle 11 \n",
        "[4636] Simulating particle 12 \n",
        "[4636] Simulating particle 13 \n",
        "[4636] Simulating particle 14 \n",
        "[4636] Simulating particle 15 \n",
        "[4636] Simulating particle 16 \n",
        "[4636] Simulating particle 17 \n",
        "[4636] Simulating particle 18 \n",
        "[4636] Simulating particle 19 \n",
        "[4636] Simulating particle 20 \n",
        "[4636] Simulating particle 21 \n",
        "[4636] Simulating particle 22 \n",
        "[4636] Simulating particle 23 \n",
        "[4636] Simulating particle 24 \n",
        "[4636] Simulating particle 25 \n",
        "[4636] Simulating particle 26 \n",
        "[4636] Simulating particle 27 \n",
        "[4636] Simulating particle 28 \n",
        "[4636] Simulating particle 29 \n",
        "[stdout:4] \n",
        "[4352] Simulating particle 0 \n",
        "[4352] Simulating particle 1 \n",
        "[4352] Simulating particle 2 \n",
        "[4352] Simulating particle 3 \n",
        "[4352] Simulating particle 4 \n",
        "[4352] Simulating particle 5 \n",
        "[4352] Simulating particle 6 \n",
        "[4352] Simulating particle 7 \n",
        "[4352] Simulating particle 8 \n",
        "[4352] Simulating particle 9 \n",
        "[4352] Simulating particle 10 \n",
        "[4352] Simulating particle 11 \n",
        "[4352] Simulating particle 12 \n",
        "[4352] Simulating particle 13 \n",
        "[4352] Simulating particle 14 \n",
        "[4352] Simulating particle 15 \n",
        "[4352] Simulating particle 16 \n",
        "[4352] Simulating particle 17 \n",
        "[4352] Simulating particle 18 \n",
        "[4352] Simulating particle 19 \n",
        "[4352] Simulating particle 20 \n",
        "[4352] Simulating particle 21 \n",
        "[4352] Simulating particle 22 \n",
        "[4352] Simulating particle 23 \n",
        "[4352] Simulating particle 24 \n",
        "[4352] Simulating particle 25 \n",
        "[4352] Simulating particle 26 \n",
        "[4352] Simulating particle 27 \n",
        "[4352] Simulating particle 28 \n",
        "[4352] Simulating particle 29 \n",
        "[stdout:5] \n",
        "[5008] Simulating particle 0 \n",
        "[5008] Simulating particle 1 \n",
        "[5008] Simulating particle 2 \n",
        "[5008] Simulating particle 3 \n",
        "[5008] Simulating particle 4 \n",
        "[5008] Simulating particle 5 \n",
        "[5008] Simulating particle 6 \n",
        "[5008] Simulating particle 7 \n",
        "[5008] Simulating particle 8 \n",
        "[5008] Simulating particle 9 \n",
        "[5008] Simulating particle 10 \n",
        "[5008] Simulating particle 11 \n",
        "[5008] Simulating particle 12 \n",
        "[5008] Simulating particle 13 \n",
        "[5008] Simulating particle 14 \n",
        "[5008] Simulating particle 15 \n",
        "[5008] Simulating particle 16 \n",
        "[5008] Simulating particle 17 \n",
        "[5008] Simulating particle 18 \n",
        "[5008] Simulating particle 19 \n",
        "[5008] Simulating particle 20 \n",
        "[5008] Simulating particle 21 \n",
        "[5008] Simulating particle 22 \n",
        "[5008] Simulating particle 23 \n",
        "[5008] Simulating particle 24 \n",
        "[5008] Simulating particle 25 \n",
        "[5008] Simulating particle 26 \n",
        "[5008] Simulating particle 27 \n",
        "[5008] Simulating particle 28 \n",
        "[5008] Simulating particle 29 \n",
        "[stdout:6] \n",
        "[1944] Simulating particle 0 \n",
        "[1944] Simulating particle 1 \n",
        "[1944] Simulating particle 2 \n",
        "[1944] Simulating particle 3 \n",
        "[1944] Simulating particle 4 \n",
        "[1944] Simulating particle 5 \n",
        "[1944] Simulating particle 6 \n",
        "[1944] Simulating particle 7 \n",
        "[1944] Simulating particle 8 \n",
        "[1944] Simulating particle 9 \n",
        "[1944] Simulating particle 10 \n",
        "[1944] Simulating particle 11 \n",
        "[1944] Simulating particle 12 \n",
        "[1944] Simulating particle 13 \n",
        "[1944] Simulating particle 14 \n",
        "[1944] Simulating particle 15 \n",
        "[1944] Simulating particle 16 \n",
        "[1944] Simulating particle 17 \n",
        "[1944] Simulating particle 18 \n",
        "[1944] Simulating particle 19 \n",
        "[1944] Simulating particle 20 \n",
        "[1944] Simulating particle 21 \n",
        "[1944] Simulating particle 22 \n",
        "[1944] Simulating particle 23 \n",
        "[1944] Simulating particle 24 \n",
        "[1944] Simulating particle 25 \n",
        "[1944] Simulating particle 26 \n",
        "[1944] Simulating particle 27 \n",
        "[1944] Simulating particle 28 \n",
        "[1944] Simulating particle 29 \n",
        "[stdout:7] \n",
        "[3744] Simulating particle 0 \n",
        "[3744] Simulating particle 1 \n",
        "[3744] Simulating particle 2 \n",
        "[3744] Simulating particle 3 \n",
        "[3744] Simulating particle 4 \n",
        "[3744] Simulating particle 5 \n",
        "[3744] Simulating particle 6 \n",
        "[3744] Simulating particle 7 \n",
        "[3744] Simulating particle 8 \n",
        "[3744] Simulating particle 9 \n",
        "[3744] Simulating particle 10 \n",
        "[3744] Simulating particle 11 \n",
        "[3744] Simulating particle 12 \n",
        "[3744] Simulating particle 13 \n",
        "[3744] Simulating particle 14 \n",
        "[3744] Simulating particle 15 \n",
        "[3744] Simulating particle 16 \n",
        "[3744] Simulating particle 17 \n",
        "[3744] Simulating particle 18 \n",
        "[3744] Simulating particle 19 \n",
        "[3744] Simulating particle 20 \n",
        "[3744] Simulating particle 21 \n",
        "[3744] Simulating particle 22 \n",
        "[3744] Simulating particle 23 \n",
        "[3744] Simulating particle 24 \n",
        "[3744] Simulating particle 25 \n",
        "[3744] Simulating particle 26 \n",
        "[3744] Simulating particle 27 \n",
        "[3744] Simulating particle 28 \n",
        "[3744] Simulating particle 29 \n"
       ]
      }
     ],
     "prompt_number": 58
    },
    {
     "cell_type": "code",
     "collapsed": false,
     "input": [
      "!beep"
     ],
     "language": "python",
     "metadata": {},
     "outputs": [],
     "prompt_number": 59
    },
    {
     "cell_type": "heading",
     "level": 2,
     "metadata": {},
     "source": [
      "Save and load simulations"
     ]
    },
    {
     "cell_type": "markdown",
     "metadata": {},
     "source": [
      "Save the simulation to a file (so it can be reloaded):"
     ]
    },
    {
     "cell_type": "code",
     "collapsed": false,
     "input": [
      "%%px\n",
      "S.dump(dir_=SIM_DATA_DIR)"
     ],
     "language": "python",
     "metadata": {},
     "outputs": [
      {
       "output_type": "stream",
       "stream": "stdout",
       "text": [
        "[stdout:0] Saved to C:/Data/Antonio/data/sim/brownian/objects//bromo_sim_D1.2e-11_30P_64pM_step0.5us_t_max10.0s_ID0-6.pickle\n",
        "[stdout:1] Saved to C:/Data/Antonio/data/sim/brownian/objects//bromo_sim_D1.2e-11_30P_64pM_step0.5us_t_max10.0s_ID1-6.pickle\n",
        "[stdout:2] Saved to C:/Data/Antonio/data/sim/brownian/objects//bromo_sim_D1.2e-11_30P_64pM_step0.5us_t_max10.0s_ID2-6.pickle\n",
        "[stdout:3] Saved to C:/Data/Antonio/data/sim/brownian/objects//bromo_sim_D1.2e-11_30P_64pM_step0.5us_t_max10.0s_ID3-6.pickle\n",
        "[stdout:4] Saved to C:/Data/Antonio/data/sim/brownian/objects//bromo_sim_D1.2e-11_30P_64pM_step0.5us_t_max10.0s_ID4-6.pickle\n",
        "[stdout:5] Saved to C:/Data/Antonio/data/sim/brownian/objects//bromo_sim_D1.2e-11_30P_64pM_step0.5us_t_max10.0s_ID5-6.pickle\n",
        "[stdout:6] Saved to C:/Data/Antonio/data/sim/brownian/objects//bromo_sim_D1.2e-11_30P_64pM_step0.5us_t_max10.0s_ID6-6.pickle\n",
        "[stdout:7] Saved to C:/Data/Antonio/data/sim/brownian/objects//bromo_sim_D1.2e-11_30P_64pM_step0.5us_t_max10.0s_ID7-6.pickle\n"
       ]
      }
     ],
     "prompt_number": 60
    },
    {
     "cell_type": "markdown",
     "metadata": {},
     "source": [
      "Load the simulation and check that is the same as the one in memory:"
     ]
    },
    {
     "cell_type": "code",
     "collapsed": false,
     "input": [
      "%%px\n",
      "S2 = load_sim_id(ID=6, glob_str=\"*t_max10.0s*\", dir_=SIM_DATA_DIR)"
     ],
     "language": "python",
     "metadata": {},
     "outputs": [
      {
       "output_type": "stream",
       "stream": "stdout",
       "text": [
        "[stdout:0] \n",
        "Loaded:\n",
        "C:/Data/Antonio/data/sim/brownian/objects\\bromo_sim_D1.2e-11_30P_64pM_step0.5us_t_max10.0s_ID0-6.pickle\n",
        "[stdout:1] \n",
        "Loaded:\n",
        "C:/Data/Antonio/data/sim/brownian/objects\\bromo_sim_D1.2e-11_30P_64pM_step0.5us_t_max10.0s_ID1-6.pickle\n",
        "[stdout:2] \n",
        "Loaded:\n",
        "C:/Data/Antonio/data/sim/brownian/objects\\bromo_sim_D1.2e-11_30P_64pM_step0.5us_t_max10.0s_ID2-6.pickle\n",
        "[stdout:3] \n",
        "Loaded:\n",
        "C:/Data/Antonio/data/sim/brownian/objects\\bromo_sim_D1.2e-11_30P_64pM_step0.5us_t_max10.0s_ID3-6.pickle\n",
        "[stdout:4] \n",
        "Loaded:\n",
        "C:/Data/Antonio/data/sim/brownian/objects\\bromo_sim_D1.2e-11_30P_64pM_step0.5us_t_max10.0s_ID4-6.pickle\n",
        "[stdout:5] \n",
        "Loaded:\n",
        "C:/Data/Antonio/data/sim/brownian/objects\\bromo_sim_D1.2e-11_30P_64pM_step0.5us_t_max10.0s_ID5-6.pickle\n",
        "[stdout:6] \n",
        "Loaded:\n",
        "C:/Data/Antonio/data/sim/brownian/objects\\bromo_sim_D1.2e-11_30P_64pM_step0.5us_t_max10.0s_ID6-6.pickle\n",
        "[stdout:7] \n",
        "Loaded:\n",
        "C:/Data/Antonio/data/sim/brownian/objects\\bromo_sim_D1.2e-11_30P_64pM_step0.5us_t_max10.0s_ID7-6.pickle\n"
       ]
      }
     ],
     "prompt_number": 61
    },
    {
     "cell_type": "code",
     "collapsed": false,
     "input": [
      "%%px\n",
      "(S.em == S2.em).all()"
     ],
     "language": "python",
     "metadata": {},
     "outputs": [
      {
       "metadata": {},
       "output_type": "display_data",
       "text": [
        "\u001b[0;31mOut[0:35]: \u001b[0mTrue"
       ]
      },
      {
       "metadata": {},
       "output_type": "display_data",
       "text": [
        "\u001b[0;31mOut[1:35]: \u001b[0mTrue"
       ]
      },
      {
       "metadata": {},
       "output_type": "display_data",
       "text": [
        "\u001b[0;31mOut[2:35]: \u001b[0mTrue"
       ]
      },
      {
       "metadata": {},
       "output_type": "display_data",
       "text": [
        "\u001b[0;31mOut[3:35]: \u001b[0mTrue"
       ]
      },
      {
       "metadata": {},
       "output_type": "display_data",
       "text": [
        "\u001b[0;31mOut[4:35]: \u001b[0mTrue"
       ]
      },
      {
       "metadata": {},
       "output_type": "display_data",
       "text": [
        "\u001b[0;31mOut[5:35]: \u001b[0mTrue"
       ]
      },
      {
       "metadata": {},
       "output_type": "display_data",
       "text": [
        "\u001b[0;31mOut[6:35]: \u001b[0mTrue"
       ]
      },
      {
       "metadata": {},
       "output_type": "display_data",
       "text": [
        "\u001b[0;31mOut[7:35]: \u001b[0mTrue"
       ]
      }
     ],
     "prompt_number": 62
    },
    {
     "cell_type": "code",
     "collapsed": false,
     "input": [
      "%px del S2"
     ],
     "language": "python",
     "metadata": {},
     "outputs": [],
     "prompt_number": 63
    },
    {
     "cell_type": "heading",
     "level": 2,
     "metadata": {},
     "source": [
      "Some testing on the simulations"
     ]
    },
    {
     "cell_type": "markdown",
     "metadata": {},
     "source": [
      "> *The following needs to be fixed*"
     ]
    },
    {
     "cell_type": "code",
     "collapsed": false,
     "input": [
      "IDs = [5,6]"
     ],
     "language": "python",
     "metadata": {},
     "outputs": [],
     "prompt_number": 64
    },
    {
     "cell_type": "code",
     "collapsed": false,
     "input": [
      "for ID in IDs:\n",
      "    dview['ID'] = ID\n",
      "    %px S = load_sim_id(ID=ID, glob_str=\"*t_max10.0s*\", dir_=SIM_DATA_DIR)  "
     ],
     "language": "python",
     "metadata": {},
     "outputs": [
      {
       "output_type": "stream",
       "stream": "stdout",
       "text": [
        "[stdout:0] \n",
        "Loaded:\n",
        "C:/Data/Antonio/data/sim/brownian/objects\\bromo_sim_D1.2e-11_30P_64pM_step0.5us_t_max10.0s_ID0-5.pickle\n",
        "[stdout:1] \n",
        "Loaded:\n",
        "C:/Data/Antonio/data/sim/brownian/objects\\bromo_sim_D1.2e-11_30P_64pM_step0.5us_t_max10.0s_ID1-5.pickle\n",
        "[stdout:2] \n",
        "Loaded:\n",
        "C:/Data/Antonio/data/sim/brownian/objects\\bromo_sim_D1.2e-11_30P_64pM_step0.5us_t_max10.0s_ID2-5.pickle\n",
        "[stdout:3] \n",
        "Loaded:\n",
        "C:/Data/Antonio/data/sim/brownian/objects\\bromo_sim_D1.2e-11_30P_64pM_step0.5us_t_max10.0s_ID3-5.pickle\n",
        "[stdout:4] \n",
        "Loaded:\n",
        "C:/Data/Antonio/data/sim/brownian/objects\\bromo_sim_D1.2e-11_30P_64pM_step0.5us_t_max10.0s_ID4-5.pickle\n",
        "[stdout:5] \n",
        "Loaded:\n",
        "C:/Data/Antonio/data/sim/brownian/objects\\bromo_sim_D1.2e-11_30P_64pM_step0.5us_t_max10.0s_ID5-5.pickle\n",
        "[stdout:6] \n",
        "Loaded:\n",
        "C:/Data/Antonio/data/sim/brownian/objects\\bromo_sim_D1.2e-11_30P_64pM_step0.5us_t_max10.0s_ID6-5.pickle\n",
        "[stdout:7] \n",
        "Loaded:\n",
        "C:/Data/Antonio/data/sim/brownian/objects\\bromo_sim_D1.2e-11_30P_64pM_step0.5us_t_max10.0s_ID7-5.pickle\n",
        "[stdout:0] \n",
        "Loaded:\n",
        "C:/Data/Antonio/data/sim/brownian/objects\\bromo_sim_D1.2e-11_30P_64pM_step0.5us_t_max10.0s_ID0-6.pickle\n"
       ]
      },
      {
       "output_type": "stream",
       "stream": "stdout",
       "text": [
        "[stdout:1] \n",
        "Loaded:\n",
        "C:/Data/Antonio/data/sim/brownian/objects\\bromo_sim_D1.2e-11_30P_64pM_step0.5us_t_max10.0s_ID1-6.pickle\n",
        "[stdout:2] \n",
        "Loaded:\n",
        "C:/Data/Antonio/data/sim/brownian/objects\\bromo_sim_D1.2e-11_30P_64pM_step0.5us_t_max10.0s_ID2-6.pickle\n",
        "[stdout:3] \n",
        "Loaded:\n",
        "C:/Data/Antonio/data/sim/brownian/objects\\bromo_sim_D1.2e-11_30P_64pM_step0.5us_t_max10.0s_ID3-6.pickle\n",
        "[stdout:4] \n",
        "Loaded:\n",
        "C:/Data/Antonio/data/sim/brownian/objects\\bromo_sim_D1.2e-11_30P_64pM_step0.5us_t_max10.0s_ID4-6.pickle\n",
        "[stdout:5] \n",
        "Loaded:\n",
        "C:/Data/Antonio/data/sim/brownian/objects\\bromo_sim_D1.2e-11_30P_64pM_step0.5us_t_max10.0s_ID5-6.pickle\n",
        "[stdout:6] \n",
        "Loaded:\n",
        "C:/Data/Antonio/data/sim/brownian/objects\\bromo_sim_D1.2e-11_30P_64pM_step0.5us_t_max10.0s_ID6-6.pickle\n",
        "[stdout:7] \n",
        "Loaded:\n",
        "C:/Data/Antonio/data/sim/brownian/objects\\bromo_sim_D1.2e-11_30P_64pM_step0.5us_t_max10.0s_ID7-6.pickle\n"
       ]
      }
     ],
     "prompt_number": 66
    },
    {
     "cell_type": "code",
     "collapsed": false,
     "input": [
      "ph_times_d = parallel_gen_timetag(dview, max_em_rate=1.6e6, bg_rate=2e3, \n",
      "                                dir_=SIM_PH_DIR, dump=True)"
     ],
     "language": "python",
     "metadata": {},
     "outputs": [
      {
       "ename": "TypeError",
       "evalue": "parallel_gen_timetag() got an unexpected keyword argument 'dir_'",
       "output_type": "pyerr",
       "traceback": [
        "\u001b[1;31m---------------------------------------------------------------------------\u001b[0m\n\u001b[1;31mTypeError\u001b[0m                                 Traceback (most recent call last)",
        "\u001b[1;32m<ipython-input-69-91da31584bd6>\u001b[0m in \u001b[0;36m<module>\u001b[1;34m()\u001b[0m\n\u001b[0;32m      1\u001b[0m ph_times_d = parallel_gen_timetag(dview, max_em_rate=1.6e5, bg_rate=2e3, \n\u001b[1;32m----> 2\u001b[1;33m                                 dir_=SIM_PH_DIR, dump=True)\n\u001b[0m",
        "\u001b[1;31mTypeError\u001b[0m: parallel_gen_timetag() got an unexpected keyword argument 'dir_'"
       ]
      }
     ],
     "prompt_number": 69
    },
    {
     "cell_type": "code",
     "collapsed": false,
     "input": [
      "ph_times_a = parallel_gen_timetag(dview, max_em_rate=0.4e5, bg_rate=4e3, \n",
      "                                dir_=SIM_PH_DIR, dump=True)"
     ],
     "language": "python",
     "metadata": {},
     "outputs": [],
     "prompt_number": 23
    },
    {
     "cell_type": "code",
     "collapsed": false,
     "input": [
      "ph_times, a_em = merge_DA_ph_times(ph_times_d, ph_times_a)"
     ],
     "language": "python",
     "metadata": {},
     "outputs": [],
     "prompt_number": 24
    },
    {
     "cell_type": "code",
     "collapsed": false,
     "input": [
      "(ph_times_d == ph_times[-a_em]).all()"
     ],
     "language": "python",
     "metadata": {},
     "outputs": [
      {
       "metadata": {},
       "output_type": "pyout",
       "prompt_number": 25,
       "text": [
        "True"
       ]
      }
     ],
     "prompt_number": 25
    },
    {
     "cell_type": "code",
     "collapsed": false,
     "input": [
      "(ph_times_a == ph_times[a_em]).all()"
     ],
     "language": "python",
     "metadata": {},
     "outputs": [
      {
       "metadata": {},
       "output_type": "pyout",
       "prompt_number": 26,
       "text": [
        "True"
       ]
      }
     ],
     "prompt_number": 26
    },
    {
     "cell_type": "code",
     "collapsed": false,
     "input": [],
     "language": "python",
     "metadata": {},
     "outputs": []
    },
    {
     "cell_type": "code",
     "collapsed": false,
     "input": [],
     "language": "python",
     "metadata": {},
     "outputs": []
    },
    {
     "cell_type": "code",
     "collapsed": false,
     "input": [],
     "language": "python",
     "metadata": {},
     "outputs": []
    },
    {
     "cell_type": "code",
     "collapsed": false,
     "input": [
      "import matplotlib.pyplot as plt"
     ],
     "language": "python",
     "metadata": {},
     "outputs": [],
     "prompt_number": 40
    },
    {
     "cell_type": "code",
     "collapsed": false,
     "input": [
      "%matplotlib qt"
     ],
     "language": "python",
     "metadata": {},
     "outputs": [],
     "prompt_number": 49
    },
    {
     "cell_type": "code",
     "collapsed": false,
     "input": [
      "plt.plot(ph_times)"
     ],
     "language": "python",
     "metadata": {},
     "outputs": [
      {
       "metadata": {},
       "output_type": "pyout",
       "prompt_number": 27,
       "text": [
        "[<matplotlib.lines.Line2D at 0x52da810>]"
       ]
      },
      {
       "metadata": {},
       "output_type": "display_data",
       "png": "[encoded data removed]",
       "text": [
        "<matplotlib.figure.Figure at 0x4a61e50>"
       ]
      }
     ],
     "prompt_number": 27
    },
    {
     "cell_type": "code",
     "collapsed": false,
     "input": [
      "plt.hist(ph_time, bins=arange(0,4,1e-3), histtype='step');"
     ],
     "language": "python",
     "metadata": {},
     "outputs": [],
     "prompt_number": 51
    },
    {
     "cell_type": "markdown",
     "metadata": {},
     "source": [
      "Plot the emission for **one** of the simulation (no need to transfer the array):"
     ]
    },
    {
     "cell_type": "code",
     "collapsed": false,
     "input": [
      "%%px --target 0\n",
      "%matplotlib inline\n",
      "plot_emission(S, ms=1)\n",
      "plt.xlim(0,1000)"
     ],
     "language": "python",
     "metadata": {},
     "outputs": [
      {
       "metadata": {},
       "output_type": "display_data",
       "png": "[encoded data removed]",
       "text": [
        "<matplotlib.figure.Figure at 0x12c2b7f0>"
       ]
      },
      {
       "metadata": {},
       "output_type": "display_data",
       "text": [
        "\u001b[0;31mOut[0:38]: \u001b[0m(0, 1000)"
       ]
      }
     ],
     "prompt_number": 26
    },
    {
     "cell_type": "code",
     "collapsed": false,
     "input": [
      "%%px\n",
      "plt.close('all')"
     ],
     "language": "python",
     "metadata": {},
     "outputs": [],
     "prompt_number": 29
    },
    {
     "cell_type": "code",
     "collapsed": false,
     "input": [
      "%%px\n",
      "%matplotlib inline\n",
      "plot_emission(S, ms=1)\n",
      "#plt.xlim(25,35)"
     ],
     "language": "python",
     "metadata": {},
     "outputs": [
      {
       "metadata": {},
       "output_type": "display_data",
       "text": [
        "[output:0]"
       ]
      },
      {
       "metadata": {},
       "output_type": "display_data",
       "png": "[encoded data removed]",
       "text": [
        "<matplotlib.figure.Figure at 0x5ff39e8>"
       ]
      },
      {
       "metadata": {},
       "output_type": "display_data",
       "text": [
        "[output:1]"
       ]
      },
      {
       "metadata": {},
       "output_type": "display_data",
       "png": "[encoded data removed]",
       "text": [
        "<matplotlib.figure.Figure at 0x619d160>"
       ]
      },
      {
       "metadata": {},
       "output_type": "display_data",
       "text": [
        "[output:2]"
       ]
      },
      {
       "metadata": {},
       "output_type": "display_data",
       "png": "[encoded data removed]",
       "text": [
        "<matplotlib.figure.Figure at 0x607b240>"
       ]
      },
      {
       "metadata": {},
       "output_type": "display_data",
       "text": [
        "[output:3]"
       ]
      },
      {
       "metadata": {},
       "output_type": "display_data",
       "png": "[encoded data removed]",
       "text": [
        "<matplotlib.figure.Figure at 0x12c1ac50>"
       ]
      },
      {
       "metadata": {},
       "output_type": "display_data",
       "text": [
        "[output:4]"
       ]
      },
      {
       "metadata": {},
       "output_type": "display_data",
       "png": "[encoded data removed]",
       "text": [
        "<matplotlib.figure.Figure at 0x5c14710>"
       ]
      },
      {
       "metadata": {},
       "output_type": "display_data",
       "text": [
        "[output:5]"
       ]
      },
      {
       "metadata": {},
       "output_type": "display_data",
       "png": "[encoded data removed]",
       "text": [
        "<matplotlib.figure.Figure at 0x5cfb630>"
       ]
      },
      {
       "metadata": {},
       "output_type": "display_data",
       "text": [
        "[output:6]"
       ]
      },
      {
       "metadata": {},
       "output_type": "display_data",
       "png": "[encoded data removed]",
       "text": [
        "<matplotlib.figure.Figure at 0x1224bc18>"
       ]
      },
      {
       "metadata": {},
       "output_type": "display_data",
       "text": [
        "[output:7]"
       ]
      },
      {
       "metadata": {},
       "output_type": "display_data",
       "png": "[encoded data removed]",
       "text": [
        "<matplotlib.figure.Figure at 0x12111c88>"
       ]
      }
     ],
     "prompt_number": 28
    },
    {
     "cell_type": "code",
     "collapsed": false,
     "input": [],
     "language": "python",
     "metadata": {},
     "outputs": []
    },
    {
     "cell_type": "code",
     "collapsed": false,
     "input": [],
     "language": "python",
     "metadata": {},
     "outputs": []
    },
    {
     "cell_type": "code",
     "collapsed": false,
     "input": [],
     "language": "python",
     "metadata": {},
     "outputs": []
    },
    {
     "cell_type": "code",
     "collapsed": false,
     "input": [],
     "language": "python",
     "metadata": {},
     "outputs": []
    },
    {
     "cell_type": "code",
     "collapsed": false,
     "input": [],
     "language": "python",
     "metadata": {},
     "outputs": []
    },
    {
     "cell_type": "code",
     "collapsed": false,
     "input": [],
     "language": "python",
     "metadata": {},
     "outputs": []
    },
    {
     "cell_type": "heading",
     "level": 1,
     "metadata": {},
     "source": [
      "How to remove remote simulation files"
     ]
    },
    {
     "cell_type": "code",
     "collapsed": false,
     "input": [
      "%px %cd 'C:\\Data\\Antonio\\data\\sim\\brownian\\traces_em'"
     ],
     "language": "python",
     "metadata": {},
     "outputs": [
      {
       "output_type": "stream",
       "stream": "stdout",
       "text": [
        "[stdout:5] C:\\Data\\Antonio\\data\\sim\\brownian\\traces_em\n",
        "[stdout:6] C:\\Data\\Antonio\\data\\sim\\brownian\\traces_em\n",
        "[stdout:7] C:\\Data\\Antonio\\data\\sim\\brownian\\traces_em\n",
        "[stdout:8] C:\\Data\\Antonio\\data\\sim\\brownian\\traces_em\n"
       ]
      }
     ],
     "prompt_number": 148
    },
    {
     "cell_type": "code",
     "collapsed": false,
     "input": [
      "%px import os"
     ],
     "language": "python",
     "metadata": {},
     "outputs": [],
     "prompt_number": 149
    },
    {
     "cell_type": "code",
     "collapsed": false,
     "input": [
      "%px from glob import glob"
     ],
     "language": "python",
     "metadata": {},
     "outputs": [],
     "prompt_number": 151
    },
    {
     "cell_type": "code",
     "collapsed": false,
     "input": [
      "%%px --target 5\n",
      "# Execute this only on ONE engine\n",
      "for f in glob('*'):\n",
      "    print f\n",
      "    #os.remove(f)"
     ],
     "language": "python",
     "metadata": {},
     "outputs": [],
     "prompt_number": 158
    },
    {
     "cell_type": "code",
     "collapsed": false,
     "input": [],
     "language": "python",
     "metadata": {},
     "outputs": []
    },
    {
     "cell_type": "code",
     "collapsed": false,
     "input": [],
     "language": "python",
     "metadata": {},
     "outputs": []
    },
    {
     "cell_type": "code",
     "collapsed": false,
     "input": [],
     "language": "python",
     "metadata": {},
     "outputs": []
    },
    {
     "cell_type": "code",
     "collapsed": false,
     "input": [],
     "language": "python",
     "metadata": {},
     "outputs": []
    },
    {
     "cell_type": "code",
     "collapsed": false,
     "input": [
      "%qtconsole"
     ],
     "language": "python",
     "metadata": {},
     "outputs": [],
     "prompt_number": 20
    },
    {
     "cell_type": "code",
     "collapsed": false,
     "input": [
      "cd $NOTEBOOK_DIR"
     ],
     "language": "python",
     "metadata": {},
     "outputs": [
      {
       "output_type": "stream",
       "stream": "stdout",
       "text": [
        "/home/anto/Documents/ucla/src/notebooks/private\n"
       ]
      }
     ],
     "prompt_number": 3
    },
    {
     "cell_type": "code",
     "collapsed": false,
     "input": [
      "from IPython.core.display import HTML\n",
      "def css_styling():\n",
      "    styles = open(\"./styles/custom2.css\", \"r\").read()\n",
      "    return HTML(styles)\n",
      "css_styling()."
     ],
     "language": "python",
     "metadata": {},
     "outputs": [
      {
       "html": [
        "<style>\n",
        "    @font-face {\n",
        "        font-family: \"Computer Modern\";\n",
        "        src: url('http://mirrors.ctan.org/fonts/cm-unicode/fonts/otf/cmunss.otf');\n",
        "    }\n",
        "    div.cell{\n",
        "        width:820px;\n",
        "        margin-left:8% !important;\n",
        "        margin-right:auto;\n",
        "    }\n",
        "    div.text_cell_render{\n",
        "        font-family: Computer Modern, \"Helvetica Neue\", Arial, Helvetica, Geneva, sans-serif;\n",
        "        line-height: 120%;\n",
        "        font-size: 110%;\n",
        "        width:800px;\n",
        "        margin-left:auto;\n",
        "        margin-right:auto;\n",
        "    }\n",
        "    blockquote  p {\n",
        "\t/*margin: 1em 2em;*/\n",
        "\tline-height: 140%;\n",
        "    }\n",
        "\n",
        "    .rendered_html code {\n",
        "\tbackground-color: #f7f7f7;\n",
        "\tborder: 1px solid #dddddd;\n",
        "\tcolor: black;\n",
        "\tline-height: 1.1em;\n",
        "    \tpadding: 0.15em;\n",
        "\tfont-size: 85%;\n",
        "    }\n",
        "\n",
        "    .CodeMirror{\n",
        "            font-family: \"Source Code Pro\", source-code-pro,Consolas, monospace;\n",
        "    }\n",
        "    /*.prompt{\n",
        "        display: None;\n",
        "    }*/\n",
        "    \n",
        "</style>\n"
       ],
       "metadata": {},
       "output_type": "pyout",
       "prompt_number": 8,
       "text": [
        "<IPython.core.display.HTML at 0x4aa6610>"
       ]
      }
     ],
     "prompt_number": 8
    },
    {
     "cell_type": "code",
     "collapsed": false,
     "input": [],
     "language": "python",
     "metadata": {},
     "outputs": []
    }
   ],
   "metadata": {}
  }
 ]
}