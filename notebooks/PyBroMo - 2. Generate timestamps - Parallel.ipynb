{
 "metadata": {
  "name": ""
 },
 "nbformat": 3,
 "nbformat_minor": 0,
 "worksheets": [
  {
   "cells": [
    {
     "cell_type": "markdown",
     "metadata": {},
     "source": [
      ">*In this notebooks we load simulations saved in a cluster and generate timestamps \n",
      ">for different emissions and background rates.*"
     ]
    },
    {
     "cell_type": "code",
     "collapsed": false,
     "input": [
      "%matplotlib inline"
     ],
     "language": "python",
     "metadata": {},
     "outputs": [],
     "prompt_number": 1
    },
    {
     "cell_type": "heading",
     "level": 1,
     "metadata": {},
     "source": [
      "Start the cluster"
     ]
    },
    {
     "cell_type": "markdown",
     "metadata": {},
     "source": [
      "Run the inizialization script for the simulation. This will \n",
      "just set the correct folder and load brownian motion functions."
     ]
    },
    {
     "cell_type": "code",
     "collapsed": false,
     "input": [
      "%run -i init_bromo.py"
     ],
     "language": "python",
     "metadata": {},
     "outputs": [
      {
       "output_type": "stream",
       "stream": "stdout",
       "text": [
        "/home/anto/Documents/ucla/src/brownian\n"
       ]
      }
     ],
     "prompt_number": 2
    },
    {
     "cell_type": "markdown",
     "metadata": {},
     "source": [
      "Follow the steps in `HOWTO_SETUP_CLUSTER.txt` to configure and start a cluster. \n",
      "\n",
      "After that we can test the cluster:"
     ]
    },
    {
     "cell_type": "code",
     "collapsed": false,
     "input": [
      "from IPython.parallel import Client\n",
      "from IPython.utils.path import get_ipython_dir\n",
      "ipython_dir = get_ipython_dir() "
     ],
     "language": "python",
     "metadata": {},
     "outputs": [],
     "prompt_number": 3
    },
    {
     "cell_type": "code",
     "collapsed": false,
     "input": [
      "PROFILE = 'parallel'\n",
      "rc = Client(ipython_dir+'/profile_%s/security/ipcontroller-client.json' % PROFILE)\n",
      "dview = rc[:]\n",
      "dview.block = True"
     ],
     "language": "python",
     "metadata": {},
     "outputs": [],
     "prompt_number": 5
    },
    {
     "cell_type": "code",
     "collapsed": false,
     "input": [
      "rc.ids"
     ],
     "language": "python",
     "metadata": {},
     "outputs": [
      {
       "metadata": {},
       "output_type": "pyout",
       "prompt_number": 6,
       "text": [
        "[0, 1, 2, 3, 4, 5, 6, 7]"
       ]
      }
     ],
     "prompt_number": 6
    },
    {
     "cell_type": "markdown",
     "metadata": {},
     "source": [
      "The previous command returns a list of integers\n",
      "that are the ID of all the connected engines (remote or local)."
     ]
    },
    {
     "cell_type": "heading",
     "level": 2,
     "metadata": {},
     "source": [
      "Load a simulation"
     ]
    },
    {
     "cell_type": "markdown",
     "metadata": {},
     "source": [
      "Prepare the engines (change folder, define a unique eid, load functions):"
     ]
    },
    {
     "cell_type": "code",
     "collapsed": false,
     "input": [
      "%px %reset"
     ],
     "language": "python",
     "metadata": {},
     "outputs": [],
     "prompt_number": 54
    },
    {
     "cell_type": "code",
     "collapsed": false,
     "input": [
      "# Push a variable with the engine ID to each engine\n",
      "dview.scatter('eid', rc.ids, flatten=True)"
     ],
     "language": "python",
     "metadata": {},
     "outputs": [],
     "prompt_number": 55
    },
    {
     "cell_type": "code",
     "collapsed": false,
     "input": [
      "%px eid"
     ],
     "language": "python",
     "metadata": {},
     "outputs": [
      {
       "metadata": {},
       "output_type": "display_data",
       "text": [
        "\u001b[0;31mOut[0:1277]: \u001b[0m0"
       ]
      },
      {
       "metadata": {},
       "output_type": "display_data",
       "text": [
        "\u001b[0;31mOut[1:1277]: \u001b[0m1"
       ]
      },
      {
       "metadata": {},
       "output_type": "display_data",
       "text": [
        "\u001b[0;31mOut[2:1277]: \u001b[0m2"
       ]
      },
      {
       "metadata": {},
       "output_type": "display_data",
       "text": [
        "\u001b[0;31mOut[3:1277]: \u001b[0m3"
       ]
      },
      {
       "metadata": {},
       "output_type": "display_data",
       "text": [
        "\u001b[0;31mOut[4:1277]: \u001b[0m4"
       ]
      },
      {
       "metadata": {},
       "output_type": "display_data",
       "text": [
        "\u001b[0;31mOut[5:1277]: \u001b[0m5"
       ]
      },
      {
       "metadata": {},
       "output_type": "display_data",
       "text": [
        "\u001b[0;31mOut[6:1277]: \u001b[0m6"
       ]
      },
      {
       "metadata": {},
       "output_type": "display_data",
       "text": [
        "\u001b[0;31mOut[7:1277]: \u001b[0m7"
       ]
      }
     ],
     "prompt_number": 56
    },
    {
     "cell_type": "code",
     "collapsed": false,
     "input": [
      "%%px\n",
      "import os\n",
      "if os.name == 'posix':\n",
      "    BROWN_DIR = \"/home/anto/Documents/ucla/src/brownian/\"\n",
      "elif os.name == 'nt':\n",
      "    BROWN_DIR = r\"C:/Data/Antonio/software/Dropbox/brownian/\""
     ],
     "language": "python",
     "metadata": {},
     "outputs": [],
     "prompt_number": 57
    },
    {
     "cell_type": "code",
     "collapsed": false,
     "input": [
      "%%px \n",
      "%cd $BROWN_DIR"
     ],
     "language": "python",
     "metadata": {},
     "outputs": [
      {
       "output_type": "stream",
       "stream": "stdout",
       "text": [
        "[stdout:0] C:\\Data\\Antonio\\software\\Dropbox\\brownian\n",
        "[stdout:1] C:\\Data\\Antonio\\software\\Dropbox\\brownian\n",
        "[stdout:2] C:\\Data\\Antonio\\software\\Dropbox\\brownian\n",
        "[stdout:3] C:\\Data\\Antonio\\software\\Dropbox\\brownian\n",
        "[stdout:4] C:\\Data\\Antonio\\software\\Dropbox\\brownian\n",
        "[stdout:5] C:\\Data\\Antonio\\software\\Dropbox\\brownian\n",
        "[stdout:6] C:\\Data\\Antonio\\software\\Dropbox\\brownian\n",
        "[stdout:7] C:\\Data\\Antonio\\software\\Dropbox\\brownian\n"
       ]
      }
     ],
     "prompt_number": 58
    },
    {
     "cell_type": "code",
     "collapsed": false,
     "input": [
      "%px run -i brownian.py"
     ],
     "language": "python",
     "metadata": {},
     "outputs": [],
     "prompt_number": 59
    },
    {
     "cell_type": "markdown",
     "metadata": {},
     "source": [
      "Load a simulation with same parameters, ID and EID as `S`:"
     ]
    },
    {
     "cell_type": "code",
     "collapsed": false,
     "input": [
      "%%px\n",
      "S = load_sim_id(ID=1, glob_str=\"*t_max10.0s*\", dir_=SIM_DATA_DIR)"
     ],
     "language": "python",
     "metadata": {},
     "outputs": [
      {
       "output_type": "stream",
       "stream": "stdout",
       "text": [
        "[stdout:0] \n",
        "Loaded:\n",
        "C:/Data/Antonio/data/sim/brownian/objects\\bromo_sim_D1.2e-11_30P_64pM_step0.5us_t_max10.0s_ID0-1.pickle\n",
        "[stdout:1] \n",
        "Loaded:\n",
        "C:/Data/Antonio/data/sim/brownian/objects\\bromo_sim_D1.2e-11_30P_64pM_step0.5us_t_max10.0s_ID1-1.pickle\n",
        "[stdout:2] \n",
        "Loaded:\n",
        "C:/Data/Antonio/data/sim/brownian/objects\\bromo_sim_D1.2e-11_30P_64pM_step0.5us_t_max10.0s_ID2-1.pickle\n",
        "[stdout:3] \n",
        "Loaded:\n",
        "C:/Data/Antonio/data/sim/brownian/objects\\bromo_sim_D1.2e-11_30P_64pM_step0.5us_t_max10.0s_ID3-1.pickle\n",
        "[stdout:4] \n",
        "Loaded:\n",
        "C:/Data/Antonio/data/sim/brownian/objects\\bromo_sim_D1.2e-11_30P_64pM_step0.5us_t_max10.0s_ID4-1.pickle\n",
        "[stdout:5] \n",
        "Loaded:\n",
        "C:/Data/Antonio/data/sim/brownian/objects\\bromo_sim_D1.2e-11_30P_64pM_step0.5us_t_max10.0s_ID5-1.pickle\n",
        "[stdout:6] \n",
        "Loaded:\n",
        "C:/Data/Antonio/data/sim/brownian/objects\\bromo_sim_D1.2e-11_30P_64pM_step0.5us_t_max10.0s_ID6-1.pickle\n",
        "[stdout:7] \n",
        "Loaded:\n",
        "C:/Data/Antonio/data/sim/brownian/objects\\bromo_sim_D1.2e-11_30P_64pM_step0.5us_t_max10.0s_ID7-1.pickle\n"
       ]
      }
     ],
     "prompt_number": 60
    },
    {
     "cell_type": "heading",
     "level": 2,
     "metadata": {},
     "source": [
      "Generate timestamps from a simulation (single ID)"
     ]
    },
    {
     "cell_type": "code",
     "collapsed": false,
     "input": [
      "run -i brownian.py"
     ],
     "language": "python",
     "metadata": {},
     "outputs": [],
     "prompt_number": 65
    },
    {
     "cell_type": "code",
     "collapsed": false,
     "input": [
      "ph_times_d,t_tot,sim_name = parallel_gen_timetag(dview, max_em_rate=1e6, bg_rate=2e3)"
     ],
     "language": "python",
     "metadata": {},
     "outputs": [],
     "prompt_number": 62
    },
    {
     "cell_type": "code",
     "collapsed": false,
     "input": [
      "ph_times_a,t_tot,sim_name = parallel_gen_timetag(dview, max_em_rate=5e5, bg_rate=4e3)"
     ],
     "language": "python",
     "metadata": {},
     "outputs": []
    },
    {
     "cell_type": "code",
     "collapsed": false,
     "input": [
      "ph_times, a_em = merge_DA_ph_times(ph_times_d, ph_times_a)"
     ],
     "language": "python",
     "metadata": {},
     "outputs": []
    },
    {
     "cell_type": "code",
     "collapsed": false,
     "input": [
      "(ph_times_d == ph_times[-a_em]).all()"
     ],
     "language": "python",
     "metadata": {},
     "outputs": []
    },
    {
     "cell_type": "code",
     "collapsed": false,
     "input": [
      "(ph_times_a == ph_times[a_em]).all()"
     ],
     "language": "python",
     "metadata": {},
     "outputs": []
    },
    {
     "cell_type": "code",
     "collapsed": false,
     "input": [
      "ph_times.size == ph_times_d.size+ph_times_a.size == a_em.size"
     ],
     "language": "python",
     "metadata": {},
     "outputs": []
    },
    {
     "cell_type": "markdown",
     "metadata": {},
     "source": [
      "In this examples we have generate a FRET efficiency of:"
     ]
    },
    {
     "cell_type": "code",
     "collapsed": false,
     "input": [
      "k = 5e5/1e6\n",
      "E = k/(k+1)\n",
      "print \"%.1f%%\" % (E*100)"
     ],
     "language": "python",
     "metadata": {},
     "outputs": [
      {
       "output_type": "stream",
       "stream": "stdout",
       "text": [
        "33.3%\n"
       ]
      }
     ],
     "prompt_number": 2
    },
    {
     "cell_type": "heading",
     "level": 1,
     "metadata": {},
     "source": [
      "Generate sets of timestamps"
     ]
    },
    {
     "cell_type": "markdown",
     "metadata": {},
     "source": [
      "Here we load in the remote engine simulation containing emission arrays. We let the remote engine to simulate the timestamps. Then we transfer the timestamps locally and merge them in a single\n",
      "timestamp array.\n",
      "\n",
      "In order to simulate different FRET values we need different levels of emission rates.\n",
      "Furthermore it is important to check different background rates top understand how this will\n",
      "influence the burst analisys. Therefore we need to simulated different backgorund rate\n",
      "for each emission rate.\n",
      "\n",
      "The process can easily diverge if we choose too many cases. Practically around 100 cases \n",
      "(for example 10 emission leveles and 10 background rates) can be simulated in around \n",
      "20 minutes on a quad-core desktop running 4 engines.\n",
      "\n",
      "Values to simulate for the max emission rate and background rate:"
     ]
    },
    {
     "cell_type": "code",
     "collapsed": false,
     "input": [
      "import numpy as np\n",
      "#EM = np.r_[10,20:201:20, 190]*1e3\n",
      "EM = np.r_[90,99,101,110]*1e3\n",
      "print EM"
     ],
     "language": "python",
     "metadata": {},
     "outputs": [
      {
       "output_type": "stream",
       "stream": "stdout",
       "text": [
        "[  90000.   99000.  101000.  110000.]\n"
       ]
      }
     ],
     "prompt_number": 15
    },
    {
     "cell_type": "code",
     "collapsed": false,
     "input": [
      "BG = np.r_[1:7,8]*1e3\n",
      "print BG"
     ],
     "language": "python",
     "metadata": {},
     "outputs": [
      {
       "output_type": "stream",
       "stream": "stdout",
       "text": [
        "[ 1000.  2000.  3000.  4000.  5000.  6000.  8000.]\n"
       ]
      }
     ],
     "prompt_number": 16
    },
    {
     "cell_type": "markdown",
     "metadata": {},
     "source": [
      "Graphical check of the values:"
     ]
    },
    {
     "cell_type": "code",
     "collapsed": false,
     "input": [
      "print EM[None,:].shape, BG.shape"
     ],
     "language": "python",
     "metadata": {},
     "outputs": [
      {
       "output_type": "stream",
       "stream": "stdout",
       "text": [
        "(1, 4) (7,)\n"
       ]
      }
     ],
     "prompt_number": 17
    },
    {
     "cell_type": "code",
     "collapsed": false,
     "input": [
      "# Compute any possible k and E\n",
      "M = np.dot(EM[:,None],1/EM[None,:])\n",
      "k = np.sort(M.ravel())\n",
      "E = k/(k+1)\n",
      "M.shape"
     ],
     "language": "python",
     "metadata": {},
     "outputs": [
      {
       "metadata": {},
       "output_type": "pyout",
       "prompt_number": 18,
       "text": [
        "(12, 12)"
       ]
      }
     ],
     "prompt_number": 18
    },
    {
     "cell_type": "code",
     "collapsed": false,
     "input": [
      "%pylab inline"
     ],
     "language": "python",
     "metadata": {},
     "outputs": [
      {
       "output_type": "stream",
       "stream": "stdout",
       "text": [
        "Populating the interactive namespace from numpy and matplotlib\n"
       ]
      },
      {
       "output_type": "stream",
       "stream": "stderr",
       "text": [
        "WARNING: pylab import has clobbered these variables: ['box', 'rc']\n",
        "`%pylab --no-import-all` prevents importing * from pylab and numpy\n"
       ]
      }
     ],
     "prompt_number": 18
    },
    {
     "cell_type": "code",
     "collapsed": false,
     "input": [
      "plot(E, '.')\n",
      "title(\"Check how many E values are possible\");"
     ],
     "language": "python",
     "metadata": {},
     "outputs": [
      {
       "metadata": {},
       "output_type": "display_data",
       "png": "[encoded data removed]",
       "text": [
        "<matplotlib.figure.Figure at 0x4c171d0>"
       ]
      }
     ],
     "prompt_number": 19
    },
    {
     "cell_type": "markdown",
     "metadata": {},
     "source": [
      "Some helper functions to generate file names:"
     ]
    },
    {
     "cell_type": "code",
     "collapsed": false,
     "input": [
      "def gen_tot_sim_name(Sim_names):\n",
      "    \"\"\"Conatenates with '+' the ID of strings in `Sim_names`.\n",
      "    Assumes all the string be the same except for\n",
      "    a one-digit ID.\n",
      "    Example: gen_tot_sim_name(['_ID0','_ID1']) returns '_ID0+1'\n",
      "    \"\"\"\n",
      "    IDs = []\n",
      "    for s in Sim_names:\n",
      "        n = s.find('_ID') + 3\n",
      "        IDs.append(s[n])\n",
      "    name = Sim_names[0][:n] + '+'.join(IDs) + Sim_names[0][n+1:]\n",
      "    return name"
     ],
     "language": "python",
     "metadata": {},
     "outputs": [],
     "prompt_number": 18
    },
    {
     "cell_type": "code",
     "collapsed": false,
     "input": [
      "gen_tot_sim_name(['pippo_ID0_pluto','pippo_ID1_pluto', 'pippo_ID2_pluto'])"
     ],
     "language": "python",
     "metadata": {},
     "outputs": [
      {
       "metadata": {},
       "output_type": "pyout",
       "prompt_number": 19,
       "text": [
        "'pippo_ID0+1+2_pluto'"
       ]
      }
     ],
     "prompt_number": 19
    },
    {
     "cell_type": "code",
     "collapsed": false,
     "input": [
      "def gen_ph_times_name(em, bg, sim_name, t_tot):\n",
      "    \"\"\"Generate a name for a timestamp array\n",
      "    \"\"\"\n",
      "    EM_str = \"%04d\" % (em/1e3)\n",
      "    BG_str = \"%04.1f\" % (bg/1e3)\n",
      "    fname = \"ph_times_{t}s_{sim}_EM{em}kHz_BG{bg}kHz.npy\".format(\n",
      "            em=EM_str, bg=BG_str, t=t_tot, sim=sim_name)\n",
      "    return fname"
     ],
     "language": "python",
     "metadata": {},
     "outputs": [],
     "prompt_number": 20
    },
    {
     "cell_type": "code",
     "collapsed": false,
     "input": [
      "gen_ph_times_name(5e5, 3e3, 'pippo', 10.)"
     ],
     "language": "python",
     "metadata": {},
     "outputs": [
      {
       "metadata": {},
       "output_type": "pyout",
       "prompt_number": 21,
       "text": [
        "'ph_times_10.0s_pippo_EM0500kHz_BG03.0kHz.npy'"
       ]
      }
     ],
     "prompt_number": 21
    },
    {
     "cell_type": "markdown",
     "metadata": {},
     "source": [
      "Big loop to generate timestamps for multiple:\n",
      "\n",
      "- background rates\n",
      "- max emission rates\n",
      "\n",
      "This will also collate different simulation ID together:"
     ]
    },
    {
     "cell_type": "code",
     "collapsed": false,
     "input": [
      "%qtconsole"
     ],
     "language": "python",
     "metadata": {},
     "outputs": [],
     "prompt_number": 22
    },
    {
     "cell_type": "code",
     "collapsed": false,
     "input": [
      "%%timeit -n1 -r1\n",
      "IDs = [1, 2, 3, 4, 5, 6]\n",
      "for bg in BG:\n",
      "    for em in EM:\n",
      "        PH = []\n",
      "        t_tot_tot = 0\n",
      "        Sim_name = []\n",
      "        for ID in IDs:\n",
      "            dview['ID'] = ID\n",
      "            %px S = load_sim_id(ID=ID, glob_str=\"*t_max10.0s*\", dir_=SIM_DATA_DIR)\n",
      "\n",
      "            ph, t_tot, sim_name = parallel_gen_timetag(dview, \n",
      "                                    max_em_rate=em, bg_rate=bg)\n",
      "            \n",
      "            PH.append(ph)\n",
      "            t_tot_tot += t_tot\n",
      "            Sim_name.append(sim_name)\n",
      "        \n",
      "        # Use last sim `t_tot` to set time_block\n",
      "        ph_times = merge_ph_times(PH, time_block=t_tot)\n",
      "        \n",
      "        tot_sim_name = gen_tot_sim_name(Sim_name)\n",
      "        fname = gen_ph_times_name(em, bg, tot_sim_name, t_tot_tot)\n",
      "        \n",
      "        ph_times.dump(SIM_PH_DIR+fname)\n",
      "        del ph_times"
     ],
     "language": "python",
     "metadata": {},
     "outputs": []
    },
    {
     "cell_type": "code",
     "collapsed": false,
     "input": [
      "plt.hist(ph_times, bins=arange(0,0.5,1e-3), histtype='step');"
     ],
     "language": "python",
     "metadata": {},
     "outputs": []
    },
    {
     "cell_type": "code",
     "collapsed": false,
     "input": [],
     "language": "python",
     "metadata": {},
     "outputs": []
    },
    {
     "cell_type": "markdown",
     "metadata": {},
     "source": [
      "Specify here the parameters of the simulation to load:"
     ]
    },
    {
     "cell_type": "code",
     "collapsed": false,
     "input": [
      "d_EM_kHz = 400.\n",
      "d_BG_kHz = 4\n",
      "a_EM_kHz = 200\n",
      "a_BG_kHz = 2\n",
      "FRET_val = 1.*a_EM_kHz/(a_EM_kHz+d_EM_kHz)\n",
      "print \"Simulated FRET value: %.2f\" % FRET_val"
     ],
     "language": "python",
     "metadata": {},
     "outputs": []
    },
    {
     "cell_type": "code",
     "collapsed": false,
     "input": [
      "# These are used for the file name\n",
      "ID = '0+1+2'\n",
      "t_tot = '0.6'\n",
      "\n",
      "# These are metadata associated to the timestamps\n",
      "t_step = 0.5e-6\n",
      "clk_p = t_step/32. # with t_step=0.5us -> 156.25 ns"
     ],
     "language": "python",
     "metadata": {},
     "outputs": []
    },
    {
     "cell_type": "markdown",
     "metadata": {},
     "source": [
      "Here we compute the file name from the parameter:"
     ]
    },
    {
     "cell_type": "code",
     "collapsed": false,
     "input": [
      "d_EM_kHz_str = \"%04d\" % d_EM_kHz\n",
      "a_EM_kHz_str = \"%04d\" % a_EM_kHz\n",
      "d_BG_kHz_str = \"%04.1f\" % d_BG_kHz\n",
      "a_BG_kHz_str = \"%04.1f\" % d_BG_kHz\n",
      "\n",
      "print \"D: EM %s BG %s \"%(d_EM_kHz_str,d_BG_kHz_str)\n",
      "print \"A: EM %s BG %s \"%(a_EM_kHz_str,a_BG_kHz_str)"
     ],
     "language": "python",
     "metadata": {},
     "outputs": []
    },
    {
     "cell_type": "code",
     "collapsed": false,
     "input": [
      "fname_d = \"ph_times_{t_tot}s_D1.2e-11_10P_21pM_step0.5us_ID{ID}_EM{em}kHz_BG{bg}kHz.npy\".format(em=d_EM_kHz_str, bg=d_BG_kHz_str, t_tot=t_tot, ID=ID)\n",
      "fname_a = \"ph_times_{t_tot}s_D1.2e-11_10P_21pM_step0.5us_ID{ID}_EM{em}kHz_BG{bg}kHz.npy\".format(em=a_EM_kHz_str, bg=a_BG_kHz_str, t_tot=t_tot, ID=ID)\n",
      "print fname_d\n",
      "print fname_a"
     ],
     "language": "python",
     "metadata": {},
     "outputs": []
    },
    {
     "cell_type": "code",
     "collapsed": false,
     "input": [
      "SIM_PH_DIR"
     ],
     "language": "python",
     "metadata": {},
     "outputs": []
    },
    {
     "cell_type": "markdown",
     "metadata": {},
     "source": [
      "Load the timestamps arrays:"
     ]
    },
    {
     "cell_type": "code",
     "collapsed": false,
     "input": [
      "ph_times_d = numpy.load(SIM_PH_DIR+fname_d)\n",
      "ph_times_a = numpy.load(SIM_PH_DIR+fname_a)"
     ],
     "language": "python",
     "metadata": {},
     "outputs": []
    },
    {
     "cell_type": "code",
     "collapsed": false,
     "input": [
      "ph_times, a_em = merge_DA_ph_times(ph_times_d, ph_times_a)\n",
      "ph_times_int = (ph_times/clk_p).astype('int64')"
     ],
     "language": "python",
     "metadata": {},
     "outputs": []
    },
    {
     "cell_type": "markdown",
     "metadata": {},
     "source": [
      "Now we can create an object `Data()` for burst analisys."
     ]
    },
    {
     "cell_type": "code",
     "collapsed": false,
     "input": [],
     "language": "python",
     "metadata": {},
     "outputs": []
    },
    {
     "cell_type": "heading",
     "level": 1,
     "metadata": {},
     "source": [
      "Remove simulation files"
     ]
    },
    {
     "cell_type": "code",
     "collapsed": false,
     "input": [
      "%px %cd 'C:\\Data\\Antonio\\data\\sim\\brownian\\traces_em'"
     ],
     "language": "python",
     "metadata": {},
     "outputs": []
    },
    {
     "cell_type": "code",
     "collapsed": false,
     "input": [
      "%px import os"
     ],
     "language": "python",
     "metadata": {},
     "outputs": []
    },
    {
     "cell_type": "code",
     "collapsed": false,
     "input": [
      "%px from glob import glob"
     ],
     "language": "python",
     "metadata": {},
     "outputs": []
    },
    {
     "cell_type": "code",
     "collapsed": false,
     "input": [
      "%%px --target 5\n",
      "# Execute this only on ONE engine\n",
      "for f in glob('*'):\n",
      "    print f\n",
      "    #os.remove(f)"
     ],
     "language": "python",
     "metadata": {},
     "outputs": []
    },
    {
     "cell_type": "code",
     "collapsed": false,
     "input": [],
     "language": "python",
     "metadata": {},
     "outputs": []
    },
    {
     "cell_type": "code",
     "collapsed": false,
     "input": [],
     "language": "python",
     "metadata": {},
     "outputs": []
    },
    {
     "cell_type": "code",
     "collapsed": false,
     "input": [],
     "language": "python",
     "metadata": {},
     "outputs": []
    },
    {
     "cell_type": "code",
     "collapsed": false,
     "input": [],
     "language": "python",
     "metadata": {},
     "outputs": []
    },
    {
     "cell_type": "code",
     "collapsed": false,
     "input": [
      "%qtconsole"
     ],
     "language": "python",
     "metadata": {},
     "outputs": []
    },
    {
     "cell_type": "code",
     "collapsed": false,
     "input": [
      "cd $NOTEBOOK_DIR"
     ],
     "language": "python",
     "metadata": {},
     "outputs": []
    },
    {
     "cell_type": "code",
     "collapsed": false,
     "input": [
      "from IPython.core.display import HTML\n",
      "def css_styling():\n",
      "    styles = open(\"./styles/custom2.css\", \"r\").read()\n",
      "    return HTML(styles)\n",
      "css_styling()"
     ],
     "language": "python",
     "metadata": {},
     "outputs": [
      {
       "html": [
        "<style>\n",
        "    @font-face {\n",
        "        font-family: \"Computer Modern\";\n",
        "        src: url('http://mirrors.ctan.org/fonts/cm-unicode/fonts/otf/cmunss.otf');\n",
        "    }\n",
        "    div.cell{\n",
        "        width:900px;\n",
        "        margin-left:8% !important;\n",
        "        margin-right:auto;\n",
        "    }\n",
        "    div.text_cell_render{\n",
        "        font-family: Computer Modern, \"Helvetica Neue\", Arial, Helvetica, Geneva, sans-serif;\n",
        "        line-height: 120%;\n",
        "        font-size: 110%;\n",
        "        width:800px;\n",
        "        margin-left:auto;\n",
        "        margin-right:auto;\n",
        "    }\n",
        "    blockquote  p {\n",
        "\t/*margin: 1em 2em;*/\n",
        "\tline-height: 140%;\n",
        "    }\n",
        "\n",
        "    .rendered_html code {\n",
        "\tbackground-color: #f7f7f7;\n",
        "\tborder: 1px solid #dddddd;\n",
        "\tcolor: black;\n",
        "\tline-height: 1.1em;\n",
        "    \tpadding: 0.15em;\n",
        "\tfont-size: 85%;\n",
        "    }\n",
        "\n",
        "    .CodeMirror{\n",
        "            font-family: \"Source Code Pro\", source-code-pro,Consolas, monospace;\n",
        "    }\n",
        "    /*.prompt{\n",
        "        display: None;\n",
        "    }*/\n",
        "    \n",
        "</style>\n"
       ],
       "metadata": {},
       "output_type": "pyout",
       "prompt_number": 6,
       "text": [
        "<IPython.core.display.HTML at 0x24f7450>"
       ]
      }
     ],
     "prompt_number": 6
    },
    {
     "cell_type": "code",
     "collapsed": false,
     "input": [],
     "language": "python",
     "metadata": {},
     "outputs": []
    }
   ],
   "metadata": {}
  }
 ]
}