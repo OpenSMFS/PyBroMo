{
 "metadata": {
  "name": ""
 },
 "nbformat": 3,
 "nbformat_minor": 0,
 "worksheets": [
  {
   "cells": [
    {
     "cell_type": "markdown",
     "metadata": {},
     "source": [
      ">*In this notebooks it is assumed that you already generated a series\n",
      "> of timestamps for different emission levels and different background rates.\n",
      "> You can do this by running the notebook: **2. Generate timestamps - Parallel** *"
     ]
    },
    {
     "cell_type": "heading",
     "level": 1,
     "metadata": {},
     "source": [
      "Generate a smFRET experiment"
     ]
    },
    {
     "cell_type": "markdown",
     "metadata": {},
     "source": [
      "Once we simulated timestamps for different emission rates (and possibly for different\n",
      "background rates) it is easy to obtain smFRET data. We just need to assign donor timestamps and acceptor timestamps.\n",
      "The FRET efficiency will be function of the ratio between max acceptor emission and max\n",
      "donor emission. Calling this rate $k$:\n",
      "\n",
      "$$k = \\mathrm{\\frac{acceptor\\;rate}{donor\\; rate}}$$\n",
      "\n",
      "We can compute the simulated FRET efficiency $E$ as:\n",
      "\n",
      "$$ E = \\frac{k}{k+1} $$\n",
      "\n",
      "So if, for example, you want a FRET efficiency of 20% you need a $k$ of 0.25:"
     ]
    },
    {
     "cell_type": "code",
     "collapsed": false,
     "input": [
      "0.2/(1-0.2)"
     ],
     "language": "python",
     "metadata": {},
     "outputs": [
      {
       "metadata": {},
       "output_type": "pyout",
       "prompt_number": 1,
       "text": [
        "0.25"
       ]
      }
     ],
     "prompt_number": 1
    },
    {
     "cell_type": "markdown",
     "metadata": {},
     "source": [
      "Therefore you need two timestamps files with max emission rate of 150 kcps and \n",
      "50 kcps. \n",
      "Make sure you already generated these timestamps (if not go back to the previous\n",
      "notebook). In this example you simply need to use the 150 kcps rate for the donor \n",
      "timestamps and the 50 kcps rate for the acceptor timestamps.\n",
      "\n",
      "> **Note**: You can simulate arbitrarly high emission rates, however as \n",
      "> a rule of thumb for a good green-red FRET pair (for example ATTO550 and ATTO647N),\n",
      "> you should not go above 200-300 kcps as total max emission rate (donor + acceptor).\n",
      "> YMMV."
     ]
    },
    {
     "cell_type": "heading",
     "level": 1,
     "metadata": {},
     "source": [
      "Load the simulated timestamps"
     ]
    },
    {
     "cell_type": "code",
     "collapsed": false,
     "input": [
      "%run -i load_bromo.py"
     ],
     "language": "python",
     "metadata": {},
     "outputs": [
      {
       "output_type": "stream",
       "stream": "stdout",
       "text": [
        "/home/anto/Documents/ucla/src/brownian\n"
       ]
      }
     ],
     "prompt_number": 2
    },
    {
     "cell_type": "markdown",
     "metadata": {},
     "source": [
      "All the avalilable timestamps should be in the folder `SIM_PH_DIR` \n",
      "(defined in `path_def.py`):"
     ]
    },
    {
     "cell_type": "code",
     "collapsed": false,
     "input": [
      "SIM_PH_DIR"
     ],
     "language": "python",
     "metadata": {},
     "outputs": [
      {
       "metadata": {},
       "output_type": "pyout",
       "prompt_number": 3,
       "text": [
        "'/home/anto/Documents/ucla/src/data/sim/brownian/ph_times/'"
       ]
      }
     ],
     "prompt_number": 3
    },
    {
     "cell_type": "code",
     "collapsed": false,
     "input": [
      "#ls /home/anto/Documents/ucla/src/data/sim/brownian/ph_times/*ID1+2+3+4+5+6*"
     ],
     "language": "python",
     "metadata": {},
     "outputs": [],
     "prompt_number": 4
    },
    {
     "cell_type": "markdown",
     "metadata": {},
     "source": [
      "Specify here the parameters of the simulation to load (you must have \n",
      "generated the timestamps first). First you choose the donor and acceptor \n",
      "max emission rate and background rate (in kHz). The resulting FRET efficiency\n",
      "is printed:"
     ]
    },
    {
     "cell_type": "code",
     "collapsed": false,
     "input": [
      "d_EM_kHz = 20.\n",
      "d_BG_kHz = 6\n",
      "a_EM_kHz = 180.\n",
      "a_BG_kHz = 3\n",
      "FRET_val = 100.*a_EM_kHz/(a_EM_kHz+d_EM_kHz)\n",
      "print \"Simulated FRET value: %.1f%%\" % FRET_val"
     ],
     "language": "python",
     "metadata": {},
     "outputs": [
      {
       "output_type": "stream",
       "stream": "stdout",
       "text": [
        "Simulated FRET value: 90.0%\n"
       ]
      }
     ],
     "prompt_number": 5
    },
    {
     "cell_type": "markdown",
     "metadata": {},
     "source": [
      "Then you need to specify which simulation to load providing additional **strings**:\n",
      "\n",
      "* **ID** indicates all the simulation `ID` that are fused in the timestamp file\n",
      "* **t_tot** is the strings representing the total timulated times in seconds\n",
      "* **num_p** is the number of simulated particles\n",
      "* **pM** is the particles concentration in pico-Mol\n",
      "\n",
      "Finally you need to provide the simulation time-step that you used (**t_step**)"
     ]
    },
    {
     "cell_type": "code",
     "collapsed": false,
     "input": [
      "# These are used for the file name\n",
      "ID = '1+2+3+4+5+6'\n",
      "t_tot = '480' # string without trailing 's'\n",
      "num_p = '30'\n",
      "pM = '64'\n",
      "\n",
      "# These are metadata associated to the timestamps\n",
      "t_step = 0.5e-6"
     ],
     "language": "python",
     "metadata": {},
     "outputs": [],
     "prompt_number": 6
    },
    {
     "cell_type": "markdown",
     "metadata": {},
     "source": [
      "In the following cells we have a series of commmands to find the timestamps file names\n",
      "(probably these should be moved to a function).\n",
      "\n",
      "Here we compute the file name from the parameters:"
     ]
    },
    {
     "cell_type": "code",
     "collapsed": false,
     "input": [
      "d_EM_kHz_str = \"%04d\" % d_EM_kHz\n",
      "a_EM_kHz_str = \"%04d\" % a_EM_kHz\n",
      "d_BG_kHz_str = \"%04.1f\" % d_BG_kHz\n",
      "a_BG_kHz_str = \"%04.1f\" % a_BG_kHz\n",
      "\n",
      "print \"D: EM %s BG %s \"%(d_EM_kHz_str,d_BG_kHz_str)\n",
      "print \"A: EM %s BG %s \"%(a_EM_kHz_str,a_BG_kHz_str)"
     ],
     "language": "python",
     "metadata": {},
     "outputs": [
      {
       "output_type": "stream",
       "stream": "stdout",
       "text": [
        "D: EM 0020 BG 06.0 \n",
        "A: EM 0180 BG 03.0 \n"
       ]
      }
     ],
     "prompt_number": 7
    },
    {
     "cell_type": "code",
     "collapsed": false,
     "input": [
      "fname_d = \"ph_times_{t_tot}s_D1.2e-11_{np}P_{pM}pM_step0.5us_ID{ID}_EM{em}kHz_BG{bg}kHz.npy\".format(em=d_EM_kHz_str, bg=d_BG_kHz_str, t_tot=t_tot, pM=pM, np=num_p, ID=ID)\n",
      "fname_a = \"ph_times_{t_tot}s_D1.2e-11_{np}P_{pM}pM_step0.5us_ID{ID}_EM{em}kHz_BG{bg}kHz.npy\".format(em=a_EM_kHz_str, bg=a_BG_kHz_str, t_tot=t_tot, pM=pM, np=num_p, ID=ID)\n",
      "print fname_d\n",
      "print fname_a"
     ],
     "language": "python",
     "metadata": {},
     "outputs": [
      {
       "output_type": "stream",
       "stream": "stdout",
       "text": [
        "ph_times_480s_D1.2e-11_30P_64pM_step0.5us_ID1+2+3+4+5+6_EM0020kHz_BG06.0kHz.npy\n",
        "ph_times_480s_D1.2e-11_30P_64pM_step0.5us_ID1+2+3+4+5+6_EM0180kHz_BG03.0kHz.npy\n"
       ]
      }
     ],
     "prompt_number": 8
    },
    {
     "cell_type": "markdown",
     "metadata": {},
     "source": [
      "We finally try to load the timestamps:"
     ]
    },
    {
     "cell_type": "code",
     "collapsed": false,
     "input": [
      "ph_times_d = np.load(SIM_PH_DIR+fname_d)\n",
      "ph_times_a = np.load(SIM_PH_DIR+fname_a)"
     ],
     "language": "python",
     "metadata": {},
     "outputs": [],
     "prompt_number": 9
    },
    {
     "cell_type": "markdown",
     "metadata": {},
     "source": [
      "If the previous command fails you ether specified wrong parameters (check the **ID**,\n",
      "**t_tot**, **num_p** and **pM**) or you don't have a timestamp file with \n",
      "the specified combination of emission and backgorund rates.\n",
      "\n",
      "The timestamps are **float64** and represent the absolute time in seconds from \n",
      "the beginning of the simulated experiment. You can convert the array to integers\n",
      "(**int64**) and assign a clock period in order to have data that looks more like timestamps generated\n",
      "by an FPGA hardware:"
     ]
    },
    {
     "cell_type": "code",
     "collapsed": false,
     "input": [
      "ph_times, a_em = merge_DA_ph_times(ph_times_d, ph_times_a)\n",
      "\n",
      "clk_p = t_step/32. # with t_step=0.5us -> 156.25 ns\n",
      "ph_times_int = (ph_times/clk_p).astype('int64')"
     ],
     "language": "python",
     "metadata": {},
     "outputs": [],
     "prompt_number": 10
    },
    {
     "cell_type": "heading",
     "level": 1,
     "metadata": {},
     "source": [
      "Save or export timestamps"
     ]
    },
    {
     "cell_type": "markdown",
     "metadata": {},
     "source": [
      "Timestamps are Numpy arrays that can be saved in any conceivable format. \n",
      "Here I provide some examples."
     ]
    },
    {
     "cell_type": "heading",
     "level": 2,
     "metadata": {},
     "source": [
      "MATLAB .mat"
     ]
    },
    {
     "cell_type": "code",
     "collapsed": false,
     "input": [
      "from scipy.io import savemat"
     ],
     "language": "python",
     "metadata": {},
     "outputs": [],
     "prompt_number": 11
    },
    {
     "cell_type": "code",
     "collapsed": false,
     "input": [
      "data_to_save = dict(timestamps_donor=ph_times_d, \n",
      "                    timestamps_acceptor=ph_times_a)\n",
      "\n",
      "savemat('timestamps_matlab_example', data_to_save, oned_as='row')"
     ],
     "language": "python",
     "metadata": {},
     "outputs": [],
     "prompt_number": 12
    },
    {
     "cell_type": "heading",
     "level": 2,
     "metadata": {},
     "source": [
      "ASCII format"
     ]
    },
    {
     "cell_type": "markdown",
     "metadata": {},
     "source": [
      "Even if not very efficient sometimes can be handy to save an array to a txt file. \n",
      "We use the numpy array method `tofile()` that can save both in binary and ASCII format.\n",
      "\n",
      "To save in ASCII just specify a separator (`sep`). Format is the standard python\n",
      "(or C) string format for numbers:"
     ]
    },
    {
     "cell_type": "code",
     "collapsed": false,
     "input": [
      "ph_times_d.tofile('timestamps_donor.txt', sep='\\n', format=\"%15e\")"
     ],
     "language": "python",
     "metadata": {},
     "outputs": [],
     "prompt_number": 13
    },
    {
     "cell_type": "heading",
     "level": 2,
     "metadata": {},
     "source": [
      "Binary format"
     ]
    },
    {
     "cell_type": "markdown",
     "metadata": {},
     "source": [
      "Here an example on how to save an array in an arbitrary binary format. \n",
      "We use the numpy method `tofile` that saves the array in the same representation\n",
      "as is currently in memory. So we need first to convert the array in memory and then save it to a file.\n",
      "\n",
      "Converting an array memory format and/or its declared type is explaine pretty well \n",
      "in the numpy docs:\n",
      "\n",
      "* [Numpy Basics Byte-swapping](http://docs.scipy.org/doc/numpy/user/basics.byteswapping.html)\n",
      "\n",
      "Here let say we want to save the array `ph_times_int`. We\n",
      "can check the type and byte order asking to the array itself:"
     ]
    },
    {
     "cell_type": "code",
     "collapsed": false,
     "input": [
      "ph_times_int.dtype"
     ],
     "language": "python",
     "metadata": {},
     "outputs": [
      {
       "metadata": {},
       "output_type": "pyout",
       "prompt_number": 14,
       "text": [
        "dtype('int64')"
       ]
      }
     ],
     "prompt_number": 14
    },
    {
     "cell_type": "code",
     "collapsed": false,
     "input": [
      "ph_times_int.dtype.byteorder"
     ],
     "language": "python",
     "metadata": {},
     "outputs": [
      {
       "metadata": {},
       "output_type": "pyout",
       "prompt_number": 15,
       "text": [
        "'='"
       ]
      }
     ],
     "prompt_number": 15
    },
    {
     "cell_type": "markdown",
     "metadata": {},
     "source": [
      "So is an **int64** array with native byte order '=' (the same as the CPU). You can\n",
      "[safely assume](http://en.wikipedia.org/wiki/Endianness#Endianness_and_hardware) \n",
      "that a modern CPU is little-endian. But if you are really paranoic you can check:"
     ]
    },
    {
     "cell_type": "code",
     "collapsed": false,
     "input": [
      "import sys\n",
      "sys.byteorder"
     ],
     "language": "python",
     "metadata": {},
     "outputs": [
      {
       "metadata": {},
       "output_type": "pyout",
       "prompt_number": 16,
       "text": [
        "'little'"
       ]
      }
     ],
     "prompt_number": 16
    },
    {
     "cell_type": "markdown",
     "metadata": {},
     "source": [
      "Ok. Now, for whatever reason, we want to convert this array to big-endian int32:"
     ]
    },
    {
     "cell_type": "code",
     "collapsed": false,
     "input": [
      "# Convert to int32\n",
      "ph_times_int32 = ph_times_int.astype('int32')\n",
      "\n",
      "# Swap the bytes in memory to change endianess (byteswap)\n",
      "# and change also the \"declared\" byte order (newbyteorder) \n",
      "ph_times_int32_bigendian = ph_times_int32.byteswap().newbyteorder()\n",
      "\n",
      "print ph_times_int32_bigendian.dtype"
     ],
     "language": "python",
     "metadata": {},
     "outputs": [
      {
       "output_type": "stream",
       "stream": "stdout",
       "text": [
        ">i4\n"
       ]
      }
     ],
     "prompt_number": 17
    },
    {
     "cell_type": "markdown",
     "metadata": {},
     "source": [
      "We can finally save the array:"
     ]
    },
    {
     "cell_type": "code",
     "collapsed": false,
     "input": [
      "with open('times_bigend_int32.dat', 'wb') as f:\n",
      "    ph_times_int32_bigendian.tofile(f)"
     ],
     "language": "python",
     "metadata": {},
     "outputs": [],
     "prompt_number": 18
    },
    {
     "cell_type": "markdown",
     "metadata": {},
     "source": [
      "To finish we test that we saved the file correctly:"
     ]
    },
    {
     "cell_type": "code",
     "collapsed": false,
     "input": [
      "with open('times_bigend_int32.dat', 'rb') as f:\n",
      "    data = f.read()\n",
      "\n",
      "new_ph_times = np.ndarray(len(data)/4, dtype='>i4', buffer=data)"
     ],
     "language": "python",
     "metadata": {},
     "outputs": [],
     "prompt_number": 19
    },
    {
     "cell_type": "code",
     "collapsed": false,
     "input": [
      "(new_ph_times == ph_times_int32_bigendian).all()"
     ],
     "language": "python",
     "metadata": {},
     "outputs": [
      {
       "metadata": {},
       "output_type": "pyout",
       "prompt_number": 20,
       "text": [
        "True"
       ]
      }
     ],
     "prompt_number": 20
    },
    {
     "cell_type": "markdown",
     "metadata": {},
     "source": [
      "Form the previous command we see that all the elements of the two arrays are equal."
     ]
    },
    {
     "cell_type": "code",
     "collapsed": false,
     "input": [],
     "language": "python",
     "metadata": {},
     "outputs": []
    },
    {
     "cell_type": "code",
     "collapsed": false,
     "input": [],
     "language": "python",
     "metadata": {},
     "outputs": []
    },
    {
     "cell_type": "code",
     "collapsed": false,
     "input": [],
     "language": "python",
     "metadata": {},
     "outputs": []
    },
    {
     "cell_type": "code",
     "collapsed": false,
     "input": [],
     "language": "python",
     "metadata": {},
     "outputs": []
    },
    {
     "cell_type": "code",
     "collapsed": false,
     "input": [
      "from IPython.core.display import HTML\n",
      "def css_styling():\n",
      "    styles = open(\"./styles/custom2.css\", \"r\").read()\n",
      "    return HTML(styles)\n",
      "css_styling()."
     ],
     "language": "python",
     "metadata": {},
     "outputs": [
      {
       "html": [
        "<style>\n",
        "    @font-face {\n",
        "        font-family: \"Computer Modern\";\n",
        "        src: url('http://mirrors.ctan.org/fonts/cm-unicode/fonts/otf/cmunss.otf');\n",
        "    }\n",
        "    div.cell{\n",
        "        width:820px;\n",
        "        margin-left:8% !important;\n",
        "        margin-right:auto;\n",
        "    }\n",
        "    div.text_cell_render{\n",
        "        font-family: Computer Modern, \"Helvetica Neue\", Arial, Helvetica, Geneva, sans-serif;\n",
        "        line-height: 120%;\n",
        "        font-size: 110%;\n",
        "        width:800px;\n",
        "        margin-left:auto;\n",
        "        margin-right:auto;\n",
        "    }\n",
        "    blockquote  p {\n",
        "\t/*margin: 1em 2em;*/\n",
        "\tline-height: 140%;\n",
        "    }\n",
        "\n",
        "    .rendered_html code {\n",
        "\tbackground-color: #f7f7f7;\n",
        "\tborder: 1px solid #dddddd;\n",
        "\tcolor: black;\n",
        "\tline-height: 1.1em;\n",
        "    \tpadding: 0.15em;\n",
        "\tfont-size: 85%;\n",
        "    }\n",
        "\n",
        "    .CodeMirror{\n",
        "            font-family: \"Source Code Pro\", source-code-pro,Consolas, monospace;\n",
        "    }\n",
        "    /*.prompt{\n",
        "        display: None;\n",
        "    }*/\n",
        "    \n",
        "</style>\n"
       ],
       "metadata": {},
       "output_type": "pyout",
       "prompt_number": 8,
       "text": [
        "<IPython.core.display.HTML at 0x4aa6610>"
       ]
      }
     ],
     "prompt_number": 8
    }
   ],
   "metadata": {}
  }
 ]
}