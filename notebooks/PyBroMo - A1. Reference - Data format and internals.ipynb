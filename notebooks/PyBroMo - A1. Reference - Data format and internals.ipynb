{
 "cells": [
  {
   "cell_type": "markdown",
   "metadata": {},
   "source": [
    "# [PyBroMo](http://tritemio.github.io/PyBroMo/) - Reference - Data format and internals"
   ]
  },
  {
   "cell_type": "markdown",
   "metadata": {},
   "source": [
    "<small>\n",
    "*This notebook is part of [PyBroMo](http://tritemio.github.io/PyBroMo/) a \n",
    "python-based single-molecule Brownian motion diffusion simulator \n",
    "for confocal [smFRET](http://en.wikipedia.org/wiki/Single-molecule_FRET)\n",
    "experiments. You can find the full list of notebooks [here](http://nbviewer.ipython.org/github/tritemio/PyBroMo/tree/master/notebooks/).*\n",
    "</small>"
   ]
  },
  {
   "cell_type": "markdown",
   "metadata": {},
   "source": [
    "> **Summary.** *This notebook describes the HDF5 file format used to store simulation results. \n",
    "> It is also an example on how to use the pytables API to navigate through the HDF5 file.*"
   ]
  },
  {
   "cell_type": "code",
   "execution_count": 1,
   "metadata": {
    "collapsed": false
   },
   "outputs": [
    {
     "name": "stdout",
     "output_type": "stream",
     "text": [
      "C:\\Data\\Antonio\\software\\src\\pybromo\n",
      "\n",
      "PyBroMo revision:\n",
      " 2014-07-25 af5a325 Move test methods to a new file\n",
      "\n"
     ]
    }
   ],
   "source": [
    "%run load_pybromo.py"
   ]
  },
  {
   "cell_type": "code",
   "execution_count": 2,
   "metadata": {
    "collapsed": false
   },
   "outputs": [
    {
     "name": "stdout",
     "output_type": "stream",
     "text": [
      "Initial random state: bfb867eb5c5858e04685b790d6370c458b9747d6\n",
      "Current random state: a347679b154f41d3d6847933720004f51811c0e6\n"
     ]
    },
    {
     "data": {
      "text/plain": [
       "Box: X 8.0um, Y 8.0um, Z 12.0um\n",
       "D 1.2e-11, #Particles 15, 32.4 pM, t_step 0.5us, t_max 0.3s ID_EID 0 0"
      ]
     },
     "execution_count": 2,
     "metadata": {},
     "output_type": "execute_result"
    }
   ],
   "source": [
    "# Initialize the random state\n",
    "rs = np.random.RandomState(1)\n",
    "print 'Initial random state:', hash_(rs.get_state())\n",
    "\n",
    "# Diffusion coefficient\n",
    "Du = 12.0           # um^2 / s\n",
    "D = Du*(1e-6)**2    # m^2 / s\n",
    "\n",
    "# Simulation time step (seconds)\n",
    "t_step = 0.5e-6\n",
    "\n",
    "# Time duration of the simulation (seconds)\n",
    "t_max = 0.3\n",
    "\n",
    "# Simulation box definition\n",
    "box = Box(x1=-4.e-6, x2=4.e-6, y1=-4.e-6, y2=4.e-6, z1=-6e-6, z2=6e-6)\n",
    "\n",
    "# PSF definition\n",
    "psf = NumericPSF()\n",
    "\n",
    "# Particles definition\n",
    "P = gen_particles(15, box, rs=rs)\n",
    "\n",
    "# Particle simulation definition\n",
    "S = ParticlesSimulation(D=D, t_step=t_step, t_max=t_max, particles=P, box=box, psf=psf)\n",
    "\n",
    "print 'Current random state:', hash_(rs.get_state())\n",
    "S"
   ]
  },
  {
   "cell_type": "markdown",
   "metadata": {},
   "source": [
    "#HDF5 File format\n",
    "\n",
    "The simulation is saved in a HDF5 file, one for each running engine. The file has the following content:\n",
    "\n",
    "- <big>**/parameters**</big>\n",
    "    \n",
    "    * Numeric parameters (storead as scalar arrays)\n",
    "        - `D`\n",
    "        - `t_step`\n",
    "        - `t_max`\n",
    "        - `EID`\n",
    "        - `ID`\n",
    "        - `chunksize`: used for `emission` and `position` arrays\n",
    "        - `np`: number of particles\n",
    "        - `pMol`: particles concentration in pico-Molar\n",
    "\n",
    "    * Non-numeric parameters (stored as group attributes)\n",
    "        - `box`: the `Box()` object (stores boundaries and size)\n",
    "        - `particles`: the `Particles()` object, a list of `Particle()` \n",
    "           (containing the initial position  positions) and seed.\n",
    "\n",
    "\n",
    "- <big>**/psf**</big>\n",
    "    * Arrays of PSF used in the simulation. This is the raw array as saved from PSFLab. The name of the array is the same as the origina file name. The PSF array has the following attributes:\n",
    "        - 'fname', 'dir_', 'x_step', 'z_step'\n",
    "            * The array and its attributes allow to recreate the `NumericPSF()` object on a simulation reload.\n",
    "        - **TODO**: 'wavelength', 'NA', and other PSFLab parameters\n",
    "    * `default_psf`: hard link to the PSF used in the simualation, used as persistent name\n",
    "\n",
    "\n",
    "- <big>**/trajectories**</big>\n",
    "    * `emission`: 2D array of emission traces: one row per particle. Shape: (num_particles, time)\n",
    "    * `emission_tot`: 1D array of emission trace: total emission from all the particles: Shape: (time)\n",
    "    * `position`: 3D array of positions. Shape (num_particles, 3, time)\n",
    "\n",
    "\n",
    "- <big>**/timestamps**</big>\n",
    "    * Arrays of timestamps for different `rate_max`, `bg_rate` and `seed`.\n",
    "\n",
    "## How to access\n",
    "\n",
    "The HDF5 file handle is in `S.store.data_file` after you run `S.open_store()`:"
   ]
  },
  {
   "cell_type": "code",
   "execution_count": 3,
   "metadata": {
    "collapsed": false
   },
   "outputs": [],
   "source": [
    "S.open_store(chunksize=2**20)"
   ]
  },
  {
   "cell_type": "code",
   "execution_count": 4,
   "metadata": {
    "collapsed": false
   },
   "outputs": [
    {
     "name": "stdout",
     "output_type": "stream",
     "text": [
      "[PID 1344] Simulation chunk: . . . . . . . . .\n"
     ]
    }
   ],
   "source": [
    "# Simulate 3D diffusion and emission\n",
    "S.sim_brownian_motion(total_emission=False, save_pos=True)"
   ]
  },
  {
   "cell_type": "code",
   "execution_count": 5,
   "metadata": {
    "collapsed": false
   },
   "outputs": [
    {
     "name": "stdout",
     "output_type": "stream",
     "text": [
      "INFO: Random state initialized from seed (1).\n"
     ]
    }
   ],
   "source": [
    "# Generate timestamps\n",
    "S.sim_timestamps_em_store(max_rate=3e5, bg_rate=2e3, seed=1)"
   ]
  },
  {
   "cell_type": "code",
   "execution_count": 6,
   "metadata": {
    "collapsed": false
   },
   "outputs": [
    {
     "data": {
      "text/plain": [
       "'7798be_D1.2e-11_15P_32pM_step0.5us'"
      ]
     },
     "execution_count": 6,
     "metadata": {},
     "output_type": "execute_result"
    }
   ],
   "source": [
    "S.compact_name_core()"
   ]
  },
  {
   "cell_type": "code",
   "execution_count": 7,
   "metadata": {
    "collapsed": false
   },
   "outputs": [
    {
     "data": {
      "text/plain": [
       "'7798be_D1.2e-11_15P_32pM_step0.5us_t_max0.3s'"
      ]
     },
     "execution_count": 7,
     "metadata": {},
     "output_type": "execute_result"
    }
   ],
   "source": [
    "S.compact_name_core(t_max=True)"
   ]
  },
  {
   "cell_type": "code",
   "execution_count": 8,
   "metadata": {
    "collapsed": false
   },
   "outputs": [
    {
     "data": {
      "text/plain": [
       "'7798be_D1.2e-11_15P_32pM_step0.5us_t_max0.3s_ID0-0'"
      ]
     },
     "execution_count": 8,
     "metadata": {},
     "output_type": "execute_result"
    }
   ],
   "source": [
    "S.compact_name()"
   ]
  },
  {
   "cell_type": "code",
   "execution_count": 8,
   "metadata": {
    "collapsed": false
   },
   "outputs": [],
   "source": []
  },
  {
   "cell_type": "markdown",
   "metadata": {},
   "source": [
    "#HDF5 File inspection"
   ]
  },
  {
   "cell_type": "code",
   "execution_count": 9,
   "metadata": {
    "collapsed": false
   },
   "outputs": [
    {
     "name": "stdout",
     "output_type": "stream",
     "text": [
      "Main groups:\n",
      "\n",
      "/parameters (Group) 'Simulation parameters'\n",
      "\tD\n",
      "\t    Diffusion coefficient (m^2/s)\n",
      "\tEID\n",
      "\t    IPython Engine ID (int)\n",
      "\tID\n",
      "\t    Simulation ID (int)\n",
      "\tchunksize\n",
      "\t    Chunksize for arrays\n",
      "\tnp\n",
      "\t    Number of simulated particles\n",
      "\tpico_mol\n",
      "\t    Particles concentration (pM)\n",
      "\tt_max\n",
      "\t    Simulation total time (s)\n",
      "\tt_step\n",
      "\t    Simulation time-step (s)\n",
      "/psf (Group) 'PSFs used in the simulation'\n",
      "\tdefault_psf\n",
      "\t    PSF x-z slice (PSFLab array)\n",
      "\txz_realistic_z50_150_160_580nm_n1335_HR2\n",
      "\t    PSF x-z slice (PSFLab array)\n",
      "/timestamps (Group) 'Timestamps of emitted photons'\n",
      "\tmax_rate300kcps_bg2000cps_rs_bfb8\n",
      "\t    Simulated photon timestamps\n",
      "\tmax_rate300kcps_bg2000cps_rs_bfb8_par\n",
      "\t    Particle number for each timestamp\n",
      "/trajectories (Group) 'Simulated trajectories'\n",
      "\temission\n",
      "\t    Emission trace of each particle\n",
      "\temission_tot\n",
      "\t    Summed emission trace of all the particles\n",
      "\tposition\n",
      "\t    3-D position trace of each particle\n"
     ]
    }
   ],
   "source": [
    "print 'Main groups:\\n'\n",
    "for node in S.store.data_file.root:\n",
    "    print node\n",
    "    for n in node:\n",
    "        print '\\t%s' % n.name\n",
    "        print '\\t    %s' % n.title"
   ]
  },
  {
   "cell_type": "code",
   "execution_count": 10,
   "metadata": {
    "collapsed": false
   },
   "outputs": [],
   "source": [
    "dfile = S.store.data_file"
   ]
  },
  {
   "cell_type": "code",
   "execution_count": 11,
   "metadata": {
    "collapsed": false
   },
   "outputs": [
    {
     "data": {
      "text/plain": [
       "['CLASS', 'PYTABLES_FORMAT_VERSION', 'TITLE', 'VERSION']"
      ]
     },
     "execution_count": 11,
     "metadata": {},
     "output_type": "execute_result"
    }
   ],
   "source": [
    "dfile.root._v_attrs._f_list('all')"
   ]
  },
  {
   "cell_type": "code",
   "execution_count": 12,
   "metadata": {
    "collapsed": false
   },
   "outputs": [
    {
     "data": {
      "text/plain": [
       "['CLASS', 'PYTABLES_FORMAT_VERSION', 'TITLE', 'VERSION']"
      ]
     },
     "execution_count": 12,
     "metadata": {},
     "output_type": "execute_result"
    }
   ],
   "source": [
    "dfile.root._v_attrs._v_attrnames"
   ]
  },
  {
   "cell_type": "code",
   "execution_count": 13,
   "metadata": {
    "collapsed": false
   },
   "outputs": [
    {
     "data": {
      "text/plain": [
       "True"
      ]
     },
     "execution_count": 13,
     "metadata": {},
     "output_type": "execute_result"
    }
   ],
   "source": [
    "'TITLE' in dfile.root._v_attrs"
   ]
  },
  {
   "cell_type": "code",
   "execution_count": null,
   "metadata": {
    "collapsed": false
   },
   "outputs": [],
   "source": []
  },
  {
   "cell_type": "code",
   "execution_count": null,
   "metadata": {
    "collapsed": false
   },
   "outputs": [],
   "source": []
  },
  {
   "cell_type": "markdown",
   "metadata": {},
   "source": [
    "## Group: /parameters"
   ]
  },
  {
   "cell_type": "code",
   "execution_count": 14,
   "metadata": {
    "collapsed": false
   },
   "outputs": [
    {
     "name": "stdout",
     "output_type": "stream",
     "text": [
      "Numeric attributes (nodes) in /parameters:\n",
      "\n",
      "/parameters (Group) 'Simulation parameters'\n",
      "\tD (1.2e-11)\n",
      "\t    Diffusion coefficient (m^2/s)\n",
      "\tEID (0)\n",
      "\t    IPython Engine ID (int)\n",
      "\tID (0)\n",
      "\t    Simulation ID (int)\n",
      "\tchunksize (1048576)\n",
      "\t    Chunksize for arrays\n",
      "\tnp (15)\n",
      "\t    Number of simulated particles\n",
      "\tpico_mol (32.4324023632)\n",
      "\t    Particles concentration (pM)\n",
      "\tt_max (0.3)\n",
      "\t    Simulation total time (s)\n",
      "\tt_step (5e-07)\n",
      "\t    Simulation time-step (s)\n"
     ]
    }
   ],
   "source": [
    "group = '/parameters'\n",
    "\n",
    "print 'Numeric attributes (nodes) in %s:\\n' % group\n",
    "\n",
    "print S.store.data_file.get_node(group)\n",
    "for node in S.store.data_file.get_node(group)._f_list_nodes():\n",
    "    print '\\t%s (%s)' % (node.name, str(node.read()))\n",
    "    print '\\t    %s' % node.title"
   ]
  },
  {
   "cell_type": "code",
   "execution_count": 15,
   "metadata": {
    "collapsed": false
   },
   "outputs": [
    {
     "name": "stdout",
     "output_type": "stream",
     "text": [
      "Attributes in /parameters:\n",
      "\n",
      "/parameters (Group) 'Simulation parameters'\n",
      "\tbox\n",
      "\t    <type 'instance'>\n",
      "\tparticles\n",
      "\t    <class '__main__.Particles'>\n"
     ]
    }
   ],
   "source": [
    "group = '/parameters'\n",
    "\n",
    "print 'Attributes in %s:\\n' % group\n",
    "\n",
    "print S.store.data_file.get_node(group)\n",
    "for attr in S.store.data_file.get_node(group)._v_attrs._f_list():\n",
    "    print '\\t%s' % attr\n",
    "    print '\\t    %s' % type(S.store.data_file.get_node(group)._v_attrs[attr])"
   ]
  },
  {
   "cell_type": "code",
   "execution_count": 16,
   "metadata": {
    "collapsed": false
   },
   "outputs": [],
   "source": [
    "particles = S.store.data_file.root.parameters._f_getattr('particles')"
   ]
  },
  {
   "cell_type": "code",
   "execution_count": 17,
   "metadata": {
    "collapsed": false
   },
   "outputs": [
    {
     "data": {
      "text/plain": [
       "(15, 'bfb')"
      ]
     },
     "execution_count": 17,
     "metadata": {},
     "output_type": "execute_result"
    }
   ],
   "source": [
    "len(particles), particles.rs_hash"
   ]
  },
  {
   "cell_type": "markdown",
   "metadata": {},
   "source": [
    "## Group /psf"
   ]
  },
  {
   "cell_type": "code",
   "execution_count": 18,
   "metadata": {
    "collapsed": false
   },
   "outputs": [
    {
     "name": "stdout",
     "output_type": "stream",
     "text": [
      "Nodes in in /psf:\n",
      "\n",
      "/psf (Group) 'PSFs used in the simulation'\n",
      "\tdefault_psf (193, 129)\n",
      "\t    PSF x-z slice (PSFLab array)\n",
      "\txz_realistic_z50_150_160_580nm_n1335_HR2 (193L, 129L)\n",
      "\t    PSF x-z slice (PSFLab array)\n"
     ]
    }
   ],
   "source": [
    "group = '/psf'\n",
    "\n",
    "print 'Nodes in in %s:\\n' % group\n",
    "\n",
    "print S.store.data_file.get_node(group)\n",
    "for node in S.store.data_file.get_node(group)._f_list_nodes():\n",
    "    print '\\t%s %s' % (node.name, node.shape)\n",
    "    print '\\t    %s' % node.title"
   ]
  },
  {
   "cell_type": "markdown",
   "metadata": {},
   "source": [
    "###`default_psf` attributes"
   ]
  },
  {
   "cell_type": "code",
   "execution_count": 19,
   "metadata": {
    "collapsed": false
   },
   "outputs": [
    {
     "name": "stdout",
     "output_type": "stream",
     "text": [
      "\n",
      "default_psf (193, 129): 'PSF x-z slice (PSFLab array)'\n",
      "\n",
      "    List of attributes:\n",
      "\tdir_\n",
      "\t    'psf_data/'\n",
      "\tfname\n",
      "\t    'xz_realistic_z50_150_160_580nm_n1335_HR2'\n",
      "\tx_step\n",
      "\t    0.0625\n",
      "\tz_step\n",
      "\t    0.0625\n"
     ]
    }
   ],
   "source": [
    "node_name = '/psf/default_psf'\n",
    "node = S.store.data_file.get_node(node_name)\n",
    "\n",
    "print \"\\n%s %s: '%s'\" % (node.name, node.shape, node.title)\n",
    "print '\\n    List of attributes:'\n",
    "for attr in node.attrs._f_list():\n",
    "    print '\\t%s' % attr\n",
    "    print \"\\t    %s\" % repr(node._v_attrs[attr])"
   ]
  },
  {
   "cell_type": "markdown",
   "metadata": {},
   "source": [
    "## Group /trajectories"
   ]
  },
  {
   "cell_type": "code",
   "execution_count": 20,
   "metadata": {
    "collapsed": false
   },
   "outputs": [
    {
     "name": "stdout",
     "output_type": "stream",
     "text": [
      "Nodes in in /trajectories:\n",
      "\n",
      "/trajectories (Group) 'Simulated trajectories'\n",
      "\temission (15, 600000)\n",
      "\t    Emission trace of each particle\n",
      "\temission_tot (0,)\n",
      "\t    Summed emission trace of all the particles\n",
      "\tposition (15, 3, 600000)\n",
      "\t    3-D position trace of each particle\n"
     ]
    }
   ],
   "source": [
    "group = '/trajectories'\n",
    "\n",
    "print 'Nodes in in %s:\\n' % group\n",
    "\n",
    "print S.store.data_file.get_node(group)\n",
    "for node in S.store.data_file.get_node(group)._f_list_nodes():\n",
    "    print '\\t%s %s' % (node.name, node.shape)\n",
    "    print '\\t    %s' % node.title"
   ]
  },
  {
   "cell_type": "code",
   "execution_count": 21,
   "metadata": {
    "collapsed": false
   },
   "outputs": [
    {
     "name": "stdout",
     "output_type": "stream",
     "text": [
      "Attributes in /trajectories:\n",
      "\n",
      "/trajectories (Group) 'Simulated trajectories'\n",
      "\tinit_random_state\n",
      "\t    <type 'tuple'>\n",
      "\tlast_random_state\n",
      "\t    <type 'tuple'>\n",
      "\tpsf_name\n",
      "\t    <type 'numpy.string_'>\n"
     ]
    }
   ],
   "source": [
    "group = '/trajectories'\n",
    "\n",
    "print 'Attributes in %s:\\n' % group\n",
    "\n",
    "print S.store.data_file.get_node(group)\n",
    "for attr in S.store.data_file.get_node(group)._v_attrs._f_list():\n",
    "    print '\\t%s' % attr\n",
    "    print '\\t    %s' % type(S.store.data_file.get_node(group)._v_attrs[attr])"
   ]
  },
  {
   "cell_type": "markdown",
   "metadata": {},
   "source": [
    "###`emission` attributes"
   ]
  },
  {
   "cell_type": "code",
   "execution_count": 22,
   "metadata": {
    "collapsed": false
   },
   "outputs": [
    {
     "name": "stdout",
     "output_type": "stream",
     "text": [
      "\n",
      "emission (15, 600000): 'Emission trace of each particle'\n",
      "\n",
      "    List of attributes:\n"
     ]
    }
   ],
   "source": [
    "node_name = '/trajectories/emission'\n",
    "node = S.store.data_file.get_node(node_name)\n",
    "\n",
    "print \"\\n%s %s: '%s'\" % (node.name, node.shape, node.title)\n",
    "print '\\n    List of attributes:'\n",
    "for attr in node.attrs._f_list():\n",
    "    print '\\t%s' % attr\n",
    "    attr_data = repr(node._v_attrs[attr])\n",
    "    if len(attr_data) > 300:\n",
    "        attr_data = hash_(node._v_attrs[attr])\n",
    "    print \"\\t    %s\" % attr_data"
   ]
  },
  {
   "cell_type": "markdown",
   "metadata": {},
   "source": [
    "###`position` attributes"
   ]
  },
  {
   "cell_type": "code",
   "execution_count": 23,
   "metadata": {
    "collapsed": false
   },
   "outputs": [
    {
     "name": "stdout",
     "output_type": "stream",
     "text": [
      "\n",
      "position (15, 3, 600000): '3-D position trace of each particle'\n",
      "\n",
      "    List of attributes:\n"
     ]
    }
   ],
   "source": [
    "node_name = '/trajectories/position'\n",
    "if node_name in S.store.data_file:\n",
    "    node = S.store.data_file.get_node(node_name)\n",
    "    \n",
    "    print \"\\n%s %s: '%s'\" % (node.name, node.shape, node.title)\n",
    "    print '\\n    List of attributes:'\n",
    "    for attr in node.attrs._f_list():\n",
    "        print '\\t%s' % attr\n",
    "        print \"\\t    %s\" % repr(node._v_attrs[attr])\n",
    "else:\n",
    "    print '%s not present.'"
   ]
  },
  {
   "cell_type": "markdown",
   "metadata": {},
   "source": [
    "## Group /timestamps"
   ]
  },
  {
   "cell_type": "code",
   "execution_count": 24,
   "metadata": {
    "collapsed": false
   },
   "outputs": [
    {
     "name": "stdout",
     "output_type": "stream",
     "text": [
      "Nodes in in /timestamps:\n",
      "\n",
      "/timestamps (Group) 'Timestamps of emitted photons'\n",
      "\tmax_rate300kcps_bg2000cps_rs_bfb8\n",
      "\t    Simulated photon timestamps\n",
      "\tmax_rate300kcps_bg2000cps_rs_bfb8_par\n",
      "\t    Particle number for each timestamp\n"
     ]
    }
   ],
   "source": [
    "group = '/timestamps'\n",
    "\n",
    "print 'Nodes in in %s:\\n' % group\n",
    "\n",
    "print S.store.data_file.get_node(group)\n",
    "for node in S.store.data_file.get_node(group)._f_list_nodes():\n",
    "    print '\\t%s' % node.name\n",
    "    print '\\t    %s' % node.title"
   ]
  },
  {
   "cell_type": "code",
   "execution_count": 25,
   "metadata": {
    "collapsed": false
   },
   "outputs": [
    {
     "name": "stdout",
     "output_type": "stream",
     "text": [
      "Attributes in /timestamps:\n",
      "\n",
      "/timestamps (Group) 'Timestamps of emitted photons'\n",
      "\tlast_random_state\n",
      "\t    <type 'tuple'>\n"
     ]
    }
   ],
   "source": [
    "group = '/timestamps'\n",
    "\n",
    "print 'Attributes in %s:\\n' % group\n",
    "\n",
    "print S.store.data_file.get_node(group)\n",
    "for attr in S.store.data_file.get_node(group)._v_attrs._f_list():\n",
    "    print '\\t%s' % attr\n",
    "    print '\\t    %s' % type(S.store.data_file.get_node(group)._v_attrs[attr])"
   ]
  },
  {
   "cell_type": "code",
   "execution_count": 26,
   "metadata": {
    "collapsed": false
   },
   "outputs": [
    {
     "name": "stdout",
     "output_type": "stream",
     "text": [
      ">> Nodes in /timestamps (Group) 'Timestamps of emitted photons'\n",
      "\n",
      "max_rate300kcps_bg2000cps_rs_bfb8 (889,): 'Simulated photon timestamps'\n",
      "\n",
      "    List of attributes:\n",
      "\tbg_rate\n",
      "\t    2000.0\n",
      "\tclk_p\n",
      "\t    4.9999999999999998e-08\n",
      "\tinit_random_state\n",
      "\t    bfb867eb5c5858e04685b790d6370c458b9747d6\n",
      "\tmax_rate\n",
      "\t    300000.0\n",
      "\n",
      "max_rate300kcps_bg2000cps_rs_bfb8_par (889,): 'Particle number for each timestamp'\n",
      "\n",
      "    List of attributes:\n",
      "\tbg_particle\n",
      "\t    15\n",
      "\tnum_particles\n",
      "\t    15\n",
      "\n",
      ">> Attributes in /timestamps:\n",
      "\n",
      "/timestamps (Group) 'Timestamps of emitted photons'\n",
      "\tlast_random_state\n",
      "\t    <type 'tuple'>\n"
     ]
    }
   ],
   "source": [
    "group = '/timestamps'\n",
    "\n",
    "print '>> Nodes in %s' % S.store.data_file.get_node(group)\n",
    "\n",
    "for node in S.store.data_file.get_node(group)._f_list_nodes():\n",
    "    #print '\\t%s' % node.name\n",
    "    #print '\\t    %s' % node.title\n",
    "    print \"\\n%s %s: '%s'\" % (node.name, node.shape, node.title)\n",
    "    print '\\n    List of attributes:'\n",
    "    for attr in node.attrs._f_list():\n",
    "        print '\\t%s' % attr\n",
    "        attr_data = repr(node._v_attrs[attr])\n",
    "        if len(attr_data) > 300:\n",
    "            attr_data = hash_(node._v_attrs[attr])\n",
    "        print \"\\t    %s\" % attr_data\n",
    "        \n",
    "print '\\n>> Attributes in %s:\\n' % group\n",
    "\n",
    "print S.store.data_file.get_node(group)\n",
    "for attr in S.store.data_file.get_node(group)._v_attrs._f_list():\n",
    "    print '\\t%s' % attr\n",
    "    print '\\t    %s' % type(S.store.data_file.get_node(group)._v_attrs[attr])"
   ]
  },
  {
   "cell_type": "code",
   "execution_count": 45,
   "metadata": {
    "collapsed": false
   },
   "outputs": [],
   "source": [
    "S.store.close()"
   ]
  },
  {
   "cell_type": "code",
   "execution_count": 29,
   "metadata": {
    "collapsed": false
   },
   "outputs": [
    {
     "data": {
      "text/plain": [
       "'pybromo_7798be_D1.2e-11_15P_32pM_step0.5us_t_max0.3s_ID0-0.hdf5'"
      ]
     },
     "execution_count": 29,
     "metadata": {},
     "output_type": "execute_result"
    }
   ],
   "source": [
    "S.store_fname"
   ]
  },
  {
   "cell_type": "code",
   "execution_count": 30,
   "metadata": {
    "collapsed": false
   },
   "outputs": [],
   "source": [
    "S = load_simulation(S.store_fname)"
   ]
  },
  {
   "cell_type": "markdown",
   "metadata": {},
   "source": [
    "#Random State: reprodicibility and high-quality pseudo-random numbers"
   ]
  },
  {
   "cell_type": "markdown",
   "metadata": {},
   "source": [
    "PyBromo uses Numpy's [`RandomState`](http://docs.scipy.org/doc/numpy/reference/generated/numpy.random.RandomState.html)\n",
    "object to track the current state of the random number generator at different \n",
    "simulation stages. \n",
    "\n",
    "Tracking the random state has a dual purpose. First, it allows to reproduce\n",
    "any simulation step.\n",
    "\n",
    "Second, it allows to mantain an high-quality pseudo-random number stream when \n",
    "the simulation is resumed. This point is more subtle. Simulation can be performed \n",
    "in different steps. When resuming a simulation to proceed to the nex step it is important \n",
    "to use the last saved random state. In fact, by resetting the random state using an arbitrary\n",
    "seed we may easily introduce correlation between the previous and current stream of random numbers. \n",
    "For example streams generated with seeds 1 and 2 will be correlated \n",
    "(up to 1e6 samples!) because many bits in the seed are the same. This is a property of the \n",
    "[Mersenne twister](http://en.wikipedia.org/wiki/Mersenne_twister)\n",
    "algorithm (see also [this paper](http://www.iro.umontreal.ca/~lecuyer/myftp/papers/wellrng.pdf)). \n",
    "To avoid this well-known problem we need to use a single stream by freezing (saving) and restoring \n",
    "the random state at each step.\n",
    "\n",
    "Notice that there are 3 steps that require random numbers:\n",
    "\n",
    "1. Generating the initial **particles position**\n",
    "2. **Brownian motion** trajectories simulation (3-D trajectories + emission rates)\n",
    "3. Generating **timestamps** based on the emission rates\n",
    "\n",
    "The random state is tracked as follows:\n",
    "\n",
    "1. When generating the particles with `gen_particles` the new `Particles` object \n",
    "will contain the `.init_random_state` attribute (and, as a convenience, a 3 digit \n",
    "hash in `.rs_hash`)\n",
    "2. Whem performing the Brownian motion simulation with `.sim_brownian_motion`,\n",
    "the '/trajectories' group (shortcut `S.traj_group`) will store the initial and \n",
    "the final state as group attributes: `.init_random_state` and `.last_random_state`.\n",
    "The assumption is that we simulate only 1 Browian motion diffusion per object\n",
    "so makes sense to store these values as group attributes.\n",
    "3. When generating timestamps with `S.sim_timestamps_em_store`, we will generate\n",
    "timestamps several times for different emission or background rates. Therefore\n",
    "the '/timestamps' group (shortcut`S.ts_group`) contains the `last_random_state`\n",
    "attribute and each timestamp array contains the `init_random_state` attribute.\n",
    "\n",
    "> **NOTE:** Since the random-state data structure ([a tuple of a string, an array, and 3 numbers](http://docs.scipy.org/doc/numpy/reference/generated/numpy.random.get_state.html)) \n",
    "> is numpy-specific we save it without any conversion. In fact, using the same random state \n",
    "> in another programming language would require a deep understanding of the Mersenne twister \n",
    "> implementation. Not to mention that a proprietary language may not provide such level of details\n",
    "> to the user. Anyway, if you are motivated to use the random state in another language, an \n",
    "> additional conversion from numpy format would be the least of your problems."
   ]
  },
  {
   "cell_type": "code",
   "execution_count": null,
   "metadata": {
    "collapsed": false
   },
   "outputs": [],
   "source": []
  },
  {
   "cell_type": "code",
   "execution_count": null,
   "metadata": {
    "collapsed": false
   },
   "outputs": [],
   "source": []
  },
  {
   "cell_type": "code",
   "execution_count": null,
   "metadata": {
    "collapsed": false
   },
   "outputs": [],
   "source": []
  },
  {
   "cell_type": "code",
   "execution_count": null,
   "metadata": {
    "collapsed": false
   },
   "outputs": [],
   "source": []
  },
  {
   "cell_type": "code",
   "execution_count": null,
   "metadata": {
    "collapsed": false
   },
   "outputs": [],
   "source": []
  },
  {
   "cell_type": "code",
   "execution_count": null,
   "metadata": {
    "collapsed": false
   },
   "outputs": [],
   "source": []
  },
  {
   "cell_type": "markdown",
   "metadata": {},
   "source": [
    "##Notebook style"
   ]
  },
  {
   "cell_type": "code",
   "execution_count": 27,
   "metadata": {
    "collapsed": false
   },
   "outputs": [
    {
     "name": "stdout",
     "output_type": "stream",
     "text": [
      "C:\\Data\\Antonio\\software\\Dropbox\\notebooks\\pybromo\n"
     ]
    }
   ],
   "source": [
    "cd $NOTEBOOK_DIR"
   ]
  },
  {
   "cell_type": "code",
   "execution_count": 28,
   "metadata": {
    "collapsed": false
   },
   "outputs": [
    {
     "data": {
      "text/html": [
       "<style>\n",
       "    @font-face {\n",
       "        font-family: \"Computer Modern\";\n",
       "        src: url('http://mirrors.ctan.org/fonts/cm-unicode/fonts/otf/cmunss.otf');\n",
       "    }\n",
       "    div.cell{\n",
       "        width:900px;\n",
       "        margin-left:8% !important;\n",
       "        margin-right:auto;\n",
       "    }\n",
       "    div.text_cell_render{\n",
       "        font-family: Computer Modern, \"Helvetica Neue\", Arial, Helvetica, Geneva, sans-serif;\n",
       "        line-height: 145%;\n",
       "        font-size: 110%;\n",
       "        width:800px;\n",
       "        margin-left:auto;\n",
       "        margin-right:auto;\n",
       "    }\n",
       "    blockquote  p {\n",
       "\t/*margin: 1em 2em;*/\n",
       "\tline-height: 140%;\n",
       "    }\n",
       "\n",
       "    .rendered_html code {\n",
       "\tbackground-color: #f7f7f7;\n",
       "\tborder: 1px solid #dddddd;\n",
       "\tcolor: black;\n",
       "\tline-height: 1.1em;\n",
       "    \tpadding: 0.15em;\n",
       "\tfont-size: 85%;\n",
       "    }\n",
       "\n",
       "    .CodeMirror{\n",
       "            font-family: \"Source Code Pro\", source-code-pro,Consolas, monospace;\n",
       "    }\n",
       "    /*.prompt{\n",
       "        display: None;\n",
       "    }*/\n",
       "    \n",
       "</style>\n"
      ],
      "text/plain": [
       "<IPython.core.display.HTML at 0x13c7b2e8>"
      ]
     },
     "execution_count": 28,
     "metadata": {},
     "output_type": "execute_result"
    }
   ],
   "source": [
    "from IPython.core.display import HTML\n",
    "HTML(open(\"./styles/custom2.css\", \"r\").read())"
   ]
  },
  {
   "cell_type": "code",
   "execution_count": null,
   "metadata": {
    "collapsed": false
   },
   "outputs": [],
   "source": []
  }
 ],
 "metadata": {
  "kernelspec": {
   "display_name": "Python 3",
   "language": "python",
   "name": "python3"
  },
  "language_info": {
   "codemirror_mode": {
    "name": "ipython",
    "version": 3
   },
   "file_extension": ".py",
   "mimetype": "text/x-python",
   "name": "python",
   "nbconvert_exporter": "python",
   "pygments_lexer": "ipython3",
   "version": "3.4.3"
  }
 },
 "nbformat": 4,
 "nbformat_minor": 0
}
