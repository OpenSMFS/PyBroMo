{
 "cells": [
  {
   "cell_type": "code",
   "execution_count": null,
   "metadata": {},
   "outputs": [],
   "source": [
    "import numpy as np\n",
    "import matplotlib.pyplot as plt\n",
    "\n",
    "import pybromo as pbm\n",
    "print('PyBroMo version:', pbm.__version__)"
   ]
  },
  {
   "cell_type": "markdown",
   "metadata": {},
   "source": [
    "# Define PSFs"
   ]
  },
  {
   "cell_type": "code",
   "execution_count": null,
   "metadata": {},
   "outputs": [],
   "source": [
    "sx = sy = 0.2e-6; sz = 0.8e-6\n",
    "psfg = pbm.GaussianPSF(sx=sx, sy=sy, sz=sz)\n",
    "psfn = pbm.NumericPSF()"
   ]
  },
  {
   "cell_type": "code",
   "execution_count": null,
   "metadata": {},
   "outputs": [],
   "source": [
    "psfg.eval_xz(0.1e-6, 0.1e-6)"
   ]
  },
  {
   "cell_type": "code",
   "execution_count": null,
   "metadata": {},
   "outputs": [],
   "source": [
    "psfn.eval_xz(0.1e-6, 0.1e-6)"
   ]
  },
  {
   "cell_type": "code",
   "execution_count": null,
   "metadata": {},
   "outputs": [],
   "source": [
    "z_peak = psfn.zi[psfn.zm] * 1e-6\n",
    "z_peak"
   ]
  },
  {
   "cell_type": "code",
   "execution_count": null,
   "metadata": {},
   "outputs": [],
   "source": [
    "dx = dz = 0.01\n",
    "x = np.arange(-4, 4, dx) * 1e-6\n",
    "z = np.arange(-6, 6, dz) * 1e-6\n",
    "X, Z = np.meshgrid(x, z)\n",
    "X.shape, Z.shape"
   ]
  },
  {
   "cell_type": "code",
   "execution_count": null,
   "metadata": {},
   "outputs": [],
   "source": [
    "idx_z0 = np.abs(z).argmin()\n",
    "idx_x0 = np.abs(x).argmin()\n",
    "\n",
    "x[idx_x0], z[idx_z0]"
   ]
  },
  {
   "cell_type": "markdown",
   "metadata": {},
   "source": [
    "# Evaluate PSFs"
   ]
  },
  {
   "cell_type": "code",
   "execution_count": null,
   "metadata": {},
   "outputs": [],
   "source": [
    "Ig = psfg.eval_xz(X, Z)\n",
    "\n",
    "plt.figure(figsize=(10, 6))\n",
    "plt.imshow(Ig.T, extent=(z[0]*1e6, z[-1]*1e6, x[0]*1e6, x[-1]*1e6), origin='lower')\n",
    "plt.grid(False)\n",
    "plt.xlabel('μm'); plt.ylabel('μm');"
   ]
  },
  {
   "cell_type": "code",
   "execution_count": null,
   "metadata": {},
   "outputs": [],
   "source": [
    "In = psfn.eval_xz(np.abs(X), Z)\n",
    "\n",
    "plt.figure(figsize=(10, 60))\n",
    "plt.imshow(In.T, extent=(z[0]*1e6, z[-1]*1e6, x[0]*1e6, x[-1]*1e6), origin='lower')\n",
    "plt.grid(False)\n",
    "plt.xlabel('μm'); plt.ylabel('μm');"
   ]
  },
  {
   "cell_type": "code",
   "execution_count": null,
   "metadata": {},
   "outputs": [],
   "source": [
    "plt.plot((z - z_peak)*1e6, psfn.eval_xz(0, z))\n",
    "plt.plot(z*1e6, psfg.eval_xz(0, z))\n",
    "plt.xlabel('Z (μm)');"
   ]
  },
  {
   "cell_type": "code",
   "execution_count": null,
   "metadata": {},
   "outputs": [],
   "source": [
    "plt.plot(x*1e6, psfn.eval_xz(np.abs(x), z_peak))\n",
    "plt.plot(x*1e6, psfg.eval_xz(x, 0))\n",
    "plt.xlabel('X (μm)');"
   ]
  },
  {
   "cell_type": "code",
   "execution_count": null,
   "metadata": {},
   "outputs": [],
   "source": [
    "Ig.max(), Ig.min(), Ig.mean()"
   ]
  },
  {
   "cell_type": "code",
   "execution_count": null,
   "metadata": {},
   "outputs": [],
   "source": [
    "In.max(), In.min(), In.mean()"
   ]
  },
  {
   "cell_type": "markdown",
   "metadata": {},
   "source": [
    "> Both PSF are normalized to have a max of 1. So, depending on the shape they can have different energy (i.e. integrals).\n",
    "> The timestamp simulation sets the peak emission rate, which is the photon rate detected if a particle would\n",
    "> stay still in the PSF maximum without diffusing."
   ]
  },
  {
   "cell_type": "markdown",
   "metadata": {},
   "source": [
    "# PSF Integrals\n",
    "\n",
    "Here we compute the PSF integral with different methods."
   ]
  },
  {
   "cell_type": "code",
   "execution_count": null,
   "metadata": {},
   "outputs": [],
   "source": [
    "from scipy import integrate"
   ]
  },
  {
   "cell_type": "code",
   "execution_count": null,
   "metadata": {},
   "outputs": [],
   "source": [
    "def double_integral(I, x, z, integrate=integrate.simps):\n",
    "    n = I.shape[1]\n",
    "    partial_integr_x = np.zeros(n)\n",
    "    for ix in range(n):\n",
    "        partial_integr_x[ix] = integrate(I[:, ix], x=z)\n",
    "        \n",
    "    # Mirror the x if necessary\n",
    "    if x[0] == 0:    \n",
    "        partial_integr_x = np.hstack([partial_integr_x[:0:-1], \n",
    "                                      partial_integr_x])\n",
    "        x = np.hstack([-x[:0:-1], x])\n",
    "    return integrate(partial_integr_x, x=x)"
   ]
  },
  {
   "cell_type": "code",
   "execution_count": null,
   "metadata": {},
   "outputs": [],
   "source": [
    "def gauss_integral_analytical(sigmas):\n",
    "    i = 1\n",
    "    for σ in sigmas:\n",
    "        i *= np.sqrt(2*np.pi) * σ\n",
    "    return i"
   ]
  },
  {
   "cell_type": "markdown",
   "metadata": {},
   "source": [
    "## Gaussian PSF\n",
    "\n",
    "For Gaussians, we have the analytical form of the integral:"
   ]
  },
  {
   "cell_type": "code",
   "execution_count": null,
   "metadata": {},
   "outputs": [],
   "source": [
    "gauss_integral_analytical(psfg.s[1:]*1e6)"
   ]
  },
  {
   "cell_type": "markdown",
   "metadata": {},
   "source": [
    "This matches other methods:"
   ]
  },
  {
   "cell_type": "code",
   "execution_count": null,
   "metadata": {},
   "outputs": [],
   "source": [
    "double_integral(Ig, x*1e6, z*1e6)"
   ]
  },
  {
   "cell_type": "code",
   "execution_count": null,
   "metadata": {},
   "outputs": [],
   "source": [
    "integrate.nquad(lambda x, z: psfg.eval_xz(x*1e-6, z*1e-6), [[-4, 4], [-6, 6]])"
   ]
  },
  {
   "cell_type": "markdown",
   "metadata": {},
   "source": [
    "## Numeric PSF\n",
    "\n",
    "For the numeric PSF, we integrate on the original data points `hdata` (more accurate):"
   ]
  },
  {
   "cell_type": "code",
   "execution_count": null,
   "metadata": {},
   "outputs": [],
   "source": [
    "double_integral(psfn.hdata, psfn.xi, psfn.zi)"
   ]
  },
  {
   "cell_type": "markdown",
   "metadata": {},
   "source": [
    "Integrating on resampled data gives similar results:"
   ]
  },
  {
   "cell_type": "code",
   "execution_count": null,
   "metadata": {},
   "outputs": [],
   "source": [
    "double_integral(In, x*1e6, z*1e6)"
   ]
  },
  {
   "cell_type": "code",
   "execution_count": null,
   "metadata": {},
   "outputs": [],
   "source": [
    "# use trapeziod rule instead of Simpson's\n",
    "double_integral(In, x*1e6, z*1e6, integrate=integrate.trapz)"
   ]
  }
 ],
 "metadata": {
  "kernelspec": {
   "display_name": "py37-sm",
   "language": "python",
   "name": "py37-sm"
  },
  "language_info": {
   "codemirror_mode": {
    "name": "ipython",
    "version": 3
   },
   "file_extension": ".py",
   "mimetype": "text/x-python",
   "name": "python",
   "nbconvert_exporter": "python",
   "pygments_lexer": "ipython3",
   "version": "3.7.2"
  },
  "toc": {
   "base_numbering": 1,
   "nav_menu": {},
   "number_sections": true,
   "sideBar": true,
   "skip_h1_title": false,
   "title_cell": "Table of Contents",
   "title_sidebar": "Contents",
   "toc_cell": false,
   "toc_position": {},
   "toc_section_display": true,
   "toc_window_display": false
  }
 },
 "nbformat": 4,
 "nbformat_minor": 2
}
