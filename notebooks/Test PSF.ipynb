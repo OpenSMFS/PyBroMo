{
 "cells": [
  {
   "cell_type": "code",
   "execution_count": null,
   "metadata": {},
   "outputs": [],
   "source": [
    "import numpy as np\n",
    "import matplotlib.pyplot as plt\n",
    "\n",
    "import pybromo as pbm\n",
    "print('PyBroMo version:', pbm.__version__)"
   ]
  },
  {
   "cell_type": "code",
   "execution_count": null,
   "metadata": {},
   "outputs": [],
   "source": [
    "psfn = pbm.NumericPSF()\n",
    "psfg = pbm.GaussianPSF(sx=0.18e-6, sy=0.18e-6, sz=0.88e-6)"
   ]
  },
  {
   "cell_type": "code",
   "execution_count": null,
   "metadata": {},
   "outputs": [],
   "source": [
    "psfg.eval_xz(0.1e-6, 0.1e-6)"
   ]
  },
  {
   "cell_type": "code",
   "execution_count": null,
   "metadata": {},
   "outputs": [],
   "source": [
    "psfn.eval_xz(0.1e-6, 0.1e-6)"
   ]
  },
  {
   "cell_type": "code",
   "execution_count": null,
   "metadata": {},
   "outputs": [],
   "source": [
    "x = np.arange(0, 3, 0.01) * 1e-6\n",
    "z = np.arange(-6, 6, 0.01) * 1e-6\n",
    "X, Z = np.meshgrid(x, z)\n",
    "X.shape, Z.shape"
   ]
  },
  {
   "cell_type": "code",
   "execution_count": null,
   "metadata": {},
   "outputs": [],
   "source": [
    "Ig = psfg.eval_xz(X, Z)\n",
    "\n",
    "plt.figure(figsize=(24, 3))\n",
    "plt.imshow(Ig.T, extent=(z[0]*1e6, z[-1]*1e6, x[0]*1e6, x[-1]*1e6), origin='lower')\n",
    "plt.grid(False)\n",
    "plt.xlabel('μm'); plt.ylabel('μm');"
   ]
  },
  {
   "cell_type": "code",
   "execution_count": null,
   "metadata": {},
   "outputs": [],
   "source": [
    "In = psfn.eval_xz(X, Z)\n",
    "\n",
    "plt.figure(figsize=(24, 3))\n",
    "plt.imshow(In.T, extent=(z[0]*1e6, z[-1]*1e6, x[0]*1e6, x[-1]*1e6), origin='lower')\n",
    "plt.grid(False)\n",
    "plt.xlabel('μm'); plt.ylabel('μm');"
   ]
  },
  {
   "cell_type": "code",
   "execution_count": null,
   "metadata": {},
   "outputs": [],
   "source": [
    "Ig.max(), Ig.min(), Ig.sum()"
   ]
  },
  {
   "cell_type": "code",
   "execution_count": null,
   "metadata": {},
   "outputs": [],
   "source": [
    "In.max(), In.min(), In.sum()"
   ]
  },
  {
   "cell_type": "markdown",
   "metadata": {},
   "source": [
    "> Both PSF are normalized to have a max of 1. So, depending on the shape they can have different energy (see the output of `sum()` above).\n",
    "> The timestamp simulation sets the peak emission rate, which is the photon rate detected if a particle would\n",
    "> stay still in the PSF maximum without diffusing."
   ]
  },
  {
   "cell_type": "code",
   "execution_count": null,
   "metadata": {},
   "outputs": [],
   "source": []
  }
 ],
 "metadata": {
  "kernelspec": {
   "display_name": "py37-sm",
   "language": "python",
   "name": "py37-sm"
  },
  "language_info": {
   "codemirror_mode": {
    "name": "ipython",
    "version": 3
   },
   "file_extension": ".py",
   "mimetype": "text/x-python",
   "name": "python",
   "nbconvert_exporter": "python",
   "pygments_lexer": "ipython3",
   "version": "3.7.2"
  },
  "toc": {
   "base_numbering": 1,
   "nav_menu": {},
   "number_sections": true,
   "sideBar": true,
   "skip_h1_title": false,
   "title_cell": "Table of Contents",
   "title_sidebar": "Contents",
   "toc_cell": false,
   "toc_position": {},
   "toc_section_display": true,
   "toc_window_display": false
  }
 },
 "nbformat": 4,
 "nbformat_minor": 2
}
